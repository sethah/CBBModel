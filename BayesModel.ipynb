{
 "cells": [
  {
   "cell_type": "code",
   "execution_count": 1,
   "metadata": {
    "collapsed": false
   },
   "outputs": [],
   "source": [
    "%load_ext autoreload\n",
    "%autoreload 2"
   ]
  },
  {
   "cell_type": "code",
   "execution_count": 2,
   "metadata": {
    "collapsed": true
   },
   "outputs": [],
   "source": [
    "import pymc\n",
    "import numpy as np\n",
    "import pandas as pd\n",
    "from DB import DB\n",
    "import util\n",
    "import matplotlib.pyplot as plt\n",
    "%matplotlib inline"
   ]
  },
  {
   "cell_type": "code",
   "execution_count": 13,
   "metadata": {
    "collapsed": false
   },
   "outputs": [],
   "source": [
    "unstacked, stacked, teams = util.get_data(2013)"
   ]
  },
  {
   "cell_type": "code",
   "execution_count": 14,
   "metadata": {
    "collapsed": false
   },
   "outputs": [
    {
     "data": {
      "text/plain": [
       "((5378, 13), (10756, 18), (350, 2), 10756)"
      ]
     },
     "execution_count": 14,
     "metadata": {},
     "output_type": "execute_result"
    }
   ],
   "source": [
    "unstacked.shape, stacked.shape, teams.shape, 2*unstacked.shape[0]"
   ]
  },
  {
   "cell_type": "code",
   "execution_count": 15,
   "metadata": {
    "collapsed": false
   },
   "outputs": [
    {
     "data": {
      "text/html": [
       "<div>\n",
       "<table border=\"1\" class=\"dataframe\">\n",
       "  <thead>\n",
       "    <tr style=\"text-align: right;\">\n",
       "      <th></th>\n",
       "      <th>dt</th>\n",
       "      <th>hteam_id</th>\n",
       "      <th>ateam_id</th>\n",
       "      <th>home_score</th>\n",
       "      <th>away_score</th>\n",
       "      <th>neutral</th>\n",
       "      <th>neutral_site</th>\n",
       "      <th>home_outcome</th>\n",
       "      <th>numot</th>\n",
       "      <th>game_id</th>\n",
       "      <th>opp_string</th>\n",
       "      <th>team</th>\n",
       "      <th>pts</th>\n",
       "      <th>poss</th>\n",
       "      <th>ncaaid</th>\n",
       "      <th>ncaa</th>\n",
       "      <th>team_id</th>\n",
       "      <th>iteam</th>\n",
       "    </tr>\n",
       "  </thead>\n",
       "  <tbody>\n",
       "    <tr>\n",
       "      <th>0</th>\n",
       "      <td>2013-04-04</td>\n",
       "      <td>51</td>\n",
       "      <td>312</td>\n",
       "      <td>74</td>\n",
       "      <td>54</td>\n",
       "      <td>True</td>\n",
       "      <td>Madison Square Garden, New York,NY</td>\n",
       "      <td>True</td>\n",
       "      <td>0</td>\n",
       "      <td>2019716</td>\n",
       "      <td>Iowa</td>\n",
       "      <td>Iowa</td>\n",
       "      <td>54</td>\n",
       "      <td>68.550</td>\n",
       "      <td>312</td>\n",
       "      <td>Iowa</td>\n",
       "      <td>312</td>\n",
       "      <td>122</td>\n",
       "    </tr>\n",
       "    <tr>\n",
       "      <th>1</th>\n",
       "      <td>2013-04-02</td>\n",
       "      <td>312</td>\n",
       "      <td>392</td>\n",
       "      <td>71</td>\n",
       "      <td>60</td>\n",
       "      <td>True</td>\n",
       "      <td>Madison Square Garden, New York, NY</td>\n",
       "      <td>True</td>\n",
       "      <td>0</td>\n",
       "      <td>1999211</td>\n",
       "      <td>Maryland</td>\n",
       "      <td>Iowa</td>\n",
       "      <td>71</td>\n",
       "      <td>63.400</td>\n",
       "      <td>312</td>\n",
       "      <td>Iowa</td>\n",
       "      <td>312</td>\n",
       "      <td>122</td>\n",
       "    </tr>\n",
       "    <tr>\n",
       "      <th>2</th>\n",
       "      <td>2013-03-27</td>\n",
       "      <td>746</td>\n",
       "      <td>312</td>\n",
       "      <td>64</td>\n",
       "      <td>75</td>\n",
       "      <td>False</td>\n",
       "      <td>None</td>\n",
       "      <td>False</td>\n",
       "      <td>0</td>\n",
       "      <td>1981123</td>\n",
       "      <td>Iowa</td>\n",
       "      <td>Iowa</td>\n",
       "      <td>75</td>\n",
       "      <td>65.125</td>\n",
       "      <td>312</td>\n",
       "      <td>Iowa</td>\n",
       "      <td>312</td>\n",
       "      <td>122</td>\n",
       "    </tr>\n",
       "    <tr>\n",
       "      <th>3</th>\n",
       "      <td>2013-03-22</td>\n",
       "      <td>312</td>\n",
       "      <td>683</td>\n",
       "      <td>75</td>\n",
       "      <td>63</td>\n",
       "      <td>False</td>\n",
       "      <td>None</td>\n",
       "      <td>True</td>\n",
       "      <td>0</td>\n",
       "      <td>1948633</td>\n",
       "      <td>Iowa</td>\n",
       "      <td>Iowa</td>\n",
       "      <td>75</td>\n",
       "      <td>62.975</td>\n",
       "      <td>312</td>\n",
       "      <td>Iowa</td>\n",
       "      <td>312</td>\n",
       "      <td>122</td>\n",
       "    </tr>\n",
       "    <tr>\n",
       "      <th>4</th>\n",
       "      <td>2013-03-20</td>\n",
       "      <td>312</td>\n",
       "      <td>305</td>\n",
       "      <td>68</td>\n",
       "      <td>52</td>\n",
       "      <td>False</td>\n",
       "      <td>None</td>\n",
       "      <td>True</td>\n",
       "      <td>0</td>\n",
       "      <td>1942259</td>\n",
       "      <td>Iowa</td>\n",
       "      <td>Iowa</td>\n",
       "      <td>68</td>\n",
       "      <td>65.350</td>\n",
       "      <td>312</td>\n",
       "      <td>Iowa</td>\n",
       "      <td>312</td>\n",
       "      <td>122</td>\n",
       "    </tr>\n",
       "  </tbody>\n",
       "</table>\n",
       "</div>"
      ],
      "text/plain": [
       "           dt  hteam_id  ateam_id  home_score  away_score neutral  \\\n",
       "0  2013-04-04        51       312          74          54    True   \n",
       "1  2013-04-02       312       392          71          60    True   \n",
       "2  2013-03-27       746       312          64          75   False   \n",
       "3  2013-03-22       312       683          75          63   False   \n",
       "4  2013-03-20       312       305          68          52   False   \n",
       "\n",
       "                          neutral_site home_outcome  numot  game_id  \\\n",
       "0   Madison Square Garden, New York,NY         True      0  2019716   \n",
       "1  Madison Square Garden, New York, NY         True      0  1999211   \n",
       "2                                 None        False      0  1981123   \n",
       "3                                 None         True      0  1948633   \n",
       "4                                 None         True      0  1942259   \n",
       "\n",
       "  opp_string  team  pts    poss  ncaaid  ncaa  team_id  iteam  \n",
       "0       Iowa  Iowa   54  68.550     312  Iowa      312    122  \n",
       "1   Maryland  Iowa   71  63.400     312  Iowa      312    122  \n",
       "2       Iowa  Iowa   75  65.125     312  Iowa      312    122  \n",
       "3       Iowa  Iowa   75  62.975     312  Iowa      312    122  \n",
       "4       Iowa  Iowa   68  65.350     312  Iowa      312    122  "
      ]
     },
     "execution_count": 15,
     "metadata": {},
     "output_type": "execute_result"
    }
   ],
   "source": [
    "stacked.head()"
   ]
  },
  {
   "cell_type": "code",
   "execution_count": 16,
   "metadata": {
    "collapsed": false
   },
   "outputs": [],
   "source": [
    "pace_initial = stacked.groupby('iteam').mean()['poss'].values\n",
    "teams['pace_initial'] = pace_initial"
   ]
  },
  {
   "cell_type": "code",
   "execution_count": 18,
   "metadata": {
    "collapsed": false
   },
   "outputs": [],
   "source": [
    "num_teams = teams.shape[0]\n",
    "home_team_idx = unstacked.i_hteam.values\n",
    "away_team_idx = unstacked.i_ateam.values\n",
    "observed_pace = unstacked.poss.values\n",
    "tau = pymc.Uniform('tau', (1. / 20**2), (1. / 3**2))  # equivalent to stddev between 1 and inf\n",
    "pace_prior = pymc.Normal(\"pace_prior\", mu=0, tau=tau, size=num_teams, value=pace_initial)\n",
    "pace_intercept = pymc.Normal('intercept', 4, 1 / (1)**2, value=4)\n",
    "\n",
    "@pymc.deterministic\n",
    "def pace_rtg(pace=pace_prior):\n",
    "    p = pace.copy()\n",
    "    p = p - np.mean(pace)\n",
    "    return p\n",
    "        \n",
    "@pymc.deterministic\n",
    "def mu_pace(home_team=home_team_idx,\n",
    "               away_team=away_team_idx,\n",
    "               paces=pace_rtg,\n",
    "               pace_intercept=pace_intercept):\n",
    "    return pace_intercept + paces[home_team] + paces[away_team]\n",
    "\n",
    "tau_poss = pymc.Uniform('tau_poss', (1 / 20)**0.5,(1 / 1)**0.5)\n",
    "poss = pymc.Normal('poss', mu=mu_pace, tau=tau_poss, value=observed_pace, observed=True)\n",
    "# poss = pymc.Poisson('poss', mu=mu_pace, value=observed_pace, observed=True)\n",
    "poss_pred = pymc.Normal('poss_pred', mu=mu_pace, tau=tau_poss)\n"
   ]
  },
  {
   "cell_type": "code",
   "execution_count": 19,
   "metadata": {
    "collapsed": false
   },
   "outputs": [
    {
     "name": "stdout",
     "output_type": "stream",
     "text": [
      " [-----------------100%-----------------] 10000 of 10000 complete in 10.4 sec"
     ]
    }
   ],
   "source": [
    "model = pymc.Model([mu_pace, pace_prior, tau, pace_rtg, poss, pace_intercept, tau_poss, poss_pred])\n",
    "mcmc = pymc.MCMC(model)\n",
    "mcmc.sample(10000, 3000)"
   ]
  },
  {
   "cell_type": "code",
   "execution_count": 20,
   "metadata": {
    "collapsed": false
   },
   "outputs": [],
   "source": [
    "teams['mean_pace_rtg'] = pace_rtg.stats()['mean']"
   ]
  },
  {
   "cell_type": "code",
   "execution_count": 40,
   "metadata": {
    "collapsed": false
   },
   "outputs": [
    {
     "data": {
      "text/plain": [
       "(350, 4)"
      ]
     },
     "execution_count": 40,
     "metadata": {},
     "output_type": "execute_result"
    }
   ],
   "source": [
    "kenpom = pd.read_sql(\"SELECT adjt, team FROM kenpom_ranks WHERE year=2013\", DB.conn)\n",
    "kenpom = kenpom.merge(all_teams, left_on=\"team\", right_on=\"kenpom\")\n",
    "all_teams = pd.read_sql(\"SELECT kenpom, ncaaid FROM teams\", DB.conn)\n",
    "df = teams.merge(kenpom, left_on='team_id', right_on='ncaaid')\n",
    "df.drop('kenpom', axis=1)\n",
    "# kenpom.head()\n",
    "teams.shape"
   ]
  },
  {
   "cell_type": "code",
   "execution_count": 45,
   "metadata": {
    "collapsed": false
   },
   "outputs": [
    {
     "data": {
      "text/html": [
       "<div>\n",
       "<table border=\"1\" class=\"dataframe\">\n",
       "  <thead>\n",
       "    <tr style=\"text-align: right;\">\n",
       "      <th></th>\n",
       "      <th>team_id</th>\n",
       "      <th>iteam</th>\n",
       "      <th>pace_initial</th>\n",
       "      <th>mean_pace_rtg</th>\n",
       "      <th>adjt</th>\n",
       "      <th>team</th>\n",
       "      <th>kenpom</th>\n",
       "      <th>ncaaid</th>\n",
       "    </tr>\n",
       "  </thead>\n",
       "  <tbody>\n",
       "    <tr>\n",
       "      <th>0</th>\n",
       "      <td>2</td>\n",
       "      <td>0</td>\n",
       "      <td>71.9000</td>\n",
       "      <td>6.824351</td>\n",
       "      <td>NaN</td>\n",
       "      <td>NaN</td>\n",
       "      <td>NaN</td>\n",
       "      <td>NaN</td>\n",
       "    </tr>\n",
       "    <tr>\n",
       "      <th>48</th>\n",
       "      <td>125</td>\n",
       "      <td>48</td>\n",
       "      <td>69.2875</td>\n",
       "      <td>4.379858</td>\n",
       "      <td>NaN</td>\n",
       "      <td>NaN</td>\n",
       "      <td>NaN</td>\n",
       "      <td>NaN</td>\n",
       "    </tr>\n",
       "    <tr>\n",
       "      <th>341</th>\n",
       "      <td>2743</td>\n",
       "      <td>341</td>\n",
       "      <td>68.1375</td>\n",
       "      <td>-1.142663</td>\n",
       "      <td>NaN</td>\n",
       "      <td>NaN</td>\n",
       "      <td>NaN</td>\n",
       "      <td>NaN</td>\n",
       "    </tr>\n",
       "  </tbody>\n",
       "</table>\n",
       "</div>"
      ],
      "text/plain": [
       "     team_id  iteam  pace_initial  mean_pace_rtg  adjt team kenpom  ncaaid\n",
       "0          2      0       71.9000       6.824351   NaN  NaN    NaN     NaN\n",
       "48       125     48       69.2875       4.379858   NaN  NaN    NaN     NaN\n",
       "341     2743    341       68.1375      -1.142663   NaN  NaN    NaN     NaN"
      ]
     },
     "execution_count": 45,
     "metadata": {},
     "output_type": "execute_result"
    }
   ],
   "source": [
    "merged = teams.merge(kenpom, how='left', left_on='team_id', right_on='ncaaid')\n",
    "merged[pd.isnull(merged.ncaaid)]\n",
    "# note: it is hard to get the teams we rate and the kenpom teams to line up exactly,\n",
    "# but we want to compare the rankings (since our scale is not the same as kenpom's scale)\n",
    "# to each other. but how to compare uneven length rankings? We can just inject random place\n",
    "# holders into the lacking ranking and it will be about the same"
   ]
  },
  {
   "cell_type": "code",
   "execution_count": 35,
   "metadata": {
    "collapsed": false
   },
   "outputs": [
    {
     "name": "stdout",
     "output_type": "stream",
     "text": [
      "Plotting intercept\n"
     ]
    },
    {
     "name": "stderr",
     "output_type": "stream",
     "text": [
      "/System/Library/Frameworks/Python.framework/Versions/2.7/Extras/lib/python/matplotlib/collections.py:548: FutureWarning: elementwise comparison failed; returning scalar instead, but in the future will perform elementwise comparison\n",
      "  if self._edgecolors == 'face':\n"
     ]
    },
    {
     "data": {
      "image/png": "[encoded data removed]",
      "text/plain": [
       "<matplotlib.figure.Figure at 0x111b64510>"
      ]
     },
     "metadata": {},
     "output_type": "display_data"
    }
   ],
   "source": [
    "pymc.Matplot.plot(pace_intercept)"
   ]
  },
  {
   "cell_type": "code",
   "execution_count": 36,
   "metadata": {
    "collapsed": false
   },
   "outputs": [
    {
     "data": {
      "text/plain": [
       "(array([ 0.00128536,  0.01327046,  0.04616869,  0.06461532,  0.04012403,\n",
       "         0.01594539,  0.00396029,  0.00100744,  0.00031265,  0.00013896]),\n",
       " array([  47.3625,   52.715 ,   58.0675,   63.42  ,   68.7725,   74.125 ,\n",
       "          79.4775,   84.83  ,   90.1825,   95.535 ,  100.8875]),\n",
       " <a list of 10 Patch objects>)"
      ]
     },
     "execution_count": 36,
     "metadata": {},
     "output_type": "execute_result"
    },
    {
     "data": {
      "image/png": "[encoded data removed]",
      "text/plain": [
       "<matplotlib.figure.Figure at 0x11153de10>"
      ]
     },
     "metadata": {},
     "output_type": "display_data"
    }
   ],
   "source": [
    "plt.hist(poss_pred.trace().ravel(), normed=True, alpha=0.5, bins=20)\n",
    "# plt.hist(observed_pace)\n",
    "plt.hist(observed_pace[~pd.isnull(observed_pace)], color='r', normed=True, alpha=0.5)"
   ]
  },
  {
   "cell_type": "code",
   "execution_count": 13,
   "metadata": {
    "collapsed": true
   },
   "outputs": [],
   "source": [
    "bteams = pd.read_sql(\"SELECT * FROM teams WHERE conf='B10'\", DB.conn)\n",
    "b10_teams = set(bteams.ncaaid.values)"
   ]
  },
  {
   "cell_type": "code",
   "execution_count": 18,
   "metadata": {
    "collapsed": false
   },
   "outputs": [
    {
     "data": {
      "text/html": [
       "<div>\n",
       "<table border=\"1\" class=\"dataframe\">\n",
       "  <thead>\n",
       "    <tr style=\"text-align: right;\">\n",
       "      <th></th>\n",
       "      <th>iteam</th>\n",
       "      <th>team_id</th>\n",
       "      <th>ncaa</th>\n",
       "      <th>pace_initial</th>\n",
       "      <th>pace</th>\n",
       "      <th>pace_initial_rank</th>\n",
       "      <th>pace_rank</th>\n",
       "      <th>pace2</th>\n",
       "    </tr>\n",
       "  </thead>\n",
       "  <tbody>\n",
       "    <tr>\n",
       "      <th>176</th>\n",
       "      <td>176</td>\n",
       "      <td>1004</td>\n",
       "      <td>Central Ark.</td>\n",
       "      <td>74.900000</td>\n",
       "      <td>8.300111</td>\n",
       "      <td>5</td>\n",
       "      <td>5</td>\n",
       "      <td>74.462732</td>\n",
       "    </tr>\n",
       "    <tr>\n",
       "      <th>334</th>\n",
       "      <td>334</td>\n",
       "      <td>474</td>\n",
       "      <td>New Orleans</td>\n",
       "      <td>73.870455</td>\n",
       "      <td>6.863025</td>\n",
       "      <td>6</td>\n",
       "      <td>6</td>\n",
       "      <td>73.025646</td>\n",
       "    </tr>\n",
       "    <tr>\n",
       "      <th>222</th>\n",
       "      <td>222</td>\n",
       "      <td>310</td>\n",
       "      <td>Iona</td>\n",
       "      <td>72.331618</td>\n",
       "      <td>6.331750</td>\n",
       "      <td>9</td>\n",
       "      <td>7</td>\n",
       "      <td>72.494372</td>\n",
       "    </tr>\n",
       "    <tr>\n",
       "      <th>43</th>\n",
       "      <td>43</td>\n",
       "      <td>176</td>\n",
       "      <td>DePaul</td>\n",
       "      <td>72.454688</td>\n",
       "      <td>6.263261</td>\n",
       "      <td>8</td>\n",
       "      <td>8</td>\n",
       "      <td>72.425883</td>\n",
       "    </tr>\n",
       "    <tr>\n",
       "      <th>183</th>\n",
       "      <td>183</td>\n",
       "      <td>670</td>\n",
       "      <td>Texas St.</td>\n",
       "      <td>71.715152</td>\n",
       "      <td>6.119526</td>\n",
       "      <td>18</td>\n",
       "      <td>9</td>\n",
       "      <td>72.282148</td>\n",
       "    </tr>\n",
       "    <tr>\n",
       "      <th>125</th>\n",
       "      <td>125</td>\n",
       "      <td>508</td>\n",
       "      <td>Northwestern St.</td>\n",
       "      <td>73.402679</td>\n",
       "      <td>6.043570</td>\n",
       "      <td>7</td>\n",
       "      <td>10</td>\n",
       "      <td>72.206192</td>\n",
       "    </tr>\n",
       "    <tr>\n",
       "      <th>342</th>\n",
       "      <td>342</td>\n",
       "      <td>2</td>\n",
       "      <td>Abilene Christian</td>\n",
       "      <td>71.900000</td>\n",
       "      <td>5.909662</td>\n",
       "      <td>12</td>\n",
       "      <td>11</td>\n",
       "      <td>72.072284</td>\n",
       "    </tr>\n",
       "    <tr>\n",
       "      <th>156</th>\n",
       "      <td>156</td>\n",
       "      <td>28600</td>\n",
       "      <td>Lipscomb</td>\n",
       "      <td>71.869828</td>\n",
       "      <td>5.718211</td>\n",
       "      <td>13</td>\n",
       "      <td>12</td>\n",
       "      <td>71.880833</td>\n",
       "    </tr>\n",
       "    <tr>\n",
       "      <th>122</th>\n",
       "      <td>122</td>\n",
       "      <td>31</td>\n",
       "      <td>Arkansas</td>\n",
       "      <td>70.791667</td>\n",
       "      <td>5.644337</td>\n",
       "      <td>30</td>\n",
       "      <td>13</td>\n",
       "      <td>71.806959</td>\n",
       "    </tr>\n",
       "    <tr>\n",
       "      <th>260</th>\n",
       "      <td>260</td>\n",
       "      <td>288</td>\n",
       "      <td>Houston</td>\n",
       "      <td>71.372656</td>\n",
       "      <td>5.515113</td>\n",
       "      <td>21</td>\n",
       "      <td>14</td>\n",
       "      <td>71.677735</td>\n",
       "    </tr>\n",
       "    <tr>\n",
       "      <th>90</th>\n",
       "      <td>90</td>\n",
       "      <td>457</td>\n",
       "      <td>North Carolina</td>\n",
       "      <td>71.775714</td>\n",
       "      <td>5.381905</td>\n",
       "      <td>16</td>\n",
       "      <td>15</td>\n",
       "      <td>71.544527</td>\n",
       "    </tr>\n",
       "    <tr>\n",
       "      <th>236</th>\n",
       "      <td>236</td>\n",
       "      <td>127</td>\n",
       "      <td>Central Conn. St.</td>\n",
       "      <td>71.984483</td>\n",
       "      <td>5.362114</td>\n",
       "      <td>11</td>\n",
       "      <td>16</td>\n",
       "      <td>71.524735</td>\n",
       "    </tr>\n",
       "    <tr>\n",
       "      <th>104</th>\n",
       "      <td>104</td>\n",
       "      <td>400</td>\n",
       "      <td>Massachusetts</td>\n",
       "      <td>71.309848</td>\n",
       "      <td>5.269475</td>\n",
       "      <td>22</td>\n",
       "      <td>17</td>\n",
       "      <td>71.432096</td>\n",
       "    </tr>\n",
       "    <tr>\n",
       "      <th>298</th>\n",
       "      <td>298</td>\n",
       "      <td>464</td>\n",
       "      <td>Omaha</td>\n",
       "      <td>71.481034</td>\n",
       "      <td>5.210941</td>\n",
       "      <td>20</td>\n",
       "      <td>18</td>\n",
       "      <td>71.373562</td>\n",
       "    </tr>\n",
       "    <tr>\n",
       "      <th>326</th>\n",
       "      <td>326</td>\n",
       "      <td>741</td>\n",
       "      <td>VMI</td>\n",
       "      <td>72.236111</td>\n",
       "      <td>4.802612</td>\n",
       "      <td>10</td>\n",
       "      <td>19</td>\n",
       "      <td>70.965234</td>\n",
       "    </tr>\n",
       "    <tr>\n",
       "      <th>53</th>\n",
       "      <td>53</td>\n",
       "      <td>299</td>\n",
       "      <td>Illinois St.</td>\n",
       "      <td>70.168182</td>\n",
       "      <td>4.705156</td>\n",
       "      <td>40</td>\n",
       "      <td>20</td>\n",
       "      <td>70.867777</td>\n",
       "    </tr>\n",
       "    <tr>\n",
       "      <th>245</th>\n",
       "      <td>245</td>\n",
       "      <td>270</td>\n",
       "      <td>Hampton</td>\n",
       "      <td>70.616379</td>\n",
       "      <td>4.685134</td>\n",
       "      <td>33</td>\n",
       "      <td>21</td>\n",
       "      <td>70.847756</td>\n",
       "    </tr>\n",
       "    <tr>\n",
       "      <th>314</th>\n",
       "      <td>314</td>\n",
       "      <td>432</td>\n",
       "      <td>Mississippi Val.</td>\n",
       "      <td>70.881250</td>\n",
       "      <td>4.682955</td>\n",
       "      <td>28</td>\n",
       "      <td>22</td>\n",
       "      <td>70.845576</td>\n",
       "    </tr>\n",
       "    <tr>\n",
       "      <th>164</th>\n",
       "      <td>164</td>\n",
       "      <td>433</td>\n",
       "      <td>Ole Miss</td>\n",
       "      <td>71.781818</td>\n",
       "      <td>4.666091</td>\n",
       "      <td>15</td>\n",
       "      <td>23</td>\n",
       "      <td>70.828713</td>\n",
       "    </tr>\n",
       "    <tr>\n",
       "      <th>67</th>\n",
       "      <td>67</td>\n",
       "      <td>77</td>\n",
       "      <td>BYU</td>\n",
       "      <td>70.635294</td>\n",
       "      <td>4.534890</td>\n",
       "      <td>32</td>\n",
       "      <td>24</td>\n",
       "      <td>70.697511</td>\n",
       "    </tr>\n",
       "    <tr>\n",
       "      <th>328</th>\n",
       "      <td>328</td>\n",
       "      <td>363</td>\n",
       "      <td>Longwood</td>\n",
       "      <td>71.837903</td>\n",
       "      <td>4.520397</td>\n",
       "      <td>14</td>\n",
       "      <td>25</td>\n",
       "      <td>70.683019</td>\n",
       "    </tr>\n",
       "    <tr>\n",
       "      <th>203</th>\n",
       "      <td>203</td>\n",
       "      <td>444</td>\n",
       "      <td>Morehead St.</td>\n",
       "      <td>71.229167</td>\n",
       "      <td>4.517151</td>\n",
       "      <td>24</td>\n",
       "      <td>26</td>\n",
       "      <td>70.679772</td>\n",
       "    </tr>\n",
       "    <tr>\n",
       "      <th>204</th>\n",
       "      <td>204</td>\n",
       "      <td>366</td>\n",
       "      <td>Louisiana Tech</td>\n",
       "      <td>69.916667</td>\n",
       "      <td>4.509796</td>\n",
       "      <td>49</td>\n",
       "      <td>27</td>\n",
       "      <td>70.672417</td>\n",
       "    </tr>\n",
       "    <tr>\n",
       "      <th>216</th>\n",
       "      <td>216</td>\n",
       "      <td>1356</td>\n",
       "      <td>Seattle</td>\n",
       "      <td>70.991379</td>\n",
       "      <td>4.506602</td>\n",
       "      <td>26</td>\n",
       "      <td>28</td>\n",
       "      <td>70.669224</td>\n",
       "    </tr>\n",
       "    <tr>\n",
       "      <th>303</th>\n",
       "      <td>303</td>\n",
       "      <td>228</td>\n",
       "      <td>Florida A&amp;M</td>\n",
       "      <td>71.754630</td>\n",
       "      <td>4.407863</td>\n",
       "      <td>17</td>\n",
       "      <td>29</td>\n",
       "      <td>70.570485</td>\n",
       "    </tr>\n",
       "    <tr>\n",
       "      <th>306</th>\n",
       "      <td>306</td>\n",
       "      <td>27</td>\n",
       "      <td>Appalachian St.</td>\n",
       "      <td>69.509615</td>\n",
       "      <td>4.364876</td>\n",
       "      <td>62</td>\n",
       "      <td>30</td>\n",
       "      <td>70.527498</td>\n",
       "    </tr>\n",
       "    <tr>\n",
       "      <th>102</th>\n",
       "      <td>102</td>\n",
       "      <td>9</td>\n",
       "      <td>UAB</td>\n",
       "      <td>71.279687</td>\n",
       "      <td>4.341067</td>\n",
       "      <td>23</td>\n",
       "      <td>31</td>\n",
       "      <td>70.503688</td>\n",
       "    </tr>\n",
       "    <tr>\n",
       "      <th>242</th>\n",
       "      <td>242</td>\n",
       "      <td>439</td>\n",
       "      <td>Monmouth</td>\n",
       "      <td>70.515323</td>\n",
       "      <td>4.273149</td>\n",
       "      <td>35</td>\n",
       "      <td>32</td>\n",
       "      <td>70.435771</td>\n",
       "    </tr>\n",
       "    <tr>\n",
       "      <th>158</th>\n",
       "      <td>158</td>\n",
       "      <td>316</td>\n",
       "      <td>Jacksonville</td>\n",
       "      <td>69.932500</td>\n",
       "      <td>4.246506</td>\n",
       "      <td>48</td>\n",
       "      <td>33</td>\n",
       "      <td>70.409128</td>\n",
       "    </tr>\n",
       "    <tr>\n",
       "      <th>22</th>\n",
       "      <td>22</td>\n",
       "      <td>311</td>\n",
       "      <td>Iowa St.</td>\n",
       "      <td>70.845714</td>\n",
       "      <td>4.156300</td>\n",
       "      <td>29</td>\n",
       "      <td>34</td>\n",
       "      <td>70.318921</td>\n",
       "    </tr>\n",
       "    <tr>\n",
       "      <th>148</th>\n",
       "      <td>148</td>\n",
       "      <td>110</td>\n",
       "      <td>UCLA</td>\n",
       "      <td>70.093939</td>\n",
       "      <td>4.030657</td>\n",
       "      <td>42</td>\n",
       "      <td>35</td>\n",
       "      <td>70.193279</td>\n",
       "    </tr>\n",
       "    <tr>\n",
       "      <th>244</th>\n",
       "      <td>244</td>\n",
       "      <td>671</td>\n",
       "      <td>La.-Lafayette</td>\n",
       "      <td>71.610937</td>\n",
       "      <td>3.944515</td>\n",
       "      <td>19</td>\n",
       "      <td>36</td>\n",
       "      <td>70.107137</td>\n",
       "    </tr>\n",
       "    <tr>\n",
       "      <th>321</th>\n",
       "      <td>321</td>\n",
       "      <td>43</td>\n",
       "      <td>Austin Peay</td>\n",
       "      <td>70.917593</td>\n",
       "      <td>3.934094</td>\n",
       "      <td>27</td>\n",
       "      <td>37</td>\n",
       "      <td>70.096715</td>\n",
       "    </tr>\n",
       "    <tr>\n",
       "      <th>206</th>\n",
       "      <td>206</td>\n",
       "      <td>184</td>\n",
       "      <td>Detroit</td>\n",
       "      <td>69.770161</td>\n",
       "      <td>3.879889</td>\n",
       "      <td>54</td>\n",
       "      <td>38</td>\n",
       "      <td>70.042510</td>\n",
       "    </tr>\n",
       "    <tr>\n",
       "      <th>225</th>\n",
       "      <td>225</td>\n",
       "      <td>482</td>\n",
       "      <td>Niagara</td>\n",
       "      <td>69.913636</td>\n",
       "      <td>3.857565</td>\n",
       "      <td>50</td>\n",
       "      <td>39</td>\n",
       "      <td>70.020187</td>\n",
       "    </tr>\n",
       "    <tr>\n",
       "      <th>124</th>\n",
       "      <td>124</td>\n",
       "      <td>28755</td>\n",
       "      <td>FGCU</td>\n",
       "      <td>69.827857</td>\n",
       "      <td>3.829002</td>\n",
       "      <td>52</td>\n",
       "      <td>40</td>\n",
       "      <td>69.991623</td>\n",
       "    </tr>\n",
       "    <tr>\n",
       "      <th>177</th>\n",
       "      <td>177</td>\n",
       "      <td>346</td>\n",
       "      <td>Lamar</td>\n",
       "      <td>71.170968</td>\n",
       "      <td>3.781529</td>\n",
       "      <td>25</td>\n",
       "      <td>41</td>\n",
       "      <td>69.944150</td>\n",
       "    </tr>\n",
       "    <tr>\n",
       "      <th>299</th>\n",
       "      <td>299</td>\n",
       "      <td>514</td>\n",
       "      <td>Oakland</td>\n",
       "      <td>68.933871</td>\n",
       "      <td>3.677702</td>\n",
       "      <td>80</td>\n",
       "      <td>42</td>\n",
       "      <td>69.840323</td>\n",
       "    </tr>\n",
       "    <tr>\n",
       "      <th>109</th>\n",
       "      <td>109</td>\n",
       "      <td>501</td>\n",
       "      <td>Northern Ariz.</td>\n",
       "      <td>69.603906</td>\n",
       "      <td>3.617988</td>\n",
       "      <td>57</td>\n",
       "      <td>43</td>\n",
       "      <td>69.780609</td>\n",
       "    </tr>\n",
       "    <tr>\n",
       "      <th>37</th>\n",
       "      <td>37</td>\n",
       "      <td>529</td>\n",
       "      <td>Oregon</td>\n",
       "      <td>70.223649</td>\n",
       "      <td>3.607515</td>\n",
       "      <td>38</td>\n",
       "      <td>44</td>\n",
       "      <td>69.770136</td>\n",
       "    </tr>\n",
       "    <tr>\n",
       "      <th>96</th>\n",
       "      <td>96</td>\n",
       "      <td>196</td>\n",
       "      <td>East Carolina</td>\n",
       "      <td>70.583333</td>\n",
       "      <td>3.522629</td>\n",
       "      <td>34</td>\n",
       "      <td>45</td>\n",
       "      <td>69.685250</td>\n",
       "    </tr>\n",
       "    <tr>\n",
       "      <th>201</th>\n",
       "      <td>201</td>\n",
       "      <td>277</td>\n",
       "      <td>Hawaii</td>\n",
       "      <td>69.797414</td>\n",
       "      <td>3.492694</td>\n",
       "      <td>53</td>\n",
       "      <td>46</td>\n",
       "      <td>69.655315</td>\n",
       "    </tr>\n",
       "    <tr>\n",
       "      <th>239</th>\n",
       "      <td>239</td>\n",
       "      <td>361</td>\n",
       "      <td>LIU Brooklyn</td>\n",
       "      <td>70.664394</td>\n",
       "      <td>3.447446</td>\n",
       "      <td>31</td>\n",
       "      <td>47</td>\n",
       "      <td>69.610067</td>\n",
       "    </tr>\n",
       "    <tr>\n",
       "      <th>126</th>\n",
       "      <td>126</td>\n",
       "      <td>365</td>\n",
       "      <td>LSU</td>\n",
       "      <td>70.211667</td>\n",
       "      <td>3.422334</td>\n",
       "      <td>39</td>\n",
       "      <td>48</td>\n",
       "      <td>69.584956</td>\n",
       "    </tr>\n",
       "    <tr>\n",
       "      <th>194</th>\n",
       "      <td>194</td>\n",
       "      <td>194</td>\n",
       "      <td>Duquesne</td>\n",
       "      <td>69.955833</td>\n",
       "      <td>3.407605</td>\n",
       "      <td>47</td>\n",
       "      <td>49</td>\n",
       "      <td>69.570227</td>\n",
       "    </tr>\n",
       "    <tr>\n",
       "      <th>292</th>\n",
       "      <td>292</td>\n",
       "      <td>646</td>\n",
       "      <td>South Ala.</td>\n",
       "      <td>69.531897</td>\n",
       "      <td>3.394257</td>\n",
       "      <td>60</td>\n",
       "      <td>50</td>\n",
       "      <td>69.556878</td>\n",
       "    </tr>\n",
       "    <tr>\n",
       "      <th>252</th>\n",
       "      <td>252</td>\n",
       "      <td>97</td>\n",
       "      <td>Cal St. Fullerton</td>\n",
       "      <td>69.141964</td>\n",
       "      <td>3.388826</td>\n",
       "      <td>73</td>\n",
       "      <td>51</td>\n",
       "      <td>69.551448</td>\n",
       "    </tr>\n",
       "    <tr>\n",
       "      <th>318</th>\n",
       "      <td>318</td>\n",
       "      <td>314</td>\n",
       "      <td>Jackson St.</td>\n",
       "      <td>70.330172</td>\n",
       "      <td>3.315669</td>\n",
       "      <td>36</td>\n",
       "      <td>52</td>\n",
       "      <td>69.478291</td>\n",
       "    </tr>\n",
       "    <tr>\n",
       "      <th>281</th>\n",
       "      <td>281</td>\n",
       "      <td>695</td>\n",
       "      <td>UT Martin</td>\n",
       "      <td>70.273077</td>\n",
       "      <td>3.189329</td>\n",
       "      <td>37</td>\n",
       "      <td>53</td>\n",
       "      <td>69.351951</td>\n",
       "    </tr>\n",
       "    <tr>\n",
       "      <th>49</th>\n",
       "      <td>49</td>\n",
       "      <td>404</td>\n",
       "      <td>Memphis</td>\n",
       "      <td>70.061806</td>\n",
       "      <td>3.171353</td>\n",
       "      <td>43</td>\n",
       "      <td>54</td>\n",
       "      <td>69.333975</td>\n",
       "    </tr>\n",
       "  </tbody>\n",
       "</table>\n",
       "</div>"
      ],
      "text/plain": [
       "     iteam  team_id               ncaa  pace_initial      pace  \\\n",
       "176    176     1004       Central Ark.     74.900000  8.300111   \n",
       "334    334      474        New Orleans     73.870455  6.863025   \n",
       "222    222      310               Iona     72.331618  6.331750   \n",
       "43      43      176             DePaul     72.454688  6.263261   \n",
       "183    183      670          Texas St.     71.715152  6.119526   \n",
       "125    125      508   Northwestern St.     73.402679  6.043570   \n",
       "342    342        2  Abilene Christian     71.900000  5.909662   \n",
       "156    156    28600           Lipscomb     71.869828  5.718211   \n",
       "122    122       31           Arkansas     70.791667  5.644337   \n",
       "260    260      288            Houston     71.372656  5.515113   \n",
       "90      90      457     North Carolina     71.775714  5.381905   \n",
       "236    236      127  Central Conn. St.     71.984483  5.362114   \n",
       "104    104      400      Massachusetts     71.309848  5.269475   \n",
       "298    298      464              Omaha     71.481034  5.210941   \n",
       "326    326      741                VMI     72.236111  4.802612   \n",
       "53      53      299       Illinois St.     70.168182  4.705156   \n",
       "245    245      270            Hampton     70.616379  4.685134   \n",
       "314    314      432   Mississippi Val.     70.881250  4.682955   \n",
       "164    164      433           Ole Miss     71.781818  4.666091   \n",
       "67      67       77                BYU     70.635294  4.534890   \n",
       "328    328      363           Longwood     71.837903  4.520397   \n",
       "203    203      444       Morehead St.     71.229167  4.517151   \n",
       "204    204      366     Louisiana Tech     69.916667  4.509796   \n",
       "216    216     1356            Seattle     70.991379  4.506602   \n",
       "303    303      228        Florida A&M     71.754630  4.407863   \n",
       "306    306       27    Appalachian St.     69.509615  4.364876   \n",
       "102    102        9                UAB     71.279687  4.341067   \n",
       "242    242      439           Monmouth     70.515323  4.273149   \n",
       "158    158      316       Jacksonville     69.932500  4.246506   \n",
       "22      22      311           Iowa St.     70.845714  4.156300   \n",
       "148    148      110               UCLA     70.093939  4.030657   \n",
       "244    244      671      La.-Lafayette     71.610937  3.944515   \n",
       "321    321       43        Austin Peay     70.917593  3.934094   \n",
       "206    206      184            Detroit     69.770161  3.879889   \n",
       "225    225      482            Niagara     69.913636  3.857565   \n",
       "124    124    28755               FGCU     69.827857  3.829002   \n",
       "177    177      346              Lamar     71.170968  3.781529   \n",
       "299    299      514            Oakland     68.933871  3.677702   \n",
       "109    109      501     Northern Ariz.     69.603906  3.617988   \n",
       "37      37      529             Oregon     70.223649  3.607515   \n",
       "96      96      196      East Carolina     70.583333  3.522629   \n",
       "201    201      277             Hawaii     69.797414  3.492694   \n",
       "239    239      361       LIU Brooklyn     70.664394  3.447446   \n",
       "126    126      365                LSU     70.211667  3.422334   \n",
       "194    194      194           Duquesne     69.955833  3.407605   \n",
       "292    292      646         South Ala.     69.531897  3.394257   \n",
       "252    252       97  Cal St. Fullerton     69.141964  3.388826   \n",
       "318    318      314        Jackson St.     70.330172  3.315669   \n",
       "281    281      695          UT Martin     70.273077  3.189329   \n",
       "49      49      404            Memphis     70.061806  3.171353   \n",
       "\n",
       "     pace_initial_rank  pace_rank      pace2  \n",
       "176                  5          5  74.462732  \n",
       "334                  6          6  73.025646  \n",
       "222                  9          7  72.494372  \n",
       "43                   8          8  72.425883  \n",
       "183                 18          9  72.282148  \n",
       "125                  7         10  72.206192  \n",
       "342                 12         11  72.072284  \n",
       "156                 13         12  71.880833  \n",
       "122                 30         13  71.806959  \n",
       "260                 21         14  71.677735  \n",
       "90                  16         15  71.544527  \n",
       "236                 11         16  71.524735  \n",
       "104                 22         17  71.432096  \n",
       "298                 20         18  71.373562  \n",
       "326                 10         19  70.965234  \n",
       "53                  40         20  70.867777  \n",
       "245                 33         21  70.847756  \n",
       "314                 28         22  70.845576  \n",
       "164                 15         23  70.828713  \n",
       "67                  32         24  70.697511  \n",
       "328                 14         25  70.683019  \n",
       "203                 24         26  70.679772  \n",
       "204                 49         27  70.672417  \n",
       "216                 26         28  70.669224  \n",
       "303                 17         29  70.570485  \n",
       "306                 62         30  70.527498  \n",
       "102                 23         31  70.503688  \n",
       "242                 35         32  70.435771  \n",
       "158                 48         33  70.409128  \n",
       "22                  29         34  70.318921  \n",
       "148                 42         35  70.193279  \n",
       "244                 19         36  70.107137  \n",
       "321                 27         37  70.096715  \n",
       "206                 54         38  70.042510  \n",
       "225                 50         39  70.020187  \n",
       "124                 52         40  69.991623  \n",
       "177                 25         41  69.944150  \n",
       "299                 80         42  69.840323  \n",
       "109                 57         43  69.780609  \n",
       "37                  38         44  69.770136  \n",
       "96                  34         45  69.685250  \n",
       "201                 53         46  69.655315  \n",
       "239                 31         47  69.610067  \n",
       "126                 39         48  69.584956  \n",
       "194                 47         49  69.570227  \n",
       "292                 60         50  69.556878  \n",
       "252                 73         51  69.551448  \n",
       "318                 36         52  69.478291  \n",
       "281                 37         53  69.351951  \n",
       "49                  43         54  69.333975  "
      ]
     },
     "execution_count": 18,
     "metadata": {},
     "output_type": "execute_result"
    }
   ],
   "source": [
    "pace_intercept.stats()\n",
    "teams['pace'] = pace_rtg.stats()['mean']\n",
    "teams['pace2'] = teams.pace + pace_intercept.stats()['mean']\n",
    "teams['pace_initial_rank'] = teams.pace_initial.rank(ascending=False) + 4\n",
    "teams['pace_rank'] = teams.pace.rank(ascending=False) + 4\n",
    "teams[teams.team_id.isin(b10_teams)].sort('pace', ascending=False)\n",
    "\n",
    "teams.sort('pace', ascending=False).head(50)"
   ]
  },
  {
   "cell_type": "code",
   "execution_count": 25,
   "metadata": {
    "collapsed": false
   },
   "outputs": [
    {
     "data": {
      "text/html": [
       "<div>\n",
       "<table border=\"1\" class=\"dataframe\">\n",
       "  <thead>\n",
       "    <tr style=\"text-align: right;\">\n",
       "      <th></th>\n",
       "      <th>game_id</th>\n",
       "      <th>dt</th>\n",
       "      <th>hteam</th>\n",
       "      <th>team_id_x</th>\n",
       "      <th>ateam</th>\n",
       "      <th>team_id_y</th>\n",
       "      <th>hpts</th>\n",
       "      <th>hposs</th>\n",
       "      <th>apts</th>\n",
       "      <th>aposs</th>\n",
       "      <th>i_hteam</th>\n",
       "      <th>i_ateam</th>\n",
       "      <th>poss</th>\n",
       "    </tr>\n",
       "  </thead>\n",
       "  <tbody>\n",
       "    <tr>\n",
       "      <th>0</th>\n",
       "      <td>1999211</td>\n",
       "      <td>2013-04-02</td>\n",
       "      <td>Iowa</td>\n",
       "      <td>312</td>\n",
       "      <td>Maryland</td>\n",
       "      <td>392</td>\n",
       "      <td>71</td>\n",
       "      <td>63.400</td>\n",
       "      <td>60</td>\n",
       "      <td>64.600</td>\n",
       "      <td>1</td>\n",
       "      <td>83</td>\n",
       "      <td>64.0000</td>\n",
       "    </tr>\n",
       "    <tr>\n",
       "      <th>1</th>\n",
       "      <td>1948633</td>\n",
       "      <td>2013-03-22</td>\n",
       "      <td>Iowa</td>\n",
       "      <td>312</td>\n",
       "      <td>Stony Brook</td>\n",
       "      <td>683</td>\n",
       "      <td>75</td>\n",
       "      <td>62.975</td>\n",
       "      <td>63</td>\n",
       "      <td>63.075</td>\n",
       "      <td>1</td>\n",
       "      <td>234</td>\n",
       "      <td>63.0250</td>\n",
       "    </tr>\n",
       "    <tr>\n",
       "      <th>2</th>\n",
       "      <td>1942259</td>\n",
       "      <td>2013-03-20</td>\n",
       "      <td>Iowa</td>\n",
       "      <td>312</td>\n",
       "      <td>Indiana St.</td>\n",
       "      <td>305</td>\n",
       "      <td>68</td>\n",
       "      <td>65.350</td>\n",
       "      <td>52</td>\n",
       "      <td>65.225</td>\n",
       "      <td>1</td>\n",
       "      <td>54</td>\n",
       "      <td>65.2875</td>\n",
       "    </tr>\n",
       "    <tr>\n",
       "      <th>3</th>\n",
       "      <td>1871394</td>\n",
       "      <td>2013-03-09</td>\n",
       "      <td>Iowa</td>\n",
       "      <td>312</td>\n",
       "      <td>Nebraska</td>\n",
       "      <td>463</td>\n",
       "      <td>74</td>\n",
       "      <td>56.125</td>\n",
       "      <td>60</td>\n",
       "      <td>56.225</td>\n",
       "      <td>1</td>\n",
       "      <td>6</td>\n",
       "      <td>56.1750</td>\n",
       "    </tr>\n",
       "    <tr>\n",
       "      <th>4</th>\n",
       "      <td>1835252</td>\n",
       "      <td>2013-03-05</td>\n",
       "      <td>Iowa</td>\n",
       "      <td>312</td>\n",
       "      <td>Illinois</td>\n",
       "      <td>301</td>\n",
       "      <td>63</td>\n",
       "      <td>67.500</td>\n",
       "      <td>55</td>\n",
       "      <td>68.075</td>\n",
       "      <td>1</td>\n",
       "      <td>34</td>\n",
       "      <td>67.7875</td>\n",
       "    </tr>\n",
       "  </tbody>\n",
       "</table>\n",
       "</div>"
      ],
      "text/plain": [
       "   game_id          dt hteam  team_id_x        ateam  team_id_y  hpts   hposs  \\\n",
       "0  1999211  2013-04-02  Iowa        312     Maryland        392    71  63.400   \n",
       "1  1948633  2013-03-22  Iowa        312  Stony Brook        683    75  62.975   \n",
       "2  1942259  2013-03-20  Iowa        312  Indiana St.        305    68  65.350   \n",
       "3  1871394  2013-03-09  Iowa        312     Nebraska        463    74  56.125   \n",
       "4  1835252  2013-03-05  Iowa        312     Illinois        301    63  67.500   \n",
       "\n",
       "   apts   aposs  i_hteam  i_ateam     poss  \n",
       "0    60  64.600        1       83  64.0000  \n",
       "1    63  63.075        1      234  63.0250  \n",
       "2    52  65.225        1       54  65.2875  \n",
       "3    60  56.225        1        6  56.1750  \n",
       "4    55  68.075        1       34  67.7875  "
      ]
     },
     "execution_count": 25,
     "metadata": {},
     "output_type": "execute_result"
    }
   ],
   "source": [
    "games.head()"
   ]
  },
  {
   "cell_type": "code",
   "execution_count": 118,
   "metadata": {
    "collapsed": false
   },
   "outputs": [
    {
     "data": {
      "text/plain": [
       "(7000, 5267)"
      ]
     },
     "execution_count": 118,
     "metadata": {},
     "output_type": "execute_result"
    }
   ],
   "source": [
    "games['pred'] = np.mean(poss_pred.trace(), axis=0)\n",
    "trace = poss_pred.trace()\n",
    "trace.shape"
   ]
  },
  {
   "cell_type": "code",
   "execution_count": 30,
   "metadata": {
    "collapsed": false
   },
   "outputs": [
    {
     "data": {
      "text/plain": [
       "[<matplotlib.lines.Line2D at 0x10ea33b50>]"
      ]
     },
     "execution_count": 30,
     "metadata": {},
     "output_type": "execute_result"
    },
    {
     "data": {
      "image/png": "[encoded data removed]",
      "text/plain": [
       "<matplotlib.figure.Figure at 0x10ea2d150>"
      ]
     },
     "metadata": {},
     "output_type": "display_data"
    }
   ],
   "source": [
    "plt.plot(range(games.shape[0]), games.poss)\n",
    "plt.plot(range(games.shape[0]), games.pred)"
   ]
  },
  {
   "cell_type": "code",
   "execution_count": 31,
   "metadata": {
    "collapsed": true
   },
   "outputs": [],
   "source": [
    "from sklearn.metrics import r2_score"
   ]
  },
  {
   "cell_type": "code",
   "execution_count": 32,
   "metadata": {
    "collapsed": false
   },
   "outputs": [
    {
     "data": {
      "text/plain": [
       "0.38777394311599989"
      ]
     },
     "execution_count": 32,
     "metadata": {},
     "output_type": "execute_result"
    }
   ],
   "source": [
    "r2_score(games.poss, games.pred)"
   ]
  },
  {
   "cell_type": "code",
   "execution_count": 36,
   "metadata": {
    "collapsed": false
   },
   "outputs": [
    {
     "data": {
      "text/plain": [
       "(array([   16.,    93.,   413.,  1195.,  1830.,  1760.,  1178.,   406.,\n",
       "           94.,    15.]),\n",
       " array([ 65.7970665 ,  65.86804546,  65.93902442,  66.01000337,\n",
       "         66.08098233,  66.15196129,  66.22294025,  66.29391921,\n",
       "         66.36489817,  66.43587713,  66.50685609]),\n",
       " <a list of 10 Patch objects>)"
      ]
     },
     "execution_count": 36,
     "metadata": {},
     "output_type": "execute_result"
    },
    {
     "data": {
      "image/png": "[encoded data removed]",
      "text/plain": [
       "<matplotlib.figure.Figure at 0x10e9ef850>"
      ]
     },
     "metadata": {},
     "output_type": "display_data"
    }
   ],
   "source": [
    "season_average = np.mean(poss_pred.trace(), axis=1)\n",
    "plt.hist(season_average)"
   ]
  },
  {
   "cell_type": "code",
   "execution_count": 43,
   "metadata": {
    "collapsed": false
   },
   "outputs": [
    {
     "data": {
      "text/plain": [
       "(array([   7.,   30.,  125.,  250.,  515.,  794.,  948.,  862.,  685.,\n",
       "         451.,  297.,  150.,   82.,   29.,   23.,    6.,    4.,    5.,\n",
       "           1.,    3.]),\n",
       " array([  47.3625 ,   50.03875,   52.715  ,   55.39125,   58.0675 ,\n",
       "          60.74375,   63.42   ,   66.09625,   68.7725 ,   71.44875,\n",
       "          74.125  ,   76.80125,   79.4775 ,   82.15375,   84.83   ,\n",
       "          87.50625,   90.1825 ,   92.85875,   95.535  ,   98.21125,\n",
       "         100.8875 ]),\n",
       " <a list of 20 Patch objects>)"
      ]
     },
     "execution_count": 43,
     "metadata": {},
     "output_type": "execute_result"
    },
    {
     "data": {
      "image/png": "[encoded data removed]",
      "text/plain": [
       "<matplotlib.figure.Figure at 0x10f395810>"
      ]
     },
     "metadata": {},
     "output_type": "display_data"
    }
   ],
   "source": [
    "game_dist = np.mean(poss_pred.trace(), axis=0)\n",
    "plt.hist(game_dist, alpha=1, color='r')\n",
    "plt.hist(observed_pace, alpha=0.5, bins=20)"
   ]
  },
  {
   "cell_type": "code",
   "execution_count": 100,
   "metadata": {
    "collapsed": false
   },
   "outputs": [
    {
     "data": {
      "text/plain": [
       "['95% HPD interval',\n",
       " 'n',\n",
       " 'quantiles',\n",
       " 'standard deviation',\n",
       " 'mc error',\n",
       " 'mean']"
      ]
     },
     "execution_count": 100,
     "metadata": {},
     "output_type": "execute_result"
    }
   ],
   "source": [
    "pace_rtg.stats().keys()"
   ]
  },
  {
   "cell_type": "code",
   "execution_count": 101,
   "metadata": {
    "collapsed": false
   },
   "outputs": [],
   "source": [
    "teams['pace_var'] = pace_rtg.stats()['standard deviation']"
   ]
  },
  {
   "cell_type": "code",
   "execution_count": 117,
   "metadata": {
    "collapsed": false
   },
   "outputs": [
    {
     "name": "stdout",
     "output_type": "stream",
     "text": [
      "['Baylor' 'Iowa' 'Virginia' 'Michigan St.' 'Northwestern' 'Indiana'\n",
      " 'Nebraska' 'Penn St.' 'Wisconsin' 'Minnesota']\n",
      "\n"
     ]
    },
    {
     "data": {
      "image/png": "[encoded data removed]",
      "text/plain": [
       "<matplotlib.figure.Figure at 0x143205490>"
      ]
     },
     "metadata": {},
     "output_type": "display_data"
    }
   ],
   "source": [
    "fig, ax = plt.subplots(1, 1)\n",
    "trace = pace_rtg.trace()\n",
    "df = pd.DataFrame(trace)\n",
    "df.head()\n",
    "data_to_plot = df.iloc[:, :10].values\n",
    "tms = teams.ncaa[:10].values\n",
    "print tms\n",
    "ax.boxplot(data_to_plot)\n",
    "ax.set_xticklabels(tms, rotation=45)\n",
    "print"
   ]
  },
  {
   "cell_type": "code",
   "execution_count": 59,
   "metadata": {
    "collapsed": false
   },
   "outputs": [],
   "source": [
    "data = sns.load_dataset(\"exercise\")"
   ]
  },
  {
   "cell_type": "code",
   "execution_count": 64,
   "metadata": {
    "collapsed": false
   },
   "outputs": [
    {
     "data": {
      "text/html": [
       "<div>\n",
       "<table border=\"1\" class=\"dataframe\">\n",
       "  <thead>\n",
       "    <tr style=\"text-align: right;\">\n",
       "      <th></th>\n",
       "      <th>Unnamed: 0</th>\n",
       "      <th>id</th>\n",
       "      <th>diet</th>\n",
       "      <th>pulse</th>\n",
       "      <th>time</th>\n",
       "      <th>kind</th>\n",
       "    </tr>\n",
       "  </thead>\n",
       "  <tbody>\n",
       "    <tr>\n",
       "      <th>0</th>\n",
       "      <td>0</td>\n",
       "      <td>1</td>\n",
       "      <td>low fat</td>\n",
       "      <td>85</td>\n",
       "      <td>1 min</td>\n",
       "      <td>rest</td>\n",
       "    </tr>\n",
       "    <tr>\n",
       "      <th>1</th>\n",
       "      <td>1</td>\n",
       "      <td>1</td>\n",
       "      <td>low fat</td>\n",
       "      <td>85</td>\n",
       "      <td>15 min</td>\n",
       "      <td>rest</td>\n",
       "    </tr>\n",
       "    <tr>\n",
       "      <th>2</th>\n",
       "      <td>2</td>\n",
       "      <td>1</td>\n",
       "      <td>low fat</td>\n",
       "      <td>88</td>\n",
       "      <td>30 min</td>\n",
       "      <td>rest</td>\n",
       "    </tr>\n",
       "    <tr>\n",
       "      <th>3</th>\n",
       "      <td>3</td>\n",
       "      <td>2</td>\n",
       "      <td>low fat</td>\n",
       "      <td>90</td>\n",
       "      <td>1 min</td>\n",
       "      <td>rest</td>\n",
       "    </tr>\n",
       "    <tr>\n",
       "      <th>4</th>\n",
       "      <td>4</td>\n",
       "      <td>2</td>\n",
       "      <td>low fat</td>\n",
       "      <td>92</td>\n",
       "      <td>15 min</td>\n",
       "      <td>rest</td>\n",
       "    </tr>\n",
       "  </tbody>\n",
       "</table>\n",
       "</div>"
      ],
      "text/plain": [
       "   Unnamed: 0  id     diet  pulse    time  kind\n",
       "0           0   1  low fat     85   1 min  rest\n",
       "1           1   1  low fat     85  15 min  rest\n",
       "2           2   1  low fat     88  30 min  rest\n",
       "3           3   2  low fat     90   1 min  rest\n",
       "4           4   2  low fat     92  15 min  rest"
      ]
     },
     "execution_count": 64,
     "metadata": {},
     "output_type": "execute_result"
    }
   ],
   "source": [
    "data.head()"
   ]
  },
  {
   "cell_type": "code",
   "execution_count": 63,
   "metadata": {
    "collapsed": false
   },
   "outputs": [
    {
     "ename": "AttributeError",
     "evalue": "'numpy.ndarray' object has no attribute 'get'",
     "output_type": "error",
     "traceback": [
      "\u001b[0;31m---------------------------------------------------------------------------\u001b[0m",
      "\u001b[0;31mAttributeError\u001b[0m                            Traceback (most recent call last)",
      "\u001b[0;32m<ipython-input-63-264b9261163f>\u001b[0m in \u001b[0;36m<module>\u001b[0;34m()\u001b[0m\n\u001b[0;32m----> 1\u001b[0;31m \u001b[0mg\u001b[0m \u001b[0;34m=\u001b[0m \u001b[0msns\u001b[0m\u001b[0;34m.\u001b[0m\u001b[0mfactorplot\u001b[0m\u001b[0;34m(\u001b[0m\u001b[0mx\u001b[0m\u001b[0;34m=\u001b[0m\u001b[0;34m\"time\"\u001b[0m\u001b[0;34m,\u001b[0m \u001b[0my\u001b[0m\u001b[0;34m=\u001b[0m\u001b[0;34m\"pulse\"\u001b[0m\u001b[0;34m,\u001b[0m \u001b[0mhue\u001b[0m\u001b[0;34m=\u001b[0m\u001b[0;34m\"kind\"\u001b[0m\u001b[0;34m,\u001b[0m \u001b[0mdata\u001b[0m\u001b[0;34m=\u001b[0m\u001b[0mt\u001b[0m\u001b[0;34m)\u001b[0m\u001b[0;34m\u001b[0m\u001b[0m\n\u001b[0m",
      "\u001b[0;32m/Library/Python/2.7/site-packages/seaborn/categorical.pyc\u001b[0m in \u001b[0;36mfactorplot\u001b[0;34m(x, y, hue, data, row, col, col_wrap, estimator, ci, n_boot, units, order, hue_order, row_order, col_order, kind, size, aspect, orient, color, palette, legend, legend_out, sharex, sharey, margin_titles, facet_kws, **kwargs)\u001b[0m\n\u001b[1;32m   2673\u001b[0m     \u001b[0;31m# facets to ensure representation of all data in the final plot\u001b[0m\u001b[0;34m\u001b[0m\u001b[0;34m\u001b[0m\u001b[0m\n\u001b[1;32m   2674\u001b[0m     \u001b[0mp\u001b[0m \u001b[0;34m=\u001b[0m \u001b[0m_CategoricalPlotter\u001b[0m\u001b[0;34m(\u001b[0m\u001b[0;34m)\u001b[0m\u001b[0;34m\u001b[0m\u001b[0m\n\u001b[0;32m-> 2675\u001b[0;31m     \u001b[0mp\u001b[0m\u001b[0;34m.\u001b[0m\u001b[0mestablish_variables\u001b[0m\u001b[0;34m(\u001b[0m\u001b[0mx_\u001b[0m\u001b[0;34m,\u001b[0m \u001b[0my_\u001b[0m\u001b[0;34m,\u001b[0m \u001b[0mhue\u001b[0m\u001b[0;34m,\u001b[0m \u001b[0mdata\u001b[0m\u001b[0;34m,\u001b[0m \u001b[0morient\u001b[0m\u001b[0;34m,\u001b[0m \u001b[0morder\u001b[0m\u001b[0;34m,\u001b[0m \u001b[0mhue_order\u001b[0m\u001b[0;34m)\u001b[0m\u001b[0;34m\u001b[0m\u001b[0m\n\u001b[0m\u001b[1;32m   2676\u001b[0m     \u001b[0morder\u001b[0m \u001b[0;34m=\u001b[0m \u001b[0mp\u001b[0m\u001b[0;34m.\u001b[0m\u001b[0mgroup_names\u001b[0m\u001b[0;34m\u001b[0m\u001b[0m\n\u001b[1;32m   2677\u001b[0m     \u001b[0mhue_order\u001b[0m \u001b[0;34m=\u001b[0m \u001b[0mp\u001b[0m\u001b[0;34m.\u001b[0m\u001b[0mhue_names\u001b[0m\u001b[0;34m\u001b[0m\u001b[0m\n",
      "\u001b[0;32m/Library/Python/2.7/site-packages/seaborn/categorical.pyc\u001b[0m in \u001b[0;36mestablish_variables\u001b[0;34m(self, x, y, hue, data, orient, order, hue_order, units)\u001b[0m\n\u001b[1;32m    134\u001b[0m             \u001b[0;31m# See if we need to get variables from `data`\u001b[0m\u001b[0;34m\u001b[0m\u001b[0;34m\u001b[0m\u001b[0m\n\u001b[1;32m    135\u001b[0m             \u001b[0;32mif\u001b[0m \u001b[0mdata\u001b[0m \u001b[0;32mis\u001b[0m \u001b[0;32mnot\u001b[0m \u001b[0mNone\u001b[0m\u001b[0;34m:\u001b[0m\u001b[0;34m\u001b[0m\u001b[0m\n\u001b[0;32m--> 136\u001b[0;31m                 \u001b[0mx\u001b[0m \u001b[0;34m=\u001b[0m \u001b[0mdata\u001b[0m\u001b[0;34m.\u001b[0m\u001b[0mget\u001b[0m\u001b[0;34m(\u001b[0m\u001b[0mx\u001b[0m\u001b[0;34m,\u001b[0m \u001b[0mx\u001b[0m\u001b[0;34m)\u001b[0m\u001b[0;34m\u001b[0m\u001b[0m\n\u001b[0m\u001b[1;32m    137\u001b[0m                 \u001b[0my\u001b[0m \u001b[0;34m=\u001b[0m \u001b[0mdata\u001b[0m\u001b[0;34m.\u001b[0m\u001b[0mget\u001b[0m\u001b[0;34m(\u001b[0m\u001b[0my\u001b[0m\u001b[0;34m,\u001b[0m \u001b[0my\u001b[0m\u001b[0;34m)\u001b[0m\u001b[0;34m\u001b[0m\u001b[0m\n\u001b[1;32m    138\u001b[0m                 \u001b[0mhue\u001b[0m \u001b[0;34m=\u001b[0m \u001b[0mdata\u001b[0m\u001b[0;34m.\u001b[0m\u001b[0mget\u001b[0m\u001b[0;34m(\u001b[0m\u001b[0mhue\u001b[0m\u001b[0;34m,\u001b[0m \u001b[0mhue\u001b[0m\u001b[0;34m)\u001b[0m\u001b[0;34m\u001b[0m\u001b[0m\n",
      "\u001b[0;31mAttributeError\u001b[0m: 'numpy.ndarray' object has no attribute 'get'"
     ]
    }
   ],
   "source": []
  },
  {
   "cell_type": "code",
   "execution_count": 94,
   "metadata": {
    "collapsed": false
   },
   "outputs": [],
   "source": [
    "df = pd.DataFrame(t.ravel(), columns=['data'])\n",
    "df['factor'] = (np.arange(345 * 7000) % 347)"
   ]
  },
  {
   "cell_type": "code",
   "execution_count": 96,
   "metadata": {
    "collapsed": false
   },
   "outputs": [
    {
     "data": {
      "image/png": "[encoded data removed]",
      "text/plain": [
       "<matplotlib.figure.Figure at 0x1394ffb50>"
      ]
     },
     "metadata": {},
     "output_type": "display_data"
    },
    {
     "data": {
      "image/png": "[encoded data removed]",
      "text/plain": [
       "<matplotlib.figure.Figure at 0x13949e6d0>"
      ]
     },
     "metadata": {},
     "output_type": "display_data"
    }
   ],
   "source": [
    "fig, ax = plt.subplots(1,1, figsize=(15, 12))\n",
    "g = sns.factorplot(x=\"factor\", y=\"data\", data=df.iloc[:8000, :], ax=ax)"
   ]
  },
  {
   "cell_type": "code",
   "execution_count": 81,
   "metadata": {
    "collapsed": false
   },
   "outputs": [
    {
     "data": {
      "text/plain": [
       "data      -0.276807\n",
       "factor    10.000000\n",
       "Name: 10, dtype: float64"
      ]
     },
     "execution_count": 81,
     "metadata": {},
     "output_type": "execute_result"
    }
   ],
   "source": [
    "df.iloc[10, :]"
   ]
  },
  {
   "cell_type": "code",
   "execution_count": 88,
   "metadata": {
    "collapsed": false
   },
   "outputs": [
    {
     "data": {
      "text/plain": [
       "(2415000,)"
      ]
     },
     "execution_count": 88,
     "metadata": {},
     "output_type": "execute_result"
    }
   ],
   "source": [
    "np.array([[i]*7000 for i in xrange(345)]).ravel().shape"
   ]
  },
  {
   "cell_type": "code",
   "execution_count": 90,
   "metadata": {
    "collapsed": false
   },
   "outputs": [
    {
     "data": {
      "text/plain": [
       "(7000, 345)"
      ]
     },
     "execution_count": 90,
     "metadata": {},
     "output_type": "execute_result"
    }
   ],
   "source": [
    "t.shape"
   ]
  },
  {
   "cell_type": "code",
   "execution_count": null,
   "metadata": {
    "collapsed": true
   },
   "outputs": [],
   "source": []
  }
 ],
 "metadata": {
  "kernelspec": {
   "display_name": "Python 2",
   "language": "python",
   "name": "python2"
  },
  "language_info": {
   "codemirror_mode": {
    "name": "ipython",
    "version": 2
   },
   "file_extension": ".py",
   "mimetype": "text/x-python",
   "name": "python",
   "nbconvert_exporter": "python",
   "pygments_lexer": "ipython2",
   "version": "2.7.6"
  }
 },
 "nbformat": 4,
 "nbformat_minor": 0
}
