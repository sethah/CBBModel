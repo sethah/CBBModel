{
 "cells": [
  {
   "cell_type": "code",
   "execution_count": 2,
   "metadata": {
    "collapsed": false
   },
   "outputs": [],
   "source": [
    "%load_ext autoreload\n",
    "%autoreload 2"
   ]
  },
  {
   "cell_type": "code",
   "execution_count": 4,
   "metadata": {
    "collapsed": false
   },
   "outputs": [],
   "source": [
    "import pymc\n",
    "import numpy as np\n",
    "import pandas as pd\n",
    "from general.DB import DB\n",
    "import util\n",
    "import matplotlib.pyplot as plt\n",
    "%matplotlib inline"
   ]
  },
  {
   "cell_type": "code",
   "execution_count": 44,
   "metadata": {
    "collapsed": false
   },
   "outputs": [],
   "source": [
    "unstacked, stacked, teams = util.get_data(2013)"
   ]
  },
  {
   "cell_type": "code",
   "execution_count": 45,
   "metadata": {
    "collapsed": false
   },
   "outputs": [
    {
     "data": {
      "text/html": [
       "<div>\n",
       "<table border=\"1\" class=\"dataframe\">\n",
       "  <thead>\n",
       "    <tr style=\"text-align: right;\">\n",
       "      <th></th>\n",
       "      <th>pace</th>\n",
       "      <th>team</th>\n",
       "      <th>kenpom</th>\n",
       "      <th>team_id</th>\n",
       "    </tr>\n",
       "  </thead>\n",
       "  <tbody>\n",
       "    <tr>\n",
       "      <th>0</th>\n",
       "      <td>66.8</td>\n",
       "      <td>Louisville</td>\n",
       "      <td>Louisville</td>\n",
       "      <td>367</td>\n",
       "    </tr>\n",
       "    <tr>\n",
       "      <th>1</th>\n",
       "      <td>62.8</td>\n",
       "      <td>Florida</td>\n",
       "      <td>Florida</td>\n",
       "      <td>235</td>\n",
       "    </tr>\n",
       "    <tr>\n",
       "      <th>2</th>\n",
       "      <td>67.3</td>\n",
       "      <td>Indiana</td>\n",
       "      <td>Indiana</td>\n",
       "      <td>306</td>\n",
       "    </tr>\n",
       "    <tr>\n",
       "      <th>3</th>\n",
       "      <td>65.1</td>\n",
       "      <td>Michigan</td>\n",
       "      <td>Michigan</td>\n",
       "      <td>418</td>\n",
       "    </tr>\n",
       "    <tr>\n",
       "      <th>4</th>\n",
       "      <td>64.6</td>\n",
       "      <td>Gonzaga</td>\n",
       "      <td>Gonzaga</td>\n",
       "      <td>260</td>\n",
       "    </tr>\n",
       "  </tbody>\n",
       "</table>\n",
       "</div>"
      ],
      "text/plain": [
       "   pace        team      kenpom  team_id\n",
       "0  66.8  Louisville  Louisville      367\n",
       "1  62.8     Florida     Florida      235\n",
       "2  67.3     Indiana     Indiana      306\n",
       "3  65.1    Michigan    Michigan      418\n",
       "4  64.6     Gonzaga     Gonzaga      260"
      ]
     },
     "execution_count": 45,
     "metadata": {},
     "output_type": "execute_result"
    }
   ],
   "source": [
    "kenpom = pd.read_sql(\"SELECT adjt, team FROM kenpom_ranks WHERE year=2013\", DB.conn)\n",
    "all_teams = pd.read_sql(\"SELECT kenpom, ncaaid FROM teams\", DB.conn)\n",
    "kenpom = kenpom.merge(all_teams, left_on=\"team\", right_on=\"kenpom\")\n",
    "kenpom.rename(columns={'ncaaid': 'team_id', 'adjt': 'pace'}, inplace=True)\n",
    "kenpom.head()"
   ]
  },
  {
   "cell_type": "code",
   "execution_count": 46,
   "metadata": {
    "collapsed": false
   },
   "outputs": [
    {
     "data": {
      "text/html": [
       "<div>\n",
       "<table border=\"1\" class=\"dataframe\">\n",
       "  <thead>\n",
       "    <tr style=\"text-align: right;\">\n",
       "      <th></th>\n",
       "      <th>game_id</th>\n",
       "      <th>dt</th>\n",
       "      <th>hteam</th>\n",
       "      <th>hteam_id</th>\n",
       "      <th>ateam</th>\n",
       "      <th>ateam_id</th>\n",
       "      <th>hpts</th>\n",
       "      <th>hposs</th>\n",
       "      <th>apts</th>\n",
       "      <th>aposs</th>\n",
       "      <th>...</th>\n",
       "      <th>hppp</th>\n",
       "      <th>appp</th>\n",
       "      <th>neutral</th>\n",
       "      <th>home_outcome</th>\n",
       "      <th>poss</th>\n",
       "      <th>season</th>\n",
       "      <th>team_id_x</th>\n",
       "      <th>home_adjt</th>\n",
       "      <th>team_id_y</th>\n",
       "      <th>away_adjt</th>\n",
       "    </tr>\n",
       "  </thead>\n",
       "  <tbody>\n",
       "    <tr>\n",
       "      <th>0</th>\n",
       "      <td>2035795</td>\n",
       "      <td>2013-04-08</td>\n",
       "      <td>Michigan</td>\n",
       "      <td>418</td>\n",
       "      <td>Louisville</td>\n",
       "      <td>367</td>\n",
       "      <td>76</td>\n",
       "      <td>63.875</td>\n",
       "      <td>82</td>\n",
       "      <td>65.925</td>\n",
       "      <td>...</td>\n",
       "      <td>1.189824</td>\n",
       "      <td>1.243838</td>\n",
       "      <td>True</td>\n",
       "      <td>False</td>\n",
       "      <td>64.9000</td>\n",
       "      <td>2013</td>\n",
       "      <td>418</td>\n",
       "      <td>65.1</td>\n",
       "      <td>367</td>\n",
       "      <td>66.8</td>\n",
       "    </tr>\n",
       "    <tr>\n",
       "      <th>1</th>\n",
       "      <td>1914455</td>\n",
       "      <td>2013-03-16</td>\n",
       "      <td>Syracuse</td>\n",
       "      <td>688</td>\n",
       "      <td>Louisville</td>\n",
       "      <td>367</td>\n",
       "      <td>61</td>\n",
       "      <td>63.350</td>\n",
       "      <td>78</td>\n",
       "      <td>66.100</td>\n",
       "      <td>...</td>\n",
       "      <td>0.962904</td>\n",
       "      <td>1.180030</td>\n",
       "      <td>True</td>\n",
       "      <td>False</td>\n",
       "      <td>64.7250</td>\n",
       "      <td>2013</td>\n",
       "      <td>688</td>\n",
       "      <td>64.2</td>\n",
       "      <td>367</td>\n",
       "      <td>66.8</td>\n",
       "    </tr>\n",
       "    <tr>\n",
       "      <th>2</th>\n",
       "      <td>1783192</td>\n",
       "      <td>2013-03-02</td>\n",
       "      <td>Syracuse</td>\n",
       "      <td>688</td>\n",
       "      <td>Louisville</td>\n",
       "      <td>367</td>\n",
       "      <td>53</td>\n",
       "      <td>64.700</td>\n",
       "      <td>58</td>\n",
       "      <td>65.400</td>\n",
       "      <td>...</td>\n",
       "      <td>0.819165</td>\n",
       "      <td>0.886850</td>\n",
       "      <td>False</td>\n",
       "      <td>False</td>\n",
       "      <td>65.0500</td>\n",
       "      <td>2013</td>\n",
       "      <td>688</td>\n",
       "      <td>64.2</td>\n",
       "      <td>367</td>\n",
       "      <td>66.8</td>\n",
       "    </tr>\n",
       "    <tr>\n",
       "      <th>3</th>\n",
       "      <td>2025015</td>\n",
       "      <td>2013-04-06</td>\n",
       "      <td>Wichita St.</td>\n",
       "      <td>782</td>\n",
       "      <td>Louisville</td>\n",
       "      <td>367</td>\n",
       "      <td>68</td>\n",
       "      <td>62.400</td>\n",
       "      <td>72</td>\n",
       "      <td>60.775</td>\n",
       "      <td>...</td>\n",
       "      <td>1.089744</td>\n",
       "      <td>1.184698</td>\n",
       "      <td>True</td>\n",
       "      <td>False</td>\n",
       "      <td>61.5875</td>\n",
       "      <td>2013</td>\n",
       "      <td>782</td>\n",
       "      <td>65.1</td>\n",
       "      <td>367</td>\n",
       "      <td>66.8</td>\n",
       "    </tr>\n",
       "    <tr>\n",
       "      <th>4</th>\n",
       "      <td>1991724</td>\n",
       "      <td>2013-03-31</td>\n",
       "      <td>Duke</td>\n",
       "      <td>193</td>\n",
       "      <td>Louisville</td>\n",
       "      <td>367</td>\n",
       "      <td>63</td>\n",
       "      <td>66.300</td>\n",
       "      <td>85</td>\n",
       "      <td>69.100</td>\n",
       "      <td>...</td>\n",
       "      <td>0.950226</td>\n",
       "      <td>1.230101</td>\n",
       "      <td>True</td>\n",
       "      <td>False</td>\n",
       "      <td>67.7000</td>\n",
       "      <td>2013</td>\n",
       "      <td>193</td>\n",
       "      <td>67.6</td>\n",
       "      <td>367</td>\n",
       "      <td>66.8</td>\n",
       "    </tr>\n",
       "  </tbody>\n",
       "</table>\n",
       "<p>5 rows × 22 columns</p>\n",
       "</div>"
      ],
      "text/plain": [
       "   game_id          dt        hteam  hteam_id       ateam  ateam_id  hpts  \\\n",
       "0  2035795  2013-04-08     Michigan       418  Louisville       367    76   \n",
       "1  1914455  2013-03-16     Syracuse       688  Louisville       367    61   \n",
       "2  1783192  2013-03-02     Syracuse       688  Louisville       367    53   \n",
       "3  2025015  2013-04-06  Wichita St.       782  Louisville       367    68   \n",
       "4  1991724  2013-03-31         Duke       193  Louisville       367    63   \n",
       "\n",
       "    hposs  apts   aposs    ...          hppp      appp  neutral  home_outcome  \\\n",
       "0  63.875    82  65.925    ...      1.189824  1.243838     True         False   \n",
       "1  63.350    78  66.100    ...      0.962904  1.180030     True         False   \n",
       "2  64.700    58  65.400    ...      0.819165  0.886850    False         False   \n",
       "3  62.400    72  60.775    ...      1.089744  1.184698     True         False   \n",
       "4  66.300    85  69.100    ...      0.950226  1.230101     True         False   \n",
       "\n",
       "      poss season  team_id_x  home_adjt  team_id_y  away_adjt  \n",
       "0  64.9000   2013        418       65.1        367       66.8  \n",
       "1  64.7250   2013        688       64.2        367       66.8  \n",
       "2  65.0500   2013        688       64.2        367       66.8  \n",
       "3  61.5875   2013        782       65.1        367       66.8  \n",
       "4  67.7000   2013        193       67.6        367       66.8  \n",
       "\n",
       "[5 rows x 22 columns]"
      ]
     },
     "execution_count": 46,
     "metadata": {},
     "output_type": "execute_result"
    }
   ],
   "source": [
    "unstacked = unstacked.merge(kenpom[['team_id', 'pace']], left_on='hteam_id', right_on='team_id')\n",
    "unstacked.rename(columns={'pace': 'home_adjt'}, inplace=True)\n",
    "# unstacked.drop('team_id', inplace=True)\n",
    "unstacked = unstacked.merge(kenpom[['team_id', 'pace']], left_on='ateam_id', right_on='team_id')\n",
    "unstacked.rename(columns={'pace': 'away_adjt'}, inplace=True)\n",
    "# unstacked.drop('team_id', 1)\n",
    "unstacked.head()"
   ]
  },
  {
   "cell_type": "code",
   "execution_count": 47,
   "metadata": {
    "collapsed": false
   },
   "outputs": [],
   "source": [
    "mean_poss = unstacked.poss.mean()\n",
    "unstacked['kenpom_predicted'] = unstacked.apply(lambda row: \\\n",
    "    row.home_adjt * row.away_adjt / mean_poss, axis=1)\n",
    "unstacked['kp_error'] =  unstacked.kenpom_predicted - unstacked.poss"
   ]
  },
  {
   "cell_type": "code",
   "execution_count": 51,
   "metadata": {
    "collapsed": false
   },
   "outputs": [
    {
     "name": "stdout",
     "output_type": "stream",
     "text": [
      "4.94625938218\n"
     ]
    },
    {
     "data": {
      "image/png": "[encoded data removed]",
      "text/plain": [
       "<matplotlib.figure.Figure at 0x1102dff90>"
      ]
     },
     "metadata": {},
     "output_type": "display_data"
    }
   ],
   "source": [
    "plt.hist(unstacked['kp_error'], bins=20)\n",
    "print np.std(unstacked['kp_error'])\n",
    "# unstacked.shape"
   ]
  },
  {
   "cell_type": "code",
   "execution_count": 6,
   "metadata": {
    "collapsed": false
   },
   "outputs": [],
   "source": [
    "pace_initial = stacked.groupby('iteam').mean()['poss'].values\n",
    "teams['pace_initial'] = pace_initial"
   ]
  },
  {
   "cell_type": "code",
   "execution_count": 37,
   "metadata": {
    "collapsed": false
   },
   "outputs": [],
   "source": [
    "num_teams = teams.shape[0]\n",
    "home_team_idx = unstacked.i_hteam.values\n",
    "away_team_idx = unstacked.i_ateam.values\n",
    "observed_pace = unstacked.poss.values\n",
    "tau = 1. / pymc.Uniform('tau', 3., 20.)**2\n",
    "pace_prior = pymc.Normal(\"pace_prior\", mu=0, tau=tau, size=num_teams, value=pace_initial)\n",
    "pace_intercept = pymc.Normal('intercept', 4, 1 / (1)**2, value=4)\n",
    "\n",
    "@pymc.deterministic\n",
    "def pace_rtg(pace=pace_prior):\n",
    "    p = pace.copy()\n",
    "    p = p - np.mean(pace)\n",
    "    return p\n",
    "        \n",
    "@pymc.deterministic\n",
    "def mu_pace(home_team=home_team_idx,\n",
    "               away_team=away_team_idx,\n",
    "               paces=pace_rtg,\n",
    "               pace_intercept=pace_intercept):\n",
    "    return pace_intercept + paces[home_team] + paces[away_team]\n",
    "\n",
    "tau_poss = pymc.Uniform('tau_poss', (1 / 20)**0.5,(1 / 1)**0.5)\n",
    "poss = pymc.Normal('poss', mu=mu_pace, tau=tau_poss, value=observed_pace, observed=True)\n",
    "# poss = pymc.Poisson('poss', mu=mu_pace, value=observed_pace, observed=True)\n",
    "poss_pred = pymc.Normal('poss_pred', mu=mu_pace, tau=tau_poss)\n"
   ]
  },
  {
   "cell_type": "code",
   "execution_count": 72,
   "metadata": {
    "collapsed": false
   },
   "outputs": [
    {
     "name": "stdout",
     "output_type": "stream",
     "text": [
      " [-----------------100%-----------------] 10000 of 10000 complete in 11.3 sec"
     ]
    }
   ],
   "source": [
    "N_samples = 10000\n",
    "burn_in = 0.3\n",
    "model = pymc.Model([mu_pace, pace_prior, tau, pace_rtg, poss, pace_intercept, tau_poss, poss_pred])\n",
    "map_ = pymc.MAP( model )\n",
    "map_.fit() #stores the fitted variables' values in foo.value\n",
    "mcmc = pymc.MCMC(model)\n",
    "mcmc.sample(N_samples, burn_in * N_samples)"
   ]
  },
  {
   "cell_type": "code",
   "execution_count": 73,
   "metadata": {
    "collapsed": false
   },
   "outputs": [
    {
     "name": "stdout",
     "output_type": "stream",
     "text": [
      "\n"
     ]
    }
   ],
   "source": [
    "teams['mean_pace_rtg'] = pace_rtg.stats()['mean']\n",
    "teams['pace'] = pace_rtg.stats()['mean']\n",
    "teams['pace2'] = teams.pace + pace_intercept.stats()['mean']"
   ]
  },
  {
   "cell_type": "code",
   "execution_count": 81,
   "metadata": {
    "collapsed": false
   },
   "outputs": [
    {
     "name": "stdout",
     "output_type": "stream",
     "text": [
      "avg_diff\n"
     ]
    },
    {
     "data": {
      "text/plain": [
       "21.256484149855908"
      ]
     },
     "execution_count": 81,
     "metadata": {},
     "output_type": "execute_result"
    }
   ],
   "source": [
    "rank_sim, rate_sim, df = util.compare_ratings(teams, kenpom, 'pace', 'bayes', 'kp', metric='avg_diff')\n",
    "rank_sim"
   ]
  },
  {
   "cell_type": "code",
   "execution_count": 75,
   "metadata": {
    "collapsed": false
   },
   "outputs": [
    {
     "name": "stdout",
     "output_type": "stream",
     "text": [
      "Plotting intercept\n"
     ]
    },
    {
     "data": {
      "image/png": "[encoded data removed]",
      "text/plain": [
       "<matplotlib.figure.Figure at 0x10b63c3d0>"
      ]
     },
     "metadata": {},
     "output_type": "display_data"
    }
   ],
   "source": [
    "pymc.Matplot.plot(pace_intercept)"
   ]
  },
  {
   "cell_type": "code",
   "execution_count": 13,
   "metadata": {
    "collapsed": false
   },
   "outputs": [
    {
     "data": {
      "text/plain": [
       "(array([ 0.00128536,  0.01327046,  0.04616869,  0.06461532,  0.04012403,\n",
       "         0.01594539,  0.00396029,  0.00100744,  0.00031265,  0.00013896]),\n",
       " array([  47.3625,   52.715 ,   58.0675,   63.42  ,   68.7725,   74.125 ,\n",
       "          79.4775,   84.83  ,   90.1825,   95.535 ,  100.8875]),\n",
       " <a list of 10 Patch objects>)"
      ]
     },
     "execution_count": 13,
     "metadata": {},
     "output_type": "execute_result"
    },
    {
     "data": {
      "image/png": "[encoded data removed]",
      "text/plain": [
       "<matplotlib.figure.Figure at 0x10b12cf50>"
      ]
     },
     "metadata": {},
     "output_type": "display_data"
    }
   ],
   "source": [
    "plt.hist(poss_pred.trace().ravel(), normed=True, alpha=0.5, bins=20)\n",
    "# plt.hist(observed_pace)\n",
    "plt.hist(observed_pace[~pd.isnull(observed_pace)], color='r', normed=True, alpha=0.5)"
   ]
  },
  {
   "cell_type": "code",
   "execution_count": 14,
   "metadata": {
    "collapsed": true
   },
   "outputs": [],
   "source": [
    "bteams = pd.read_sql(\"SELECT * FROM teams WHERE conf='B10'\", DB.conn)\n",
    "b10_teams = set(bteams.ncaaid.values)"
   ]
  },
  {
   "cell_type": "code",
   "execution_count": 25,
   "metadata": {
    "collapsed": false
   },
   "outputs": [
    {
     "data": {
      "text/html": [
       "<div>\n",
       "<table border=\"1\" class=\"dataframe\">\n",
       "  <thead>\n",
       "    <tr style=\"text-align: right;\">\n",
       "      <th></th>\n",
       "      <th>game_id</th>\n",
       "      <th>dt</th>\n",
       "      <th>hteam</th>\n",
       "      <th>team_id_x</th>\n",
       "      <th>ateam</th>\n",
       "      <th>team_id_y</th>\n",
       "      <th>hpts</th>\n",
       "      <th>hposs</th>\n",
       "      <th>apts</th>\n",
       "      <th>aposs</th>\n",
       "      <th>i_hteam</th>\n",
       "      <th>i_ateam</th>\n",
       "      <th>poss</th>\n",
       "    </tr>\n",
       "  </thead>\n",
       "  <tbody>\n",
       "    <tr>\n",
       "      <th>0</th>\n",
       "      <td>1999211</td>\n",
       "      <td>2013-04-02</td>\n",
       "      <td>Iowa</td>\n",
       "      <td>312</td>\n",
       "      <td>Maryland</td>\n",
       "      <td>392</td>\n",
       "      <td>71</td>\n",
       "      <td>63.400</td>\n",
       "      <td>60</td>\n",
       "      <td>64.600</td>\n",
       "      <td>1</td>\n",
       "      <td>83</td>\n",
       "      <td>64.0000</td>\n",
       "    </tr>\n",
       "    <tr>\n",
       "      <th>1</th>\n",
       "      <td>1948633</td>\n",
       "      <td>2013-03-22</td>\n",
       "      <td>Iowa</td>\n",
       "      <td>312</td>\n",
       "      <td>Stony Brook</td>\n",
       "      <td>683</td>\n",
       "      <td>75</td>\n",
       "      <td>62.975</td>\n",
       "      <td>63</td>\n",
       "      <td>63.075</td>\n",
       "      <td>1</td>\n",
       "      <td>234</td>\n",
       "      <td>63.0250</td>\n",
       "    </tr>\n",
       "    <tr>\n",
       "      <th>2</th>\n",
       "      <td>1942259</td>\n",
       "      <td>2013-03-20</td>\n",
       "      <td>Iowa</td>\n",
       "      <td>312</td>\n",
       "      <td>Indiana St.</td>\n",
       "      <td>305</td>\n",
       "      <td>68</td>\n",
       "      <td>65.350</td>\n",
       "      <td>52</td>\n",
       "      <td>65.225</td>\n",
       "      <td>1</td>\n",
       "      <td>54</td>\n",
       "      <td>65.2875</td>\n",
       "    </tr>\n",
       "    <tr>\n",
       "      <th>3</th>\n",
       "      <td>1871394</td>\n",
       "      <td>2013-03-09</td>\n",
       "      <td>Iowa</td>\n",
       "      <td>312</td>\n",
       "      <td>Nebraska</td>\n",
       "      <td>463</td>\n",
       "      <td>74</td>\n",
       "      <td>56.125</td>\n",
       "      <td>60</td>\n",
       "      <td>56.225</td>\n",
       "      <td>1</td>\n",
       "      <td>6</td>\n",
       "      <td>56.1750</td>\n",
       "    </tr>\n",
       "    <tr>\n",
       "      <th>4</th>\n",
       "      <td>1835252</td>\n",
       "      <td>2013-03-05</td>\n",
       "      <td>Iowa</td>\n",
       "      <td>312</td>\n",
       "      <td>Illinois</td>\n",
       "      <td>301</td>\n",
       "      <td>63</td>\n",
       "      <td>67.500</td>\n",
       "      <td>55</td>\n",
       "      <td>68.075</td>\n",
       "      <td>1</td>\n",
       "      <td>34</td>\n",
       "      <td>67.7875</td>\n",
       "    </tr>\n",
       "  </tbody>\n",
       "</table>\n",
       "</div>"
      ],
      "text/plain": [
       "   game_id          dt hteam  team_id_x        ateam  team_id_y  hpts   hposs  \\\n",
       "0  1999211  2013-04-02  Iowa        312     Maryland        392    71  63.400   \n",
       "1  1948633  2013-03-22  Iowa        312  Stony Brook        683    75  62.975   \n",
       "2  1942259  2013-03-20  Iowa        312  Indiana St.        305    68  65.350   \n",
       "3  1871394  2013-03-09  Iowa        312     Nebraska        463    74  56.125   \n",
       "4  1835252  2013-03-05  Iowa        312     Illinois        301    63  67.500   \n",
       "\n",
       "   apts   aposs  i_hteam  i_ateam     poss  \n",
       "0    60  64.600        1       83  64.0000  \n",
       "1    63  63.075        1      234  63.0250  \n",
       "2    52  65.225        1       54  65.2875  \n",
       "3    60  56.225        1        6  56.1750  \n",
       "4    55  68.075        1       34  67.7875  "
      ]
     },
     "execution_count": 25,
     "metadata": {},
     "output_type": "execute_result"
    }
   ],
   "source": [
    "games.head()"
   ]
  },
  {
   "cell_type": "code",
   "execution_count": 118,
   "metadata": {
    "collapsed": false
   },
   "outputs": [
    {
     "data": {
      "text/plain": [
       "(7000, 5267)"
      ]
     },
     "execution_count": 118,
     "metadata": {},
     "output_type": "execute_result"
    }
   ],
   "source": [
    "games['pred'] = np.mean(poss_pred.trace(), axis=0)\n",
    "trace = poss_pred.trace()\n",
    "trace.shape"
   ]
  },
  {
   "cell_type": "code",
   "execution_count": 30,
   "metadata": {
    "collapsed": false
   },
   "outputs": [
    {
     "data": {
      "text/plain": [
       "[<matplotlib.lines.Line2D at 0x10ea33b50>]"
      ]
     },
     "execution_count": 30,
     "metadata": {},
     "output_type": "execute_result"
    },
    {
     "data": {
      "image/png": "[encoded data removed]",
      "text/plain": [
       "<matplotlib.figure.Figure at 0x10ea2d150>"
      ]
     },
     "metadata": {},
     "output_type": "display_data"
    }
   ],
   "source": [
    "plt.plot(range(games.shape[0]), games.poss)\n",
    "plt.plot(range(games.shape[0]), games.pred)"
   ]
  },
  {
   "cell_type": "code",
   "execution_count": 31,
   "metadata": {
    "collapsed": true
   },
   "outputs": [],
   "source": [
    "from sklearn.metrics import r2_score"
   ]
  },
  {
   "cell_type": "code",
   "execution_count": 32,
   "metadata": {
    "collapsed": false
   },
   "outputs": [
    {
     "data": {
      "text/plain": [
       "0.38777394311599989"
      ]
     },
     "execution_count": 32,
     "metadata": {},
     "output_type": "execute_result"
    }
   ],
   "source": [
    "r2_score(games.poss, games.pred)"
   ]
  },
  {
   "cell_type": "code",
   "execution_count": 36,
   "metadata": {
    "collapsed": false
   },
   "outputs": [
    {
     "data": {
      "text/plain": [
       "(array([   16.,    93.,   413.,  1195.,  1830.,  1760.,  1178.,   406.,\n",
       "           94.,    15.]),\n",
       " array([ 65.7970665 ,  65.86804546,  65.93902442,  66.01000337,\n",
       "         66.08098233,  66.15196129,  66.22294025,  66.29391921,\n",
       "         66.36489817,  66.43587713,  66.50685609]),\n",
       " <a list of 10 Patch objects>)"
      ]
     },
     "execution_count": 36,
     "metadata": {},
     "output_type": "execute_result"
    },
    {
     "data": {
      "image/png": "[encoded data removed]",
      "text/plain": [
       "<matplotlib.figure.Figure at 0x10e9ef850>"
      ]
     },
     "metadata": {},
     "output_type": "display_data"
    }
   ],
   "source": [
    "season_average = np.mean(poss_pred.trace(), axis=1)\n",
    "plt.hist(season_average)"
   ]
  },
  {
   "cell_type": "code",
   "execution_count": 43,
   "metadata": {
    "collapsed": false
   },
   "outputs": [
    {
     "data": {
      "text/plain": [
       "(array([   7.,   30.,  125.,  250.,  515.,  794.,  948.,  862.,  685.,\n",
       "         451.,  297.,  150.,   82.,   29.,   23.,    6.,    4.,    5.,\n",
       "           1.,    3.]),\n",
       " array([  47.3625 ,   50.03875,   52.715  ,   55.39125,   58.0675 ,\n",
       "          60.74375,   63.42   ,   66.09625,   68.7725 ,   71.44875,\n",
       "          74.125  ,   76.80125,   79.4775 ,   82.15375,   84.83   ,\n",
       "          87.50625,   90.1825 ,   92.85875,   95.535  ,   98.21125,\n",
       "         100.8875 ]),\n",
       " <a list of 20 Patch objects>)"
      ]
     },
     "execution_count": 43,
     "metadata": {},
     "output_type": "execute_result"
    },
    {
     "data": {
      "image/png": "[encoded data removed]",
      "text/plain": [
       "<matplotlib.figure.Figure at 0x10f395810>"
      ]
     },
     "metadata": {},
     "output_type": "display_data"
    }
   ],
   "source": [
    "game_dist = np.mean(poss_pred.trace(), axis=0)\n",
    "plt.hist(game_dist, alpha=1, color='r')\n",
    "plt.hist(observed_pace, alpha=0.5, bins=20)"
   ]
  },
  {
   "cell_type": "code",
   "execution_count": 100,
   "metadata": {
    "collapsed": false
   },
   "outputs": [
    {
     "data": {
      "text/plain": [
       "['95% HPD interval',\n",
       " 'n',\n",
       " 'quantiles',\n",
       " 'standard deviation',\n",
       " 'mc error',\n",
       " 'mean']"
      ]
     },
     "execution_count": 100,
     "metadata": {},
     "output_type": "execute_result"
    }
   ],
   "source": [
    "pace_rtg.stats().keys()"
   ]
  },
  {
   "cell_type": "code",
   "execution_count": 101,
   "metadata": {
    "collapsed": false
   },
   "outputs": [],
   "source": [
    "teams['pace_var'] = pace_rtg.stats()['standard deviation']"
   ]
  },
  {
   "cell_type": "code",
   "execution_count": 117,
   "metadata": {
    "collapsed": false
   },
   "outputs": [
    {
     "name": "stdout",
     "output_type": "stream",
     "text": [
      "['Baylor' 'Iowa' 'Virginia' 'Michigan St.' 'Northwestern' 'Indiana'\n",
      " 'Nebraska' 'Penn St.' 'Wisconsin' 'Minnesota']\n",
      "\n"
     ]
    },
    {
     "data": {
      "image/png": "[encoded data removed]",
      "text/plain": [
       "<matplotlib.figure.Figure at 0x143205490>"
      ]
     },
     "metadata": {},
     "output_type": "display_data"
    }
   ],
   "source": [
    "fig, ax = plt.subplots(1, 1)\n",
    "trace = pace_rtg.trace()\n",
    "df = pd.DataFrame(trace)\n",
    "df.head()\n",
    "data_to_plot = df.iloc[:, :10].values\n",
    "tms = teams.ncaa[:10].values\n",
    "print tms\n",
    "ax.boxplot(data_to_plot)\n",
    "ax.set_xticklabels(tms, rotation=45)\n",
    "print"
   ]
  },
  {
   "cell_type": "code",
   "execution_count": null,
   "metadata": {
    "collapsed": true
   },
   "outputs": [],
   "source": []
  }
 ],
 "metadata": {
  "kernelspec": {
   "display_name": "Python 2",
   "language": "python",
   "name": "python2"
  },
  "language_info": {
   "codemirror_mode": {
    "name": "ipython",
    "version": 2
   },
   "file_extension": ".py",
   "mimetype": "text/x-python",
   "name": "python",
   "nbconvert_exporter": "python",
   "pygments_lexer": "ipython2",
   "version": "2.7.10"
  }
 },
 "nbformat": 4,
 "nbformat_minor": 0
}
