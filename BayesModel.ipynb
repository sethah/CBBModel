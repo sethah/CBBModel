{
 "cells": [
  {
   "cell_type": "code",
   "execution_count": 1,
   "metadata": {
    "collapsed": false
   },
   "outputs": [],
   "source": [
    "%load_ext autoreload\n",
    "%autoreload 2"
   ]
  },
  {
   "cell_type": "code",
   "execution_count": 2,
   "metadata": {
    "collapsed": true
   },
   "outputs": [],
   "source": [
    "import pymc\n",
    "import numpy as np\n",
    "import pandas as pd\n",
    "from DB import DB\n",
    "import util\n",
    "import matplotlib.pyplot as plt\n",
    "%matplotlib inline"
   ]
  },
  {
   "cell_type": "code",
   "execution_count": 3,
   "metadata": {
    "collapsed": false
   },
   "outputs": [],
   "source": [
    "unstacked, stacked, teams = util.get_data(2013)"
   ]
  },
  {
   "cell_type": "code",
   "execution_count": 4,
   "metadata": {
    "collapsed": false
   },
   "outputs": [
    {
     "data": {
      "text/plain": [
       "((5378, 13), (10756, 16), (350, 2), 10756)"
      ]
     },
     "execution_count": 4,
     "metadata": {},
     "output_type": "execute_result"
    }
   ],
   "source": [
    "unstacked.shape, stacked.shape, teams.shape, 2*unstacked.shape[0]"
   ]
  },
  {
   "cell_type": "code",
   "execution_count": 5,
   "metadata": {
    "collapsed": false
   },
   "outputs": [
    {
     "data": {
      "text/html": [
       "<div>\n",
       "<table border=\"1\" class=\"dataframe\">\n",
       "  <thead>\n",
       "    <tr style=\"text-align: right;\">\n",
       "      <th></th>\n",
       "      <th>dt</th>\n",
       "      <th>hteam_id</th>\n",
       "      <th>ateam_id</th>\n",
       "      <th>home_score</th>\n",
       "      <th>away_score</th>\n",
       "      <th>neutral</th>\n",
       "      <th>neutral_site</th>\n",
       "      <th>home_outcome</th>\n",
       "      <th>numot</th>\n",
       "      <th>game_id</th>\n",
       "      <th>opp_string</th>\n",
       "      <th>team</th>\n",
       "      <th>pts</th>\n",
       "      <th>poss</th>\n",
       "      <th>team_id</th>\n",
       "      <th>iteam</th>\n",
       "    </tr>\n",
       "  </thead>\n",
       "  <tbody>\n",
       "    <tr>\n",
       "      <th>0</th>\n",
       "      <td>2013-04-04</td>\n",
       "      <td>51</td>\n",
       "      <td>312</td>\n",
       "      <td>74</td>\n",
       "      <td>54</td>\n",
       "      <td>True</td>\n",
       "      <td>Madison Square Garden, New York,NY</td>\n",
       "      <td>True</td>\n",
       "      <td>0</td>\n",
       "      <td>2019716</td>\n",
       "      <td>Iowa</td>\n",
       "      <td>Iowa</td>\n",
       "      <td>54</td>\n",
       "      <td>68.550</td>\n",
       "      <td>312</td>\n",
       "      <td>122</td>\n",
       "    </tr>\n",
       "    <tr>\n",
       "      <th>1</th>\n",
       "      <td>2013-04-02</td>\n",
       "      <td>312</td>\n",
       "      <td>392</td>\n",
       "      <td>71</td>\n",
       "      <td>60</td>\n",
       "      <td>True</td>\n",
       "      <td>Madison Square Garden, New York, NY</td>\n",
       "      <td>True</td>\n",
       "      <td>0</td>\n",
       "      <td>1999211</td>\n",
       "      <td>Maryland</td>\n",
       "      <td>Iowa</td>\n",
       "      <td>71</td>\n",
       "      <td>63.400</td>\n",
       "      <td>312</td>\n",
       "      <td>122</td>\n",
       "    </tr>\n",
       "    <tr>\n",
       "      <th>2</th>\n",
       "      <td>2013-03-27</td>\n",
       "      <td>746</td>\n",
       "      <td>312</td>\n",
       "      <td>64</td>\n",
       "      <td>75</td>\n",
       "      <td>False</td>\n",
       "      <td>None</td>\n",
       "      <td>False</td>\n",
       "      <td>0</td>\n",
       "      <td>1981123</td>\n",
       "      <td>Iowa</td>\n",
       "      <td>Iowa</td>\n",
       "      <td>75</td>\n",
       "      <td>65.125</td>\n",
       "      <td>312</td>\n",
       "      <td>122</td>\n",
       "    </tr>\n",
       "    <tr>\n",
       "      <th>3</th>\n",
       "      <td>2013-03-22</td>\n",
       "      <td>312</td>\n",
       "      <td>683</td>\n",
       "      <td>75</td>\n",
       "      <td>63</td>\n",
       "      <td>False</td>\n",
       "      <td>None</td>\n",
       "      <td>True</td>\n",
       "      <td>0</td>\n",
       "      <td>1948633</td>\n",
       "      <td>Iowa</td>\n",
       "      <td>Iowa</td>\n",
       "      <td>75</td>\n",
       "      <td>62.975</td>\n",
       "      <td>312</td>\n",
       "      <td>122</td>\n",
       "    </tr>\n",
       "    <tr>\n",
       "      <th>4</th>\n",
       "      <td>2013-03-20</td>\n",
       "      <td>312</td>\n",
       "      <td>305</td>\n",
       "      <td>68</td>\n",
       "      <td>52</td>\n",
       "      <td>False</td>\n",
       "      <td>None</td>\n",
       "      <td>True</td>\n",
       "      <td>0</td>\n",
       "      <td>1942259</td>\n",
       "      <td>Iowa</td>\n",
       "      <td>Iowa</td>\n",
       "      <td>68</td>\n",
       "      <td>65.350</td>\n",
       "      <td>312</td>\n",
       "      <td>122</td>\n",
       "    </tr>\n",
       "  </tbody>\n",
       "</table>\n",
       "</div>"
      ],
      "text/plain": [
       "           dt  hteam_id  ateam_id  home_score  away_score neutral  \\\n",
       "0  2013-04-04        51       312          74          54    True   \n",
       "1  2013-04-02       312       392          71          60    True   \n",
       "2  2013-03-27       746       312          64          75   False   \n",
       "3  2013-03-22       312       683          75          63   False   \n",
       "4  2013-03-20       312       305          68          52   False   \n",
       "\n",
       "                          neutral_site home_outcome  numot  game_id  \\\n",
       "0   Madison Square Garden, New York,NY         True      0  2019716   \n",
       "1  Madison Square Garden, New York, NY         True      0  1999211   \n",
       "2                                 None        False      0  1981123   \n",
       "3                                 None         True      0  1948633   \n",
       "4                                 None         True      0  1942259   \n",
       "\n",
       "  opp_string  team  pts    poss  team_id  iteam  \n",
       "0       Iowa  Iowa   54  68.550      312    122  \n",
       "1   Maryland  Iowa   71  63.400      312    122  \n",
       "2       Iowa  Iowa   75  65.125      312    122  \n",
       "3       Iowa  Iowa   75  62.975      312    122  \n",
       "4       Iowa  Iowa   68  65.350      312    122  "
      ]
     },
     "execution_count": 5,
     "metadata": {},
     "output_type": "execute_result"
    }
   ],
   "source": [
    "stacked.head()"
   ]
  },
  {
   "cell_type": "code",
   "execution_count": 6,
   "metadata": {
    "collapsed": false
   },
   "outputs": [],
   "source": [
    "pace_initial = stacked.groupby('iteam').mean()['poss'].values\n",
    "teams['pace_initial'] = pace_initial"
   ]
  },
  {
   "cell_type": "code",
   "execution_count": 7,
   "metadata": {
    "collapsed": false
   },
   "outputs": [],
   "source": [
    "num_teams = teams.shape[0]\n",
    "home_team_idx = unstacked.i_hteam.values\n",
    "away_team_idx = unstacked.i_ateam.values\n",
    "observed_pace = unstacked.poss.values\n",
    "tau = pymc.Uniform('tau', (1. / 20**2), (1. / 3**2))  # equivalent to stddev between 1 and inf\n",
    "pace_prior = pymc.Normal(\"pace_prior\", mu=0, tau=tau, size=num_teams, value=pace_initial)\n",
    "pace_intercept = pymc.Normal('intercept', 4, 1 / (1)**2, value=4)\n",
    "\n",
    "@pymc.deterministic\n",
    "def pace_rtg(pace=pace_prior):\n",
    "    p = pace.copy()\n",
    "    p = p - np.mean(pace)\n",
    "    return p\n",
    "        \n",
    "@pymc.deterministic\n",
    "def mu_pace(home_team=home_team_idx,\n",
    "               away_team=away_team_idx,\n",
    "               paces=pace_rtg,\n",
    "               pace_intercept=pace_intercept):\n",
    "    return pace_intercept + paces[home_team] + paces[away_team]\n",
    "\n",
    "tau_poss = pymc.Uniform('tau_poss', (1 / 20)**0.5,(1 / 1)**0.5)\n",
    "poss = pymc.Normal('poss', mu=mu_pace, tau=tau_poss, value=observed_pace, observed=True)\n",
    "# poss = pymc.Poisson('poss', mu=mu_pace, value=observed_pace, observed=True)\n",
    "poss_pred = pymc.Normal('poss_pred', mu=mu_pace, tau=tau_poss)\n"
   ]
  },
  {
   "cell_type": "code",
   "execution_count": 8,
   "metadata": {
    "collapsed": false
   },
   "outputs": [
    {
     "name": "stdout",
     "output_type": "stream",
     "text": [
      " [-----------------100%-----------------] 10000 of 10000 complete in 10.7 sec"
     ]
    }
   ],
   "source": [
    "model = pymc.Model([mu_pace, pace_prior, tau, pace_rtg, poss, pace_intercept, tau_poss, poss_pred])\n",
    "mcmc = pymc.MCMC(model)\n",
    "mcmc.sample(10000, 3000)"
   ]
  },
  {
   "cell_type": "code",
   "execution_count": 9,
   "metadata": {
    "collapsed": false
   },
   "outputs": [],
   "source": [
    "teams['mean_pace_rtg'] = pace_rtg.stats()['mean']"
   ]
  },
  {
   "cell_type": "code",
   "execution_count": 10,
   "metadata": {
    "collapsed": false
   },
   "outputs": [
    {
     "ename": "NameError",
     "evalue": "name 'all_teams' is not defined",
     "output_type": "error",
     "traceback": [
      "\u001b[0;31m---------------------------------------------------------------------------\u001b[0m",
      "\u001b[0;31mNameError\u001b[0m                                 Traceback (most recent call last)",
      "\u001b[0;32m<ipython-input-10-c9ef07bef5d5>\u001b[0m in \u001b[0;36m<module>\u001b[0;34m()\u001b[0m\n\u001b[1;32m      1\u001b[0m \u001b[0mkenpom\u001b[0m \u001b[0;34m=\u001b[0m \u001b[0mpd\u001b[0m\u001b[0;34m.\u001b[0m\u001b[0mread_sql\u001b[0m\u001b[0;34m(\u001b[0m\u001b[0;34m\"SELECT adjt, team FROM kenpom_ranks WHERE year=2013\"\u001b[0m\u001b[0;34m,\u001b[0m \u001b[0mDB\u001b[0m\u001b[0;34m.\u001b[0m\u001b[0mconn\u001b[0m\u001b[0;34m)\u001b[0m\u001b[0;34m\u001b[0m\u001b[0m\n\u001b[0;32m----> 2\u001b[0;31m \u001b[0mkenpom\u001b[0m \u001b[0;34m=\u001b[0m \u001b[0mkenpom\u001b[0m\u001b[0;34m.\u001b[0m\u001b[0mmerge\u001b[0m\u001b[0;34m(\u001b[0m\u001b[0mall_teams\u001b[0m\u001b[0;34m,\u001b[0m \u001b[0mleft_on\u001b[0m\u001b[0;34m=\u001b[0m\u001b[0;34m\"team\"\u001b[0m\u001b[0;34m,\u001b[0m \u001b[0mright_on\u001b[0m\u001b[0;34m=\u001b[0m\u001b[0;34m\"kenpom\"\u001b[0m\u001b[0;34m)\u001b[0m\u001b[0;34m\u001b[0m\u001b[0m\n\u001b[0m\u001b[1;32m      3\u001b[0m \u001b[0mall_teams\u001b[0m \u001b[0;34m=\u001b[0m \u001b[0mpd\u001b[0m\u001b[0;34m.\u001b[0m\u001b[0mread_sql\u001b[0m\u001b[0;34m(\u001b[0m\u001b[0;34m\"SELECT kenpom, ncaaid FROM teams\"\u001b[0m\u001b[0;34m,\u001b[0m \u001b[0mDB\u001b[0m\u001b[0;34m.\u001b[0m\u001b[0mconn\u001b[0m\u001b[0;34m)\u001b[0m\u001b[0;34m\u001b[0m\u001b[0m\n\u001b[1;32m      4\u001b[0m \u001b[0mdf\u001b[0m \u001b[0;34m=\u001b[0m \u001b[0mteams\u001b[0m\u001b[0;34m.\u001b[0m\u001b[0mmerge\u001b[0m\u001b[0;34m(\u001b[0m\u001b[0mkenpom\u001b[0m\u001b[0;34m,\u001b[0m \u001b[0mleft_on\u001b[0m\u001b[0;34m=\u001b[0m\u001b[0;34m'team_id'\u001b[0m\u001b[0;34m,\u001b[0m \u001b[0mright_on\u001b[0m\u001b[0;34m=\u001b[0m\u001b[0;34m'ncaaid'\u001b[0m\u001b[0;34m)\u001b[0m\u001b[0;34m\u001b[0m\u001b[0m\n\u001b[1;32m      5\u001b[0m \u001b[0mdf\u001b[0m\u001b[0;34m.\u001b[0m\u001b[0mdrop\u001b[0m\u001b[0;34m(\u001b[0m\u001b[0;34m'kenpom'\u001b[0m\u001b[0;34m,\u001b[0m \u001b[0maxis\u001b[0m\u001b[0;34m=\u001b[0m\u001b[0;36m1\u001b[0m\u001b[0;34m)\u001b[0m\u001b[0;34m\u001b[0m\u001b[0m\n",
      "\u001b[0;31mNameError\u001b[0m: name 'all_teams' is not defined"
     ]
    }
   ],
   "source": [
    "kenpom = pd.read_sql(\"SELECT adjt, team FROM kenpom_ranks WHERE year=2013\", DB.conn)\n",
    "kenpom = kenpom.merge(all_teams, left_on=\"team\", right_on=\"kenpom\")\n",
    "all_teams = pd.read_sql(\"SELECT kenpom, ncaaid FROM teams\", DB.conn)\n",
    "df = teams.merge(kenpom, left_on='team_id', right_on='ncaaid')\n",
    "df.drop('kenpom', axis=1)\n",
    "# kenpom.head()\n",
    "teams.shape"
   ]
  },
  {
   "cell_type": "code",
   "execution_count": 11,
   "metadata": {
    "collapsed": false
   },
   "outputs": [
    {
     "ename": "KeyError",
     "evalue": "'ncaaid'",
     "output_type": "error",
     "traceback": [
      "\u001b[0;31m---------------------------------------------------------------------------\u001b[0m",
      "\u001b[0;31mKeyError\u001b[0m                                  Traceback (most recent call last)",
      "\u001b[0;32m<ipython-input-11-d7d961bb3738>\u001b[0m in \u001b[0;36m<module>\u001b[0;34m()\u001b[0m\n\u001b[0;32m----> 1\u001b[0;31m \u001b[0mmerged\u001b[0m \u001b[0;34m=\u001b[0m \u001b[0mteams\u001b[0m\u001b[0;34m.\u001b[0m\u001b[0mmerge\u001b[0m\u001b[0;34m(\u001b[0m\u001b[0mkenpom\u001b[0m\u001b[0;34m,\u001b[0m \u001b[0mhow\u001b[0m\u001b[0;34m=\u001b[0m\u001b[0;34m'left'\u001b[0m\u001b[0;34m,\u001b[0m \u001b[0mleft_on\u001b[0m\u001b[0;34m=\u001b[0m\u001b[0;34m'team_id'\u001b[0m\u001b[0;34m,\u001b[0m \u001b[0mright_on\u001b[0m\u001b[0;34m=\u001b[0m\u001b[0;34m'ncaaid'\u001b[0m\u001b[0;34m)\u001b[0m\u001b[0;34m\u001b[0m\u001b[0m\n\u001b[0m\u001b[1;32m      2\u001b[0m \u001b[0mmerged\u001b[0m\u001b[0;34m[\u001b[0m\u001b[0mpd\u001b[0m\u001b[0;34m.\u001b[0m\u001b[0misnull\u001b[0m\u001b[0;34m(\u001b[0m\u001b[0mmerged\u001b[0m\u001b[0;34m.\u001b[0m\u001b[0mncaaid\u001b[0m\u001b[0;34m)\u001b[0m\u001b[0;34m]\u001b[0m\u001b[0;34m\u001b[0m\u001b[0m\n\u001b[1;32m      3\u001b[0m \u001b[0;31m# note: it is hard to get the teams we rate and the kenpom teams to line up exactly,\u001b[0m\u001b[0;34m\u001b[0m\u001b[0;34m\u001b[0m\u001b[0m\n\u001b[1;32m      4\u001b[0m \u001b[0;31m# but we want to compare the rankings (since our scale is not the same as kenpom's scale)\u001b[0m\u001b[0;34m\u001b[0m\u001b[0;34m\u001b[0m\u001b[0m\n\u001b[1;32m      5\u001b[0m \u001b[0;31m# to each other. but how to compare uneven length rankings? We can just inject random place\u001b[0m\u001b[0;34m\u001b[0m\u001b[0;34m\u001b[0m\u001b[0m\n",
      "\u001b[0;32m/Library/Python/2.7/site-packages/pandas/core/frame.pyc\u001b[0m in \u001b[0;36mmerge\u001b[0;34m(self, right, how, on, left_on, right_on, left_index, right_index, sort, suffixes, copy)\u001b[0m\n\u001b[1;32m   4069\u001b[0m                      \u001b[0mleft_on\u001b[0m\u001b[0;34m=\u001b[0m\u001b[0mleft_on\u001b[0m\u001b[0;34m,\u001b[0m \u001b[0mright_on\u001b[0m\u001b[0;34m=\u001b[0m\u001b[0mright_on\u001b[0m\u001b[0;34m,\u001b[0m\u001b[0;34m\u001b[0m\u001b[0m\n\u001b[1;32m   4070\u001b[0m                      \u001b[0mleft_index\u001b[0m\u001b[0;34m=\u001b[0m\u001b[0mleft_index\u001b[0m\u001b[0;34m,\u001b[0m \u001b[0mright_index\u001b[0m\u001b[0;34m=\u001b[0m\u001b[0mright_index\u001b[0m\u001b[0;34m,\u001b[0m \u001b[0msort\u001b[0m\u001b[0;34m=\u001b[0m\u001b[0msort\u001b[0m\u001b[0;34m,\u001b[0m\u001b[0;34m\u001b[0m\u001b[0m\n\u001b[0;32m-> 4071\u001b[0;31m                      suffixes=suffixes, copy=copy)\n\u001b[0m\u001b[1;32m   4072\u001b[0m \u001b[0;34m\u001b[0m\u001b[0m\n\u001b[1;32m   4073\u001b[0m     \u001b[0;31m#----------------------------------------------------------------------\u001b[0m\u001b[0;34m\u001b[0m\u001b[0;34m\u001b[0m\u001b[0m\n",
      "\u001b[0;32m/Library/Python/2.7/site-packages/pandas/tools/merge.pyc\u001b[0m in \u001b[0;36mmerge\u001b[0;34m(left, right, how, on, left_on, right_on, left_index, right_index, sort, suffixes, copy)\u001b[0m\n\u001b[1;32m     35\u001b[0m                          \u001b[0mright_on\u001b[0m\u001b[0;34m=\u001b[0m\u001b[0mright_on\u001b[0m\u001b[0;34m,\u001b[0m \u001b[0mleft_index\u001b[0m\u001b[0;34m=\u001b[0m\u001b[0mleft_index\u001b[0m\u001b[0;34m,\u001b[0m\u001b[0;34m\u001b[0m\u001b[0m\n\u001b[1;32m     36\u001b[0m                          \u001b[0mright_index\u001b[0m\u001b[0;34m=\u001b[0m\u001b[0mright_index\u001b[0m\u001b[0;34m,\u001b[0m \u001b[0msort\u001b[0m\u001b[0;34m=\u001b[0m\u001b[0msort\u001b[0m\u001b[0;34m,\u001b[0m \u001b[0msuffixes\u001b[0m\u001b[0;34m=\u001b[0m\u001b[0msuffixes\u001b[0m\u001b[0;34m,\u001b[0m\u001b[0;34m\u001b[0m\u001b[0m\n\u001b[0;32m---> 37\u001b[0;31m                          copy=copy)\n\u001b[0m\u001b[1;32m     38\u001b[0m     \u001b[0;32mreturn\u001b[0m \u001b[0mop\u001b[0m\u001b[0;34m.\u001b[0m\u001b[0mget_result\u001b[0m\u001b[0;34m(\u001b[0m\u001b[0;34m)\u001b[0m\u001b[0;34m\u001b[0m\u001b[0m\n\u001b[1;32m     39\u001b[0m \u001b[0;32mif\u001b[0m \u001b[0m__debug__\u001b[0m\u001b[0;34m:\u001b[0m\u001b[0;34m\u001b[0m\u001b[0m\n",
      "\u001b[0;32m/Library/Python/2.7/site-packages/pandas/tools/merge.pyc\u001b[0m in \u001b[0;36m__init__\u001b[0;34m(self, left, right, how, on, left_on, right_on, axis, left_index, right_index, sort, suffixes, copy)\u001b[0m\n\u001b[1;32m    181\u001b[0m         (self.left_join_keys,\n\u001b[1;32m    182\u001b[0m          \u001b[0mself\u001b[0m\u001b[0;34m.\u001b[0m\u001b[0mright_join_keys\u001b[0m\u001b[0;34m,\u001b[0m\u001b[0;34m\u001b[0m\u001b[0m\n\u001b[0;32m--> 183\u001b[0;31m          self.join_names) = self._get_merge_keys()\n\u001b[0m\u001b[1;32m    184\u001b[0m \u001b[0;34m\u001b[0m\u001b[0m\n\u001b[1;32m    185\u001b[0m     \u001b[0;32mdef\u001b[0m \u001b[0mget_result\u001b[0m\u001b[0;34m(\u001b[0m\u001b[0mself\u001b[0m\u001b[0;34m)\u001b[0m\u001b[0;34m:\u001b[0m\u001b[0;34m\u001b[0m\u001b[0m\n",
      "\u001b[0;32m/Library/Python/2.7/site-packages/pandas/tools/merge.pyc\u001b[0m in \u001b[0;36m_get_merge_keys\u001b[0;34m(self)\u001b[0m\n\u001b[1;32m    341\u001b[0m                 \u001b[0;32melse\u001b[0m\u001b[0;34m:\u001b[0m\u001b[0;34m\u001b[0m\u001b[0m\n\u001b[1;32m    342\u001b[0m                     \u001b[0;32mif\u001b[0m \u001b[0;32mnot\u001b[0m \u001b[0mis_rkey\u001b[0m\u001b[0;34m(\u001b[0m\u001b[0mrk\u001b[0m\u001b[0;34m)\u001b[0m\u001b[0;34m:\u001b[0m\u001b[0;34m\u001b[0m\u001b[0m\n\u001b[0;32m--> 343\u001b[0;31m                         \u001b[0mright_keys\u001b[0m\u001b[0;34m.\u001b[0m\u001b[0mappend\u001b[0m\u001b[0;34m(\u001b[0m\u001b[0mright\u001b[0m\u001b[0;34m[\u001b[0m\u001b[0mrk\u001b[0m\u001b[0;34m]\u001b[0m\u001b[0;34m.\u001b[0m\u001b[0mvalues\u001b[0m\u001b[0;34m)\u001b[0m\u001b[0;34m\u001b[0m\u001b[0m\n\u001b[0m\u001b[1;32m    344\u001b[0m                         \u001b[0;32mif\u001b[0m \u001b[0mlk\u001b[0m \u001b[0;34m==\u001b[0m \u001b[0mrk\u001b[0m\u001b[0;34m:\u001b[0m\u001b[0;34m\u001b[0m\u001b[0m\n\u001b[1;32m    345\u001b[0m                             \u001b[0;31m# avoid key upcast in corner case (length-0)\u001b[0m\u001b[0;34m\u001b[0m\u001b[0;34m\u001b[0m\u001b[0m\n",
      "\u001b[0;32m/Library/Python/2.7/site-packages/pandas/core/frame.pyc\u001b[0m in \u001b[0;36m__getitem__\u001b[0;34m(self, key)\u001b[0m\n\u001b[1;32m   1795\u001b[0m             \u001b[0;32mreturn\u001b[0m \u001b[0mself\u001b[0m\u001b[0;34m.\u001b[0m\u001b[0m_getitem_multilevel\u001b[0m\u001b[0;34m(\u001b[0m\u001b[0mkey\u001b[0m\u001b[0;34m)\u001b[0m\u001b[0;34m\u001b[0m\u001b[0m\n\u001b[1;32m   1796\u001b[0m         \u001b[0;32melse\u001b[0m\u001b[0;34m:\u001b[0m\u001b[0;34m\u001b[0m\u001b[0m\n\u001b[0;32m-> 1797\u001b[0;31m             \u001b[0;32mreturn\u001b[0m \u001b[0mself\u001b[0m\u001b[0;34m.\u001b[0m\u001b[0m_getitem_column\u001b[0m\u001b[0;34m(\u001b[0m\u001b[0mkey\u001b[0m\u001b[0;34m)\u001b[0m\u001b[0;34m\u001b[0m\u001b[0m\n\u001b[0m\u001b[1;32m   1798\u001b[0m \u001b[0;34m\u001b[0m\u001b[0m\n\u001b[1;32m   1799\u001b[0m     \u001b[0;32mdef\u001b[0m \u001b[0m_getitem_column\u001b[0m\u001b[0;34m(\u001b[0m\u001b[0mself\u001b[0m\u001b[0;34m,\u001b[0m \u001b[0mkey\u001b[0m\u001b[0;34m)\u001b[0m\u001b[0;34m:\u001b[0m\u001b[0;34m\u001b[0m\u001b[0m\n",
      "\u001b[0;32m/Library/Python/2.7/site-packages/pandas/core/frame.pyc\u001b[0m in \u001b[0;36m_getitem_column\u001b[0;34m(self, key)\u001b[0m\n\u001b[1;32m   1802\u001b[0m         \u001b[0;31m# get column\u001b[0m\u001b[0;34m\u001b[0m\u001b[0;34m\u001b[0m\u001b[0m\n\u001b[1;32m   1803\u001b[0m         \u001b[0;32mif\u001b[0m \u001b[0mself\u001b[0m\u001b[0;34m.\u001b[0m\u001b[0mcolumns\u001b[0m\u001b[0;34m.\u001b[0m\u001b[0mis_unique\u001b[0m\u001b[0;34m:\u001b[0m\u001b[0;34m\u001b[0m\u001b[0m\n\u001b[0;32m-> 1804\u001b[0;31m             \u001b[0;32mreturn\u001b[0m \u001b[0mself\u001b[0m\u001b[0;34m.\u001b[0m\u001b[0m_get_item_cache\u001b[0m\u001b[0;34m(\u001b[0m\u001b[0mkey\u001b[0m\u001b[0;34m)\u001b[0m\u001b[0;34m\u001b[0m\u001b[0m\n\u001b[0m\u001b[1;32m   1805\u001b[0m \u001b[0;34m\u001b[0m\u001b[0m\n\u001b[1;32m   1806\u001b[0m         \u001b[0;31m# duplicate columns & possible reduce dimensionaility\u001b[0m\u001b[0;34m\u001b[0m\u001b[0;34m\u001b[0m\u001b[0m\n",
      "\u001b[0;32m/Library/Python/2.7/site-packages/pandas/core/generic.pyc\u001b[0m in \u001b[0;36m_get_item_cache\u001b[0;34m(self, item)\u001b[0m\n\u001b[1;32m   1082\u001b[0m         \u001b[0mres\u001b[0m \u001b[0;34m=\u001b[0m \u001b[0mcache\u001b[0m\u001b[0;34m.\u001b[0m\u001b[0mget\u001b[0m\u001b[0;34m(\u001b[0m\u001b[0mitem\u001b[0m\u001b[0;34m)\u001b[0m\u001b[0;34m\u001b[0m\u001b[0m\n\u001b[1;32m   1083\u001b[0m         \u001b[0;32mif\u001b[0m \u001b[0mres\u001b[0m \u001b[0;32mis\u001b[0m \u001b[0mNone\u001b[0m\u001b[0;34m:\u001b[0m\u001b[0;34m\u001b[0m\u001b[0m\n\u001b[0;32m-> 1084\u001b[0;31m             \u001b[0mvalues\u001b[0m \u001b[0;34m=\u001b[0m \u001b[0mself\u001b[0m\u001b[0;34m.\u001b[0m\u001b[0m_data\u001b[0m\u001b[0;34m.\u001b[0m\u001b[0mget\u001b[0m\u001b[0;34m(\u001b[0m\u001b[0mitem\u001b[0m\u001b[0;34m)\u001b[0m\u001b[0;34m\u001b[0m\u001b[0m\n\u001b[0m\u001b[1;32m   1085\u001b[0m             \u001b[0mres\u001b[0m \u001b[0;34m=\u001b[0m \u001b[0mself\u001b[0m\u001b[0;34m.\u001b[0m\u001b[0m_box_item_values\u001b[0m\u001b[0;34m(\u001b[0m\u001b[0mitem\u001b[0m\u001b[0;34m,\u001b[0m \u001b[0mvalues\u001b[0m\u001b[0;34m)\u001b[0m\u001b[0;34m\u001b[0m\u001b[0m\n\u001b[1;32m   1086\u001b[0m             \u001b[0mcache\u001b[0m\u001b[0;34m[\u001b[0m\u001b[0mitem\u001b[0m\u001b[0;34m]\u001b[0m \u001b[0;34m=\u001b[0m \u001b[0mres\u001b[0m\u001b[0;34m\u001b[0m\u001b[0m\n",
      "\u001b[0;32m/Library/Python/2.7/site-packages/pandas/core/internals.pyc\u001b[0m in \u001b[0;36mget\u001b[0;34m(self, item, fastpath)\u001b[0m\n\u001b[1;32m   2849\u001b[0m \u001b[0;34m\u001b[0m\u001b[0m\n\u001b[1;32m   2850\u001b[0m             \u001b[0;32mif\u001b[0m \u001b[0;32mnot\u001b[0m \u001b[0misnull\u001b[0m\u001b[0;34m(\u001b[0m\u001b[0mitem\u001b[0m\u001b[0;34m)\u001b[0m\u001b[0;34m:\u001b[0m\u001b[0;34m\u001b[0m\u001b[0m\n\u001b[0;32m-> 2851\u001b[0;31m                 \u001b[0mloc\u001b[0m \u001b[0;34m=\u001b[0m \u001b[0mself\u001b[0m\u001b[0;34m.\u001b[0m\u001b[0mitems\u001b[0m\u001b[0;34m.\u001b[0m\u001b[0mget_loc\u001b[0m\u001b[0;34m(\u001b[0m\u001b[0mitem\u001b[0m\u001b[0;34m)\u001b[0m\u001b[0;34m\u001b[0m\u001b[0m\n\u001b[0m\u001b[1;32m   2852\u001b[0m             \u001b[0;32melse\u001b[0m\u001b[0;34m:\u001b[0m\u001b[0;34m\u001b[0m\u001b[0m\n\u001b[1;32m   2853\u001b[0m                 \u001b[0mindexer\u001b[0m \u001b[0;34m=\u001b[0m \u001b[0mnp\u001b[0m\u001b[0;34m.\u001b[0m\u001b[0marange\u001b[0m\u001b[0;34m(\u001b[0m\u001b[0mlen\u001b[0m\u001b[0;34m(\u001b[0m\u001b[0mself\u001b[0m\u001b[0;34m.\u001b[0m\u001b[0mitems\u001b[0m\u001b[0;34m)\u001b[0m\u001b[0;34m)\u001b[0m\u001b[0;34m[\u001b[0m\u001b[0misnull\u001b[0m\u001b[0;34m(\u001b[0m\u001b[0mself\u001b[0m\u001b[0;34m.\u001b[0m\u001b[0mitems\u001b[0m\u001b[0;34m)\u001b[0m\u001b[0;34m]\u001b[0m\u001b[0;34m\u001b[0m\u001b[0m\n",
      "\u001b[0;32m/Library/Python/2.7/site-packages/pandas/core/index.pyc\u001b[0m in \u001b[0;36mget_loc\u001b[0;34m(self, key, method)\u001b[0m\n\u001b[1;32m   1570\u001b[0m         \"\"\"\n\u001b[1;32m   1571\u001b[0m         \u001b[0;32mif\u001b[0m \u001b[0mmethod\u001b[0m \u001b[0;32mis\u001b[0m \u001b[0mNone\u001b[0m\u001b[0;34m:\u001b[0m\u001b[0;34m\u001b[0m\u001b[0m\n\u001b[0;32m-> 1572\u001b[0;31m             \u001b[0;32mreturn\u001b[0m \u001b[0mself\u001b[0m\u001b[0;34m.\u001b[0m\u001b[0m_engine\u001b[0m\u001b[0;34m.\u001b[0m\u001b[0mget_loc\u001b[0m\u001b[0;34m(\u001b[0m\u001b[0m_values_from_object\u001b[0m\u001b[0;34m(\u001b[0m\u001b[0mkey\u001b[0m\u001b[0;34m)\u001b[0m\u001b[0;34m)\u001b[0m\u001b[0;34m\u001b[0m\u001b[0m\n\u001b[0m\u001b[1;32m   1573\u001b[0m \u001b[0;34m\u001b[0m\u001b[0m\n\u001b[1;32m   1574\u001b[0m         \u001b[0mindexer\u001b[0m \u001b[0;34m=\u001b[0m \u001b[0mself\u001b[0m\u001b[0;34m.\u001b[0m\u001b[0mget_indexer\u001b[0m\u001b[0;34m(\u001b[0m\u001b[0;34m[\u001b[0m\u001b[0mkey\u001b[0m\u001b[0;34m]\u001b[0m\u001b[0;34m,\u001b[0m \u001b[0mmethod\u001b[0m\u001b[0;34m=\u001b[0m\u001b[0mmethod\u001b[0m\u001b[0;34m)\u001b[0m\u001b[0;34m\u001b[0m\u001b[0m\n",
      "\u001b[0;32mpandas/index.pyx\u001b[0m in \u001b[0;36mpandas.index.IndexEngine.get_loc (pandas/index.c:3824)\u001b[0;34m()\u001b[0m\n",
      "\u001b[0;32mpandas/index.pyx\u001b[0m in \u001b[0;36mpandas.index.IndexEngine.get_loc (pandas/index.c:3704)\u001b[0;34m()\u001b[0m\n",
      "\u001b[0;32mpandas/hashtable.pyx\u001b[0m in \u001b[0;36mpandas.hashtable.PyObjectHashTable.get_item (pandas/hashtable.c:12280)\u001b[0;34m()\u001b[0m\n",
      "\u001b[0;32mpandas/hashtable.pyx\u001b[0m in \u001b[0;36mpandas.hashtable.PyObjectHashTable.get_item (pandas/hashtable.c:12231)\u001b[0;34m()\u001b[0m\n",
      "\u001b[0;31mKeyError\u001b[0m: 'ncaaid'"
     ]
    }
   ],
   "source": [
    "merged = teams.merge(kenpom, how='left', left_on='team_id', right_on='ncaaid')\n",
    "merged[pd.isnull(merged.ncaaid)]\n",
    "# note: it is hard to get the teams we rate and the kenpom teams to line up exactly,\n",
    "# but we want to compare the rankings (since our scale is not the same as kenpom's scale)\n",
    "# to each other. but how to compare uneven length rankings? We can just inject random place\n",
    "# holders into the lacking ranking and it will be about the same"
   ]
  },
  {
   "cell_type": "code",
   "execution_count": 12,
   "metadata": {
    "collapsed": false
   },
   "outputs": [
    {
     "name": "stdout",
     "output_type": "stream",
     "text": [
      "Plotting intercept\n"
     ]
    },
    {
     "name": "stderr",
     "output_type": "stream",
     "text": [
      "/System/Library/Frameworks/Python.framework/Versions/2.7/Extras/lib/python/matplotlib/collections.py:548: FutureWarning: elementwise comparison failed; returning scalar instead, but in the future will perform elementwise comparison\n",
      "  if self._edgecolors == 'face':\n"
     ]
    },
    {
     "data": {
      "image/png": "[encoded data removed]",
      "text/plain": [
       "<matplotlib.figure.Figure at 0x10ae01d50>"
      ]
     },
     "metadata": {},
     "output_type": "display_data"
    }
   ],
   "source": [
    "pymc.Matplot.plot(pace_intercept)"
   ]
  },
  {
   "cell_type": "code",
   "execution_count": 13,
   "metadata": {
    "collapsed": false
   },
   "outputs": [
    {
     "data": {
      "text/plain": [
       "(array([ 0.00128536,  0.01327046,  0.04616869,  0.06461532,  0.04012403,\n",
       "         0.01594539,  0.00396029,  0.00100744,  0.00031265,  0.00013896]),\n",
       " array([  47.3625,   52.715 ,   58.0675,   63.42  ,   68.7725,   74.125 ,\n",
       "          79.4775,   84.83  ,   90.1825,   95.535 ,  100.8875]),\n",
       " <a list of 10 Patch objects>)"
      ]
     },
     "execution_count": 13,
     "metadata": {},
     "output_type": "execute_result"
    },
    {
     "data": {
      "image/png": "[encoded data removed]",
      "text/plain": [
       "<matplotlib.figure.Figure at 0x10b12cf50>"
      ]
     },
     "metadata": {},
     "output_type": "display_data"
    }
   ],
   "source": [
    "plt.hist(poss_pred.trace().ravel(), normed=True, alpha=0.5, bins=20)\n",
    "# plt.hist(observed_pace)\n",
    "plt.hist(observed_pace[~pd.isnull(observed_pace)], color='r', normed=True, alpha=0.5)"
   ]
  },
  {
   "cell_type": "code",
   "execution_count": 14,
   "metadata": {
    "collapsed": true
   },
   "outputs": [],
   "source": [
    "bteams = pd.read_sql(\"SELECT * FROM teams WHERE conf='B10'\", DB.conn)\n",
    "b10_teams = set(bteams.ncaaid.values)"
   ]
  },
  {
   "cell_type": "code",
   "execution_count": 15,
   "metadata": {
    "collapsed": false
   },
   "outputs": [
    {
     "data": {
      "text/html": [
       "<div>\n",
       "<table border=\"1\" class=\"dataframe\">\n",
       "  <thead>\n",
       "    <tr style=\"text-align: right;\">\n",
       "      <th></th>\n",
       "      <th>team_id</th>\n",
       "      <th>iteam</th>\n",
       "      <th>pace_initial</th>\n",
       "      <th>mean_pace_rtg</th>\n",
       "      <th>pace</th>\n",
       "      <th>pace2</th>\n",
       "      <th>pace_initial_rank</th>\n",
       "      <th>pace_rank</th>\n",
       "    </tr>\n",
       "  </thead>\n",
       "  <tbody>\n",
       "    <tr>\n",
       "      <th>330</th>\n",
       "      <td>1004</td>\n",
       "      <td>330</td>\n",
       "      <td>74.895536</td>\n",
       "      <td>7.649213</td>\n",
       "      <td>7.649213</td>\n",
       "      <td>73.868030</td>\n",
       "      <td>5</td>\n",
       "      <td>5</td>\n",
       "    </tr>\n",
       "    <tr>\n",
       "      <th>203</th>\n",
       "      <td>508</td>\n",
       "      <td>203</td>\n",
       "      <td>73.402679</td>\n",
       "      <td>7.045180</td>\n",
       "      <td>7.045180</td>\n",
       "      <td>73.263997</td>\n",
       "      <td>7</td>\n",
       "      <td>6</td>\n",
       "    </tr>\n",
       "    <tr>\n",
       "      <th>69</th>\n",
       "      <td>176</td>\n",
       "      <td>69</td>\n",
       "      <td>72.454688</td>\n",
       "      <td>6.455161</td>\n",
       "      <td>6.455161</td>\n",
       "      <td>72.673978</td>\n",
       "      <td>8</td>\n",
       "      <td>7</td>\n",
       "    </tr>\n",
       "    <tr>\n",
       "      <th>5</th>\n",
       "      <td>9</td>\n",
       "      <td>5</td>\n",
       "      <td>71.279687</td>\n",
       "      <td>6.061854</td>\n",
       "      <td>6.061854</td>\n",
       "      <td>72.280671</td>\n",
       "      <td>23</td>\n",
       "      <td>8</td>\n",
       "    </tr>\n",
       "    <tr>\n",
       "      <th>120</th>\n",
       "      <td>310</td>\n",
       "      <td>120</td>\n",
       "      <td>72.331618</td>\n",
       "      <td>6.033584</td>\n",
       "      <td>6.033584</td>\n",
       "      <td>72.252401</td>\n",
       "      <td>9</td>\n",
       "      <td>9</td>\n",
       "    </tr>\n",
       "    <tr>\n",
       "      <th>186</th>\n",
       "      <td>474</td>\n",
       "      <td>186</td>\n",
       "      <td>73.870455</td>\n",
       "      <td>6.024004</td>\n",
       "      <td>6.024004</td>\n",
       "      <td>72.242821</td>\n",
       "      <td>6</td>\n",
       "      <td>10</td>\n",
       "    </tr>\n",
       "    <tr>\n",
       "      <th>347</th>\n",
       "      <td>28600</td>\n",
       "      <td>347</td>\n",
       "      <td>71.869828</td>\n",
       "      <td>6.021638</td>\n",
       "      <td>6.021638</td>\n",
       "      <td>72.240455</td>\n",
       "      <td>13</td>\n",
       "      <td>11</td>\n",
       "    </tr>\n",
       "    <tr>\n",
       "      <th>306</th>\n",
       "      <td>741</td>\n",
       "      <td>306</td>\n",
       "      <td>72.236111</td>\n",
       "      <td>5.911646</td>\n",
       "      <td>5.911646</td>\n",
       "      <td>72.130463</td>\n",
       "      <td>10</td>\n",
       "      <td>12</td>\n",
       "    </tr>\n",
       "    <tr>\n",
       "      <th>270</th>\n",
       "      <td>670</td>\n",
       "      <td>270</td>\n",
       "      <td>71.715152</td>\n",
       "      <td>5.684722</td>\n",
       "      <td>5.684722</td>\n",
       "      <td>71.903539</td>\n",
       "      <td>17</td>\n",
       "      <td>13</td>\n",
       "    </tr>\n",
       "    <tr>\n",
       "      <th>179</th>\n",
       "      <td>464</td>\n",
       "      <td>179</td>\n",
       "      <td>71.481034</td>\n",
       "      <td>5.511268</td>\n",
       "      <td>5.511268</td>\n",
       "      <td>71.730085</td>\n",
       "      <td>19</td>\n",
       "      <td>14</td>\n",
       "    </tr>\n",
       "    <tr>\n",
       "      <th>164</th>\n",
       "      <td>433</td>\n",
       "      <td>164</td>\n",
       "      <td>71.781818</td>\n",
       "      <td>5.503672</td>\n",
       "      <td>5.503672</td>\n",
       "      <td>71.722489</td>\n",
       "      <td>15</td>\n",
       "      <td>15</td>\n",
       "    </tr>\n",
       "    <tr>\n",
       "      <th>49</th>\n",
       "      <td>127</td>\n",
       "      <td>49</td>\n",
       "      <td>71.984483</td>\n",
       "      <td>5.373771</td>\n",
       "      <td>5.373771</td>\n",
       "      <td>71.592588</td>\n",
       "      <td>11</td>\n",
       "      <td>16</td>\n",
       "    </tr>\n",
       "    <tr>\n",
       "      <th>110</th>\n",
       "      <td>288</td>\n",
       "      <td>110</td>\n",
       "      <td>71.372656</td>\n",
       "      <td>5.339803</td>\n",
       "      <td>5.339803</td>\n",
       "      <td>71.558620</td>\n",
       "      <td>21</td>\n",
       "      <td>17</td>\n",
       "    </tr>\n",
       "    <tr>\n",
       "      <th>138</th>\n",
       "      <td>365</td>\n",
       "      <td>138</td>\n",
       "      <td>70.211667</td>\n",
       "      <td>5.138233</td>\n",
       "      <td>5.138233</td>\n",
       "      <td>71.357050</td>\n",
       "      <td>41</td>\n",
       "      <td>18</td>\n",
       "    </tr>\n",
       "    <tr>\n",
       "      <th>174</th>\n",
       "      <td>457</td>\n",
       "      <td>174</td>\n",
       "      <td>71.775714</td>\n",
       "      <td>5.061127</td>\n",
       "      <td>5.061127</td>\n",
       "      <td>71.279944</td>\n",
       "      <td>16</td>\n",
       "      <td>19</td>\n",
       "    </tr>\n",
       "    <tr>\n",
       "      <th>152</th>\n",
       "      <td>400</td>\n",
       "      <td>152</td>\n",
       "      <td>71.309848</td>\n",
       "      <td>4.914666</td>\n",
       "      <td>4.914666</td>\n",
       "      <td>71.133483</td>\n",
       "      <td>22</td>\n",
       "      <td>20</td>\n",
       "    </tr>\n",
       "    <tr>\n",
       "      <th>27</th>\n",
       "      <td>77</td>\n",
       "      <td>27</td>\n",
       "      <td>70.812143</td>\n",
       "      <td>4.891351</td>\n",
       "      <td>4.891351</td>\n",
       "      <td>71.110168</td>\n",
       "      <td>30</td>\n",
       "      <td>21</td>\n",
       "    </tr>\n",
       "    <tr>\n",
       "      <th>271</th>\n",
       "      <td>671</td>\n",
       "      <td>271</td>\n",
       "      <td>71.610937</td>\n",
       "      <td>4.825396</td>\n",
       "      <td>4.825396</td>\n",
       "      <td>71.044213</td>\n",
       "      <td>18</td>\n",
       "      <td>22</td>\n",
       "    </tr>\n",
       "    <tr>\n",
       "      <th>137</th>\n",
       "      <td>363</td>\n",
       "      <td>137</td>\n",
       "      <td>71.837903</td>\n",
       "      <td>4.613735</td>\n",
       "      <td>4.613735</td>\n",
       "      <td>70.832552</td>\n",
       "      <td>14</td>\n",
       "      <td>23</td>\n",
       "    </tr>\n",
       "    <tr>\n",
       "      <th>103</th>\n",
       "      <td>270</td>\n",
       "      <td>103</td>\n",
       "      <td>70.364516</td>\n",
       "      <td>4.602995</td>\n",
       "      <td>4.602995</td>\n",
       "      <td>70.821812</td>\n",
       "      <td>36</td>\n",
       "      <td>24</td>\n",
       "    </tr>\n",
       "    <tr>\n",
       "      <th>13</th>\n",
       "      <td>31</td>\n",
       "      <td>13</td>\n",
       "      <td>70.791667</td>\n",
       "      <td>4.551728</td>\n",
       "      <td>4.551728</td>\n",
       "      <td>70.770545</td>\n",
       "      <td>31</td>\n",
       "      <td>25</td>\n",
       "    </tr>\n",
       "    <tr>\n",
       "      <th>0</th>\n",
       "      <td>2</td>\n",
       "      <td>0</td>\n",
       "      <td>71.900000</td>\n",
       "      <td>4.531285</td>\n",
       "      <td>4.531285</td>\n",
       "      <td>70.750102</td>\n",
       "      <td>12</td>\n",
       "      <td>26</td>\n",
       "    </tr>\n",
       "    <tr>\n",
       "      <th>38</th>\n",
       "      <td>101</td>\n",
       "      <td>38</td>\n",
       "      <td>71.025000</td>\n",
       "      <td>4.420971</td>\n",
       "      <td>4.420971</td>\n",
       "      <td>70.639788</td>\n",
       "      <td>26</td>\n",
       "      <td>27</td>\n",
       "    </tr>\n",
       "    <tr>\n",
       "      <th>169</th>\n",
       "      <td>444</td>\n",
       "      <td>169</td>\n",
       "      <td>71.136290</td>\n",
       "      <td>4.377581</td>\n",
       "      <td>4.377581</td>\n",
       "      <td>70.596398</td>\n",
       "      <td>25</td>\n",
       "      <td>28</td>\n",
       "    </tr>\n",
       "    <tr>\n",
       "      <th>329</th>\n",
       "      <td>817</td>\n",
       "      <td>329</td>\n",
       "      <td>68.987903</td>\n",
       "      <td>4.375189</td>\n",
       "      <td>4.375189</td>\n",
       "      <td>70.594006</td>\n",
       "      <td>78</td>\n",
       "      <td>29</td>\n",
       "    </tr>\n",
       "    <tr>\n",
       "      <th>173</th>\n",
       "      <td>456</td>\n",
       "      <td>173</td>\n",
       "      <td>69.770690</td>\n",
       "      <td>4.223161</td>\n",
       "      <td>4.223161</td>\n",
       "      <td>70.441978</td>\n",
       "      <td>56</td>\n",
       "      <td>30</td>\n",
       "    </tr>\n",
       "    <tr>\n",
       "      <th>187</th>\n",
       "      <td>482</td>\n",
       "      <td>187</td>\n",
       "      <td>69.913636</td>\n",
       "      <td>4.187114</td>\n",
       "      <td>4.187114</td>\n",
       "      <td>70.405931</td>\n",
       "      <td>51</td>\n",
       "      <td>31</td>\n",
       "    </tr>\n",
       "    <tr>\n",
       "      <th>44</th>\n",
       "      <td>110</td>\n",
       "      <td>44</td>\n",
       "      <td>70.286765</td>\n",
       "      <td>4.098174</td>\n",
       "      <td>4.098174</td>\n",
       "      <td>70.316991</td>\n",
       "      <td>38</td>\n",
       "      <td>32</td>\n",
       "    </tr>\n",
       "    <tr>\n",
       "      <th>87</th>\n",
       "      <td>228</td>\n",
       "      <td>87</td>\n",
       "      <td>71.431897</td>\n",
       "      <td>4.088646</td>\n",
       "      <td>4.088646</td>\n",
       "      <td>70.307463</td>\n",
       "      <td>20</td>\n",
       "      <td>33</td>\n",
       "    </tr>\n",
       "    <tr>\n",
       "      <th>16</th>\n",
       "      <td>43</td>\n",
       "      <td>16</td>\n",
       "      <td>70.767241</td>\n",
       "      <td>4.074244</td>\n",
       "      <td>4.074244</td>\n",
       "      <td>70.293061</td>\n",
       "      <td>32</td>\n",
       "      <td>34</td>\n",
       "    </tr>\n",
       "    <tr>\n",
       "      <th>133</th>\n",
       "      <td>346</td>\n",
       "      <td>133</td>\n",
       "      <td>71.170968</td>\n",
       "      <td>3.875444</td>\n",
       "      <td>3.875444</td>\n",
       "      <td>70.094261</td>\n",
       "      <td>24</td>\n",
       "      <td>35</td>\n",
       "    </tr>\n",
       "    <tr>\n",
       "      <th>139</th>\n",
       "      <td>366</td>\n",
       "      <td>139</td>\n",
       "      <td>69.916667</td>\n",
       "      <td>3.825423</td>\n",
       "      <td>3.825423</td>\n",
       "      <td>70.044240</td>\n",
       "      <td>50</td>\n",
       "      <td>36</td>\n",
       "    </tr>\n",
       "    <tr>\n",
       "      <th>121</th>\n",
       "      <td>311</td>\n",
       "      <td>121</td>\n",
       "      <td>70.845714</td>\n",
       "      <td>3.773849</td>\n",
       "      <td>3.773849</td>\n",
       "      <td>69.992666</td>\n",
       "      <td>29</td>\n",
       "      <td>37</td>\n",
       "    </tr>\n",
       "    <tr>\n",
       "      <th>106</th>\n",
       "      <td>277</td>\n",
       "      <td>106</td>\n",
       "      <td>69.917742</td>\n",
       "      <td>3.728208</td>\n",
       "      <td>3.728208</td>\n",
       "      <td>69.947025</td>\n",
       "      <td>49</td>\n",
       "      <td>38</td>\n",
       "    </tr>\n",
       "    <tr>\n",
       "      <th>73</th>\n",
       "      <td>184</td>\n",
       "      <td>73</td>\n",
       "      <td>69.770161</td>\n",
       "      <td>3.659357</td>\n",
       "      <td>3.659357</td>\n",
       "      <td>69.878174</td>\n",
       "      <td>57</td>\n",
       "      <td>39</td>\n",
       "    </tr>\n",
       "    <tr>\n",
       "      <th>166</th>\n",
       "      <td>439</td>\n",
       "      <td>166</td>\n",
       "      <td>70.515323</td>\n",
       "      <td>3.543319</td>\n",
       "      <td>3.543319</td>\n",
       "      <td>69.762136</td>\n",
       "      <td>35</td>\n",
       "      <td>40</td>\n",
       "    </tr>\n",
       "    <tr>\n",
       "      <th>63</th>\n",
       "      <td>165</td>\n",
       "      <td>63</td>\n",
       "      <td>70.237903</td>\n",
       "      <td>3.541845</td>\n",
       "      <td>3.541845</td>\n",
       "      <td>69.760662</td>\n",
       "      <td>39</td>\n",
       "      <td>41</td>\n",
       "    </tr>\n",
       "    <tr>\n",
       "      <th>336</th>\n",
       "      <td>1356</td>\n",
       "      <td>336</td>\n",
       "      <td>70.991379</td>\n",
       "      <td>3.531798</td>\n",
       "      <td>3.531798</td>\n",
       "      <td>69.750615</td>\n",
       "      <td>27</td>\n",
       "      <td>42</td>\n",
       "    </tr>\n",
       "    <tr>\n",
       "      <th>198</th>\n",
       "      <td>501</td>\n",
       "      <td>198</td>\n",
       "      <td>69.603906</td>\n",
       "      <td>3.530289</td>\n",
       "      <td>3.530289</td>\n",
       "      <td>69.749106</td>\n",
       "      <td>60</td>\n",
       "      <td>43</td>\n",
       "    </tr>\n",
       "    <tr>\n",
       "      <th>9</th>\n",
       "      <td>27</td>\n",
       "      <td>9</td>\n",
       "      <td>69.509615</td>\n",
       "      <td>3.491775</td>\n",
       "      <td>3.491775</td>\n",
       "      <td>69.710592</td>\n",
       "      <td>65</td>\n",
       "      <td>44</td>\n",
       "    </tr>\n",
       "    <tr>\n",
       "      <th>214</th>\n",
       "      <td>529</td>\n",
       "      <td>214</td>\n",
       "      <td>70.223649</td>\n",
       "      <td>3.485060</td>\n",
       "      <td>3.485060</td>\n",
       "      <td>69.703877</td>\n",
       "      <td>40</td>\n",
       "      <td>45</td>\n",
       "    </tr>\n",
       "    <tr>\n",
       "      <th>114</th>\n",
       "      <td>299</td>\n",
       "      <td>114</td>\n",
       "      <td>70.168182</td>\n",
       "      <td>3.481852</td>\n",
       "      <td>3.481852</td>\n",
       "      <td>69.700669</td>\n",
       "      <td>42</td>\n",
       "      <td>46</td>\n",
       "    </tr>\n",
       "    <tr>\n",
       "      <th>109</th>\n",
       "      <td>287</td>\n",
       "      <td>109</td>\n",
       "      <td>69.466667</td>\n",
       "      <td>3.474560</td>\n",
       "      <td>3.474560</td>\n",
       "      <td>69.693377</td>\n",
       "      <td>66</td>\n",
       "      <td>47</td>\n",
       "    </tr>\n",
       "    <tr>\n",
       "      <th>163</th>\n",
       "      <td>432</td>\n",
       "      <td>163</td>\n",
       "      <td>70.881250</td>\n",
       "      <td>3.457956</td>\n",
       "      <td>3.457956</td>\n",
       "      <td>69.676773</td>\n",
       "      <td>28</td>\n",
       "      <td>48</td>\n",
       "    </tr>\n",
       "    <tr>\n",
       "      <th>123</th>\n",
       "      <td>314</td>\n",
       "      <td>123</td>\n",
       "      <td>70.330172</td>\n",
       "      <td>3.452557</td>\n",
       "      <td>3.452557</td>\n",
       "      <td>69.671374</td>\n",
       "      <td>37</td>\n",
       "      <td>49</td>\n",
       "    </tr>\n",
       "    <tr>\n",
       "      <th>86</th>\n",
       "      <td>222</td>\n",
       "      <td>86</td>\n",
       "      <td>69.911290</td>\n",
       "      <td>3.309398</td>\n",
       "      <td>3.309398</td>\n",
       "      <td>69.528215</td>\n",
       "      <td>52</td>\n",
       "      <td>50</td>\n",
       "    </tr>\n",
       "    <tr>\n",
       "      <th>125</th>\n",
       "      <td>316</td>\n",
       "      <td>125</td>\n",
       "      <td>69.932500</td>\n",
       "      <td>3.280776</td>\n",
       "      <td>3.280776</td>\n",
       "      <td>69.499593</td>\n",
       "      <td>48</td>\n",
       "      <td>51</td>\n",
       "    </tr>\n",
       "    <tr>\n",
       "      <th>228</th>\n",
       "      <td>563</td>\n",
       "      <td>228</td>\n",
       "      <td>68.806034</td>\n",
       "      <td>3.254816</td>\n",
       "      <td>3.254816</td>\n",
       "      <td>69.473633</td>\n",
       "      <td>86</td>\n",
       "      <td>52</td>\n",
       "    </tr>\n",
       "    <tr>\n",
       "      <th>268</th>\n",
       "      <td>667</td>\n",
       "      <td>268</td>\n",
       "      <td>70.063793</td>\n",
       "      <td>3.247993</td>\n",
       "      <td>3.247993</td>\n",
       "      <td>69.466810</td>\n",
       "      <td>44</td>\n",
       "      <td>53</td>\n",
       "    </tr>\n",
       "    <tr>\n",
       "      <th>83</th>\n",
       "      <td>207</td>\n",
       "      <td>83</td>\n",
       "      <td>69.693548</td>\n",
       "      <td>3.243055</td>\n",
       "      <td>3.243055</td>\n",
       "      <td>69.461872</td>\n",
       "      <td>59</td>\n",
       "      <td>54</td>\n",
       "    </tr>\n",
       "  </tbody>\n",
       "</table>\n",
       "</div>"
      ],
      "text/plain": [
       "     team_id  iteam  pace_initial  mean_pace_rtg      pace      pace2  \\\n",
       "330     1004    330     74.895536       7.649213  7.649213  73.868030   \n",
       "203      508    203     73.402679       7.045180  7.045180  73.263997   \n",
       "69       176     69     72.454688       6.455161  6.455161  72.673978   \n",
       "5          9      5     71.279687       6.061854  6.061854  72.280671   \n",
       "120      310    120     72.331618       6.033584  6.033584  72.252401   \n",
       "186      474    186     73.870455       6.024004  6.024004  72.242821   \n",
       "347    28600    347     71.869828       6.021638  6.021638  72.240455   \n",
       "306      741    306     72.236111       5.911646  5.911646  72.130463   \n",
       "270      670    270     71.715152       5.684722  5.684722  71.903539   \n",
       "179      464    179     71.481034       5.511268  5.511268  71.730085   \n",
       "164      433    164     71.781818       5.503672  5.503672  71.722489   \n",
       "49       127     49     71.984483       5.373771  5.373771  71.592588   \n",
       "110      288    110     71.372656       5.339803  5.339803  71.558620   \n",
       "138      365    138     70.211667       5.138233  5.138233  71.357050   \n",
       "174      457    174     71.775714       5.061127  5.061127  71.279944   \n",
       "152      400    152     71.309848       4.914666  4.914666  71.133483   \n",
       "27        77     27     70.812143       4.891351  4.891351  71.110168   \n",
       "271      671    271     71.610937       4.825396  4.825396  71.044213   \n",
       "137      363    137     71.837903       4.613735  4.613735  70.832552   \n",
       "103      270    103     70.364516       4.602995  4.602995  70.821812   \n",
       "13        31     13     70.791667       4.551728  4.551728  70.770545   \n",
       "0          2      0     71.900000       4.531285  4.531285  70.750102   \n",
       "38       101     38     71.025000       4.420971  4.420971  70.639788   \n",
       "169      444    169     71.136290       4.377581  4.377581  70.596398   \n",
       "329      817    329     68.987903       4.375189  4.375189  70.594006   \n",
       "173      456    173     69.770690       4.223161  4.223161  70.441978   \n",
       "187      482    187     69.913636       4.187114  4.187114  70.405931   \n",
       "44       110     44     70.286765       4.098174  4.098174  70.316991   \n",
       "87       228     87     71.431897       4.088646  4.088646  70.307463   \n",
       "16        43     16     70.767241       4.074244  4.074244  70.293061   \n",
       "133      346    133     71.170968       3.875444  3.875444  70.094261   \n",
       "139      366    139     69.916667       3.825423  3.825423  70.044240   \n",
       "121      311    121     70.845714       3.773849  3.773849  69.992666   \n",
       "106      277    106     69.917742       3.728208  3.728208  69.947025   \n",
       "73       184     73     69.770161       3.659357  3.659357  69.878174   \n",
       "166      439    166     70.515323       3.543319  3.543319  69.762136   \n",
       "63       165     63     70.237903       3.541845  3.541845  69.760662   \n",
       "336     1356    336     70.991379       3.531798  3.531798  69.750615   \n",
       "198      501    198     69.603906       3.530289  3.530289  69.749106   \n",
       "9         27      9     69.509615       3.491775  3.491775  69.710592   \n",
       "214      529    214     70.223649       3.485060  3.485060  69.703877   \n",
       "114      299    114     70.168182       3.481852  3.481852  69.700669   \n",
       "109      287    109     69.466667       3.474560  3.474560  69.693377   \n",
       "163      432    163     70.881250       3.457956  3.457956  69.676773   \n",
       "123      314    123     70.330172       3.452557  3.452557  69.671374   \n",
       "86       222     86     69.911290       3.309398  3.309398  69.528215   \n",
       "125      316    125     69.932500       3.280776  3.280776  69.499593   \n",
       "228      563    228     68.806034       3.254816  3.254816  69.473633   \n",
       "268      667    268     70.063793       3.247993  3.247993  69.466810   \n",
       "83       207     83     69.693548       3.243055  3.243055  69.461872   \n",
       "\n",
       "     pace_initial_rank  pace_rank  \n",
       "330                  5          5  \n",
       "203                  7          6  \n",
       "69                   8          7  \n",
       "5                   23          8  \n",
       "120                  9          9  \n",
       "186                  6         10  \n",
       "347                 13         11  \n",
       "306                 10         12  \n",
       "270                 17         13  \n",
       "179                 19         14  \n",
       "164                 15         15  \n",
       "49                  11         16  \n",
       "110                 21         17  \n",
       "138                 41         18  \n",
       "174                 16         19  \n",
       "152                 22         20  \n",
       "27                  30         21  \n",
       "271                 18         22  \n",
       "137                 14         23  \n",
       "103                 36         24  \n",
       "13                  31         25  \n",
       "0                   12         26  \n",
       "38                  26         27  \n",
       "169                 25         28  \n",
       "329                 78         29  \n",
       "173                 56         30  \n",
       "187                 51         31  \n",
       "44                  38         32  \n",
       "87                  20         33  \n",
       "16                  32         34  \n",
       "133                 24         35  \n",
       "139                 50         36  \n",
       "121                 29         37  \n",
       "106                 49         38  \n",
       "73                  57         39  \n",
       "166                 35         40  \n",
       "63                  39         41  \n",
       "336                 27         42  \n",
       "198                 60         43  \n",
       "9                   65         44  \n",
       "214                 40         45  \n",
       "114                 42         46  \n",
       "109                 66         47  \n",
       "163                 28         48  \n",
       "123                 37         49  \n",
       "86                  52         50  \n",
       "125                 48         51  \n",
       "228                 86         52  \n",
       "268                 44         53  \n",
       "83                  59         54  "
      ]
     },
     "execution_count": 15,
     "metadata": {},
     "output_type": "execute_result"
    }
   ],
   "source": [
    "pace_intercept.stats()\n",
    "teams['pace'] = pace_rtg.stats()['mean']\n",
    "teams['pace2'] = teams.pace + pace_intercept.stats()['mean']\n",
    "teams['pace_initial_rank'] = teams.pace_initial.rank(ascending=False) + 4\n",
    "teams['pace_rank'] = teams.pace.rank(ascending=False) + 4\n",
    "teams[teams.team_id.isin(b10_teams)].sort('pace', ascending=False)\n",
    "\n",
    "teams.sort('pace', ascending=False).head(50)"
   ]
  },
  {
   "cell_type": "code",
   "execution_count": 25,
   "metadata": {
    "collapsed": false
   },
   "outputs": [
    {
     "data": {
      "text/html": [
       "<div>\n",
       "<table border=\"1\" class=\"dataframe\">\n",
       "  <thead>\n",
       "    <tr style=\"text-align: right;\">\n",
       "      <th></th>\n",
       "      <th>game_id</th>\n",
       "      <th>dt</th>\n",
       "      <th>hteam</th>\n",
       "      <th>team_id_x</th>\n",
       "      <th>ateam</th>\n",
       "      <th>team_id_y</th>\n",
       "      <th>hpts</th>\n",
       "      <th>hposs</th>\n",
       "      <th>apts</th>\n",
       "      <th>aposs</th>\n",
       "      <th>i_hteam</th>\n",
       "      <th>i_ateam</th>\n",
       "      <th>poss</th>\n",
       "    </tr>\n",
       "  </thead>\n",
       "  <tbody>\n",
       "    <tr>\n",
       "      <th>0</th>\n",
       "      <td>1999211</td>\n",
       "      <td>2013-04-02</td>\n",
       "      <td>Iowa</td>\n",
       "      <td>312</td>\n",
       "      <td>Maryland</td>\n",
       "      <td>392</td>\n",
       "      <td>71</td>\n",
       "      <td>63.400</td>\n",
       "      <td>60</td>\n",
       "      <td>64.600</td>\n",
       "      <td>1</td>\n",
       "      <td>83</td>\n",
       "      <td>64.0000</td>\n",
       "    </tr>\n",
       "    <tr>\n",
       "      <th>1</th>\n",
       "      <td>1948633</td>\n",
       "      <td>2013-03-22</td>\n",
       "      <td>Iowa</td>\n",
       "      <td>312</td>\n",
       "      <td>Stony Brook</td>\n",
       "      <td>683</td>\n",
       "      <td>75</td>\n",
       "      <td>62.975</td>\n",
       "      <td>63</td>\n",
       "      <td>63.075</td>\n",
       "      <td>1</td>\n",
       "      <td>234</td>\n",
       "      <td>63.0250</td>\n",
       "    </tr>\n",
       "    <tr>\n",
       "      <th>2</th>\n",
       "      <td>1942259</td>\n",
       "      <td>2013-03-20</td>\n",
       "      <td>Iowa</td>\n",
       "      <td>312</td>\n",
       "      <td>Indiana St.</td>\n",
       "      <td>305</td>\n",
       "      <td>68</td>\n",
       "      <td>65.350</td>\n",
       "      <td>52</td>\n",
       "      <td>65.225</td>\n",
       "      <td>1</td>\n",
       "      <td>54</td>\n",
       "      <td>65.2875</td>\n",
       "    </tr>\n",
       "    <tr>\n",
       "      <th>3</th>\n",
       "      <td>1871394</td>\n",
       "      <td>2013-03-09</td>\n",
       "      <td>Iowa</td>\n",
       "      <td>312</td>\n",
       "      <td>Nebraska</td>\n",
       "      <td>463</td>\n",
       "      <td>74</td>\n",
       "      <td>56.125</td>\n",
       "      <td>60</td>\n",
       "      <td>56.225</td>\n",
       "      <td>1</td>\n",
       "      <td>6</td>\n",
       "      <td>56.1750</td>\n",
       "    </tr>\n",
       "    <tr>\n",
       "      <th>4</th>\n",
       "      <td>1835252</td>\n",
       "      <td>2013-03-05</td>\n",
       "      <td>Iowa</td>\n",
       "      <td>312</td>\n",
       "      <td>Illinois</td>\n",
       "      <td>301</td>\n",
       "      <td>63</td>\n",
       "      <td>67.500</td>\n",
       "      <td>55</td>\n",
       "      <td>68.075</td>\n",
       "      <td>1</td>\n",
       "      <td>34</td>\n",
       "      <td>67.7875</td>\n",
       "    </tr>\n",
       "  </tbody>\n",
       "</table>\n",
       "</div>"
      ],
      "text/plain": [
       "   game_id          dt hteam  team_id_x        ateam  team_id_y  hpts   hposs  \\\n",
       "0  1999211  2013-04-02  Iowa        312     Maryland        392    71  63.400   \n",
       "1  1948633  2013-03-22  Iowa        312  Stony Brook        683    75  62.975   \n",
       "2  1942259  2013-03-20  Iowa        312  Indiana St.        305    68  65.350   \n",
       "3  1871394  2013-03-09  Iowa        312     Nebraska        463    74  56.125   \n",
       "4  1835252  2013-03-05  Iowa        312     Illinois        301    63  67.500   \n",
       "\n",
       "   apts   aposs  i_hteam  i_ateam     poss  \n",
       "0    60  64.600        1       83  64.0000  \n",
       "1    63  63.075        1      234  63.0250  \n",
       "2    52  65.225        1       54  65.2875  \n",
       "3    60  56.225        1        6  56.1750  \n",
       "4    55  68.075        1       34  67.7875  "
      ]
     },
     "execution_count": 25,
     "metadata": {},
     "output_type": "execute_result"
    }
   ],
   "source": [
    "games.head()"
   ]
  },
  {
   "cell_type": "code",
   "execution_count": 118,
   "metadata": {
    "collapsed": false
   },
   "outputs": [
    {
     "data": {
      "text/plain": [
       "(7000, 5267)"
      ]
     },
     "execution_count": 118,
     "metadata": {},
     "output_type": "execute_result"
    }
   ],
   "source": [
    "games['pred'] = np.mean(poss_pred.trace(), axis=0)\n",
    "trace = poss_pred.trace()\n",
    "trace.shape"
   ]
  },
  {
   "cell_type": "code",
   "execution_count": 30,
   "metadata": {
    "collapsed": false
   },
   "outputs": [
    {
     "data": {
      "text/plain": [
       "[<matplotlib.lines.Line2D at 0x10ea33b50>]"
      ]
     },
     "execution_count": 30,
     "metadata": {},
     "output_type": "execute_result"
    },
    {
     "data": {
      "image/png": "[encoded data removed]",
      "text/plain": [
       "<matplotlib.figure.Figure at 0x10ea2d150>"
      ]
     },
     "metadata": {},
     "output_type": "display_data"
    }
   ],
   "source": [
    "plt.plot(range(games.shape[0]), games.poss)\n",
    "plt.plot(range(games.shape[0]), games.pred)"
   ]
  },
  {
   "cell_type": "code",
   "execution_count": 31,
   "metadata": {
    "collapsed": true
   },
   "outputs": [],
   "source": [
    "from sklearn.metrics import r2_score"
   ]
  },
  {
   "cell_type": "code",
   "execution_count": 32,
   "metadata": {
    "collapsed": false
   },
   "outputs": [
    {
     "data": {
      "text/plain": [
       "0.38777394311599989"
      ]
     },
     "execution_count": 32,
     "metadata": {},
     "output_type": "execute_result"
    }
   ],
   "source": [
    "r2_score(games.poss, games.pred)"
   ]
  },
  {
   "cell_type": "code",
   "execution_count": 36,
   "metadata": {
    "collapsed": false
   },
   "outputs": [
    {
     "data": {
      "text/plain": [
       "(array([   16.,    93.,   413.,  1195.,  1830.,  1760.,  1178.,   406.,\n",
       "           94.,    15.]),\n",
       " array([ 65.7970665 ,  65.86804546,  65.93902442,  66.01000337,\n",
       "         66.08098233,  66.15196129,  66.22294025,  66.29391921,\n",
       "         66.36489817,  66.43587713,  66.50685609]),\n",
       " <a list of 10 Patch objects>)"
      ]
     },
     "execution_count": 36,
     "metadata": {},
     "output_type": "execute_result"
    },
    {
     "data": {
      "image/png": "[encoded data removed]",
      "text/plain": [
       "<matplotlib.figure.Figure at 0x10e9ef850>"
      ]
     },
     "metadata": {},
     "output_type": "display_data"
    }
   ],
   "source": [
    "season_average = np.mean(poss_pred.trace(), axis=1)\n",
    "plt.hist(season_average)"
   ]
  },
  {
   "cell_type": "code",
   "execution_count": 43,
   "metadata": {
    "collapsed": false
   },
   "outputs": [
    {
     "data": {
      "text/plain": [
       "(array([   7.,   30.,  125.,  250.,  515.,  794.,  948.,  862.,  685.,\n",
       "         451.,  297.,  150.,   82.,   29.,   23.,    6.,    4.,    5.,\n",
       "           1.,    3.]),\n",
       " array([  47.3625 ,   50.03875,   52.715  ,   55.39125,   58.0675 ,\n",
       "          60.74375,   63.42   ,   66.09625,   68.7725 ,   71.44875,\n",
       "          74.125  ,   76.80125,   79.4775 ,   82.15375,   84.83   ,\n",
       "          87.50625,   90.1825 ,   92.85875,   95.535  ,   98.21125,\n",
       "         100.8875 ]),\n",
       " <a list of 20 Patch objects>)"
      ]
     },
     "execution_count": 43,
     "metadata": {},
     "output_type": "execute_result"
    },
    {
     "data": {
      "image/png": "[encoded data removed]",
      "text/plain": [
       "<matplotlib.figure.Figure at 0x10f395810>"
      ]
     },
     "metadata": {},
     "output_type": "display_data"
    }
   ],
   "source": [
    "game_dist = np.mean(poss_pred.trace(), axis=0)\n",
    "plt.hist(game_dist, alpha=1, color='r')\n",
    "plt.hist(observed_pace, alpha=0.5, bins=20)"
   ]
  },
  {
   "cell_type": "code",
   "execution_count": 100,
   "metadata": {
    "collapsed": false
   },
   "outputs": [
    {
     "data": {
      "text/plain": [
       "['95% HPD interval',\n",
       " 'n',\n",
       " 'quantiles',\n",
       " 'standard deviation',\n",
       " 'mc error',\n",
       " 'mean']"
      ]
     },
     "execution_count": 100,
     "metadata": {},
     "output_type": "execute_result"
    }
   ],
   "source": [
    "pace_rtg.stats().keys()"
   ]
  },
  {
   "cell_type": "code",
   "execution_count": 101,
   "metadata": {
    "collapsed": false
   },
   "outputs": [],
   "source": [
    "teams['pace_var'] = pace_rtg.stats()['standard deviation']"
   ]
  },
  {
   "cell_type": "code",
   "execution_count": 117,
   "metadata": {
    "collapsed": false
   },
   "outputs": [
    {
     "name": "stdout",
     "output_type": "stream",
     "text": [
      "['Baylor' 'Iowa' 'Virginia' 'Michigan St.' 'Northwestern' 'Indiana'\n",
      " 'Nebraska' 'Penn St.' 'Wisconsin' 'Minnesota']\n",
      "\n"
     ]
    },
    {
     "data": {
      "image/png": "[encoded data removed]",
      "text/plain": [
       "<matplotlib.figure.Figure at 0x143205490>"
      ]
     },
     "metadata": {},
     "output_type": "display_data"
    }
   ],
   "source": [
    "fig, ax = plt.subplots(1, 1)\n",
    "trace = pace_rtg.trace()\n",
    "df = pd.DataFrame(trace)\n",
    "df.head()\n",
    "data_to_plot = df.iloc[:, :10].values\n",
    "tms = teams.ncaa[:10].values\n",
    "print tms\n",
    "ax.boxplot(data_to_plot)\n",
    "ax.set_xticklabels(tms, rotation=45)\n",
    "print"
   ]
  },
  {
   "cell_type": "code",
   "execution_count": null,
   "metadata": {
    "collapsed": true
   },
   "outputs": [],
   "source": []
  }
 ],
 "metadata": {
  "kernelspec": {
   "display_name": "Python 2",
   "language": "python",
   "name": "python2"
  },
  "language_info": {
   "codemirror_mode": {
    "name": "ipython",
    "version": 2
   },
   "file_extension": ".py",
   "mimetype": "text/x-python",
   "name": "python",
   "nbconvert_exporter": "python",
   "pygments_lexer": "ipython2",
   "version": "2.7.6"
  }
 },
 "nbformat": 4,
 "nbformat_minor": 0
}
