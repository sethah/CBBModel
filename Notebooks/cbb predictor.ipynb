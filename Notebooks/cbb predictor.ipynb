{
 "metadata": {
  "name": "",
  "signature": "sha256:95ad7054bec6f7e6ed2971a8379ba1ce04d7c500b66a187dfd38ad01c1f19e0e"
 },
 "nbformat": 3,
 "nbformat_minor": 0,
 "worksheets": [
  {
   "cells": [
    {
     "cell_type": "code",
     "collapsed": false,
     "input": [
      "import pandas as pd\n",
      "import numpy as np\n",
      "import matplotlib.pyplot as plt\n",
      "import psycopg2\n",
      "from sklearn.cross_validation import train_test_split, cross_val_score\n",
      "from sklearn.linear_model import LogisticRegression\n",
      "from sklearn.ensemble import RandomForestRegressor, RandomForestClassifier, GradientBoostingClassifier\n",
      "from sklearn.naive_bayes import GaussianNB\n",
      "%matplotlib inline"
     ],
     "language": "python",
     "metadata": {},
     "outputs": [],
     "prompt_number": 213
    },
    {
     "cell_type": "code",
     "collapsed": false,
     "input": [
      "conn = psycopg2.connect(database=\"cbb\", user=\"seth\", password=\"abc123\",\n",
      "                        host=\"localhost\", port=\"5432\")"
     ],
     "language": "python",
     "metadata": {},
     "outputs": [],
     "prompt_number": 88
    },
    {
     "cell_type": "code",
     "collapsed": false,
     "input": [
      "q = \"\"\" SELECT a.*, c.wscore, c.lscore, c.loc, c.wstreak5, c.lstreak5, c.dt\n",
      "        FROM reg_advanced a\n",
      "        JOIN reg_compact c\n",
      "        ON a.season=c.season\n",
      "        AND a.daynum=c.daynum\n",
      "        AND a.wteam=c.wteam\n",
      "        AND a.wftr IS NOT NULL\n",
      "    \"\"\"\n",
      "df = pd.read_sql(q, conn)\n",
      "teams = pd.read_sql(\"\"\"SELECT * FROM teams\"\"\", conn)"
     ],
     "language": "python",
     "metadata": {},
     "outputs": [],
     "prompt_number": 190
    },
    {
     "cell_type": "code",
     "collapsed": false,
     "input": [
      "stat_cols = ['ppp', 'ftr', 'efg', 'trt']\n",
      "features = []\n",
      "for col in stat_cols:\n",
      "    features += ['h'+col, 'a'+col, 'hd'+col, 'ad'+col]"
     ],
     "language": "python",
     "metadata": {},
     "outputs": [],
     "prompt_number": 191
    },
    {
     "cell_type": "code",
     "collapsed": false,
     "input": [
      "for col in stat_cols:\n",
      "    df['h'+col] = np.where(df['loc']=='H', df['w'+col], df['l'+col])\n",
      "    df['a'+col] = np.where(df['loc']=='A', df['w'+col], df['l'+col])\n",
      "    df['hd'+col] = np.where(df['loc']=='H', df['wd'+col], df['ld'+col])\n",
      "    df['ad'+col] = np.where(df['loc']=='A', df['wd'+col], df['ld'+col])"
     ],
     "language": "python",
     "metadata": {},
     "outputs": [],
     "prompt_number": 192
    },
    {
     "cell_type": "code",
     "collapsed": false,
     "input": [
      "df['hscore'] = np.where(df['loc']=='H', df['wscore'], df['lscore'])\n",
      "df['ascore'] = np.where(df['loc']=='H', df['lscore'], df['wscore'])\n",
      "df['hstreak5'] = np.where(df['loc']=='H', df['wstreak5'], df['lstreak5'])\n",
      "df['astreak5'] = np.where(df['loc']=='H', df['lstreak5'], df['wstreak5'])\n",
      "df['hteam'] = np.where(df['loc']=='H', df['wteam'], df['lteam'])\n",
      "df['ateam'] = np.where(df['loc']=='H', df['lteam'], df['wteam'])\n",
      "df['margin'] = df.hscore - df.ascore\n",
      "df['home_outcome'] = np.where(df.hscore > df.ascore, 1, 0)"
     ],
     "language": "python",
     "metadata": {},
     "outputs": [],
     "prompt_number": 193
    },
    {
     "cell_type": "code",
     "collapsed": false,
     "input": [
      "df['neutral'] = np.where(df['wloc'] == 'N', 1, 0)\n",
      "confs = teams[['team_id', 'conf']]\n",
      "df = pd.merge(df, confs, left_on='hteam', right_on='team_id')\n",
      "df = df.drop('team_id', 1)\n",
      "df = df.rename(columns={'conf': 'hconf'})\n",
      "df = pd.merge(df, confs, left_on='ateam', right_on='team_id')\n",
      "df = df.drop('team_id', 1)\n",
      "df = df.rename(columns={'conf': 'aconf'})"
     ],
     "language": "python",
     "metadata": {},
     "outputs": [],
     "prompt_number": 194
    },
    {
     "cell_type": "code",
     "collapsed": false,
     "input": [
      "df = df.dropna()\n",
      "c = {}\n",
      "for i, conf in enumerate(teams.conf.unique()):\n",
      "    c[conf] = i\n",
      "df.hconf = df.hconf.map(lambda x: c[x])\n",
      "df.aconf = df.aconf.map(lambda x: c[x])"
     ],
     "language": "python",
     "metadata": {},
     "outputs": [],
     "prompt_number": 195
    },
    {
     "cell_type": "code",
     "collapsed": false,
     "input": [
      "df.season.unique()"
     ],
     "language": "python",
     "metadata": {},
     "outputs": [
      {
       "metadata": {},
       "output_type": "pyout",
       "prompt_number": 196,
       "text": [
        "array([2008, 2011, 2013, 2009, 2014, 2010, 2012])"
       ]
      }
     ],
     "prompt_number": 196
    },
    {
     "cell_type": "code",
     "collapsed": false,
     "input": [
      "holdout = df[df.season.isin([2012, 2014])]\n",
      "train_df = df[df.season.isin([2008, 2009, 2010, 2011, 2013])]"
     ],
     "language": "python",
     "metadata": {},
     "outputs": [],
     "prompt_number": 197
    },
    {
     "cell_type": "code",
     "collapsed": false,
     "input": [
      "model_features = features + ['neutral', 'daynum', 'hconf', 'aconf']\n",
      "X = train_df[model_features].values\n",
      "y = train_df.home_outcome.values\n",
      "X_train, X_test, y_train, y_test = train_test_split(X, y, test_size=0.3)"
     ],
     "language": "python",
     "metadata": {},
     "outputs": [],
     "prompt_number": 221
    },
    {
     "cell_type": "code",
     "collapsed": false,
     "input": [
      "clf = RandomForestClassifier(max_depth=30, min_samples_leaf=100, min_samples_split=100)\n",
      "# clf = GradientBoostingClassifier()\n",
      "clf = LogisticRegression()\n",
      "# clf = GaussianNB()\n",
      "cv_scores = cross_val_score(clf, X_train, y_train, cv=5, scoring='accuracy')\n",
      "print cv_scores, np.mean(cv_scores)"
     ],
     "language": "python",
     "metadata": {},
     "outputs": [
      {
       "output_type": "stream",
       "stream": "stdout",
       "text": [
        "[ 0.72288488  0.7409154   0.73536755  0.74202497  0.72613762] 0.733466082531\n"
       ]
      }
     ],
     "prompt_number": 227
    },
    {
     "cell_type": "code",
     "collapsed": false,
     "input": [
      "clf.fit(X_train, y_train)\n",
      "print clf.score(X_test, y_test)"
     ],
     "language": "python",
     "metadata": {},
     "outputs": [
      {
       "output_type": "stream",
       "stream": "stdout",
       "text": [
        "0.730226537217\n"
       ]
      }
     ],
     "prompt_number": 215
    },
    {
     "cell_type": "code",
     "collapsed": false,
     "input": [
      "sorted(zip(clf.feature_importances_, model_features), key=lambda x: x[0])"
     ],
     "language": "python",
     "metadata": {},
     "outputs": [
      {
       "ename": "AttributeError",
       "evalue": "'LogisticRegression' object has no attribute 'feature_importances_'",
       "output_type": "pyerr",
       "traceback": [
        "\u001b[1;31m---------------------------------------------------------------------------\u001b[0m\n\u001b[1;31mAttributeError\u001b[0m                            Traceback (most recent call last)",
        "\u001b[1;32m<ipython-input-216-2dd7c3cdb07b>\u001b[0m in \u001b[0;36m<module>\u001b[1;34m()\u001b[0m\n\u001b[1;32m----> 1\u001b[1;33m \u001b[0msorted\u001b[0m\u001b[1;33m(\u001b[0m\u001b[0mzip\u001b[0m\u001b[1;33m(\u001b[0m\u001b[0mclf\u001b[0m\u001b[1;33m.\u001b[0m\u001b[0mfeature_importances_\u001b[0m\u001b[1;33m,\u001b[0m \u001b[0mmodel_features\u001b[0m\u001b[1;33m)\u001b[0m\u001b[1;33m,\u001b[0m \u001b[0mkey\u001b[0m\u001b[1;33m=\u001b[0m\u001b[1;32mlambda\u001b[0m \u001b[0mx\u001b[0m\u001b[1;33m:\u001b[0m \u001b[0mx\u001b[0m\u001b[1;33m[\u001b[0m\u001b[1;36m0\u001b[0m\u001b[1;33m]\u001b[0m\u001b[1;33m)\u001b[0m\u001b[1;33m\u001b[0m\u001b[0m\n\u001b[0m",
        "\u001b[1;31mAttributeError\u001b[0m: 'LogisticRegression' object has no attribute 'feature_importances_'"
       ]
      }
     ],
     "prompt_number": 216
    },
    {
     "cell_type": "code",
     "collapsed": false,
     "input": [
      "X_holdout = holdout[model_features].values\n",
      "holdout['predicted'] = clf.predict(X_holdout)\n",
      "holdout['correct'] = holdout.predicted == holdout.home_outcome"
     ],
     "language": "python",
     "metadata": {},
     "outputs": [],
     "prompt_number": 217
    },
    {
     "cell_type": "code",
     "collapsed": false,
     "input": [
      "holdout['month'] = holdout.dt.map(lambda x: x.month)\n",
      "gb = holdout.groupby('month').mean()\n",
      "print holdout.correct.mean()\n",
      "gb.correct"
     ],
     "language": "python",
     "metadata": {},
     "outputs": [
      {
       "output_type": "stream",
       "stream": "stdout",
       "text": [
        "0.740832460234\n"
       ]
      },
      {
       "metadata": {},
       "output_type": "pyout",
       "prompt_number": 218,
       "text": [
        "month\n",
        "1        0.706076\n",
        "2        0.740319\n",
        "3        0.702253\n",
        "11       0.775820\n",
        "12       0.771870\n",
        "Name: correct, dtype: float64"
       ]
      }
     ],
     "prompt_number": 218
    },
    {
     "cell_type": "code",
     "collapsed": false,
     "input": [
      "X = train_df[model_features].values\n",
      "y = train_df.margin.values\n",
      "X_train, X_test, y_train, y_test = train_test_split(X, y, test_size=0.3)"
     ],
     "language": "python",
     "metadata": {},
     "outputs": [],
     "prompt_number": 75
    },
    {
     "cell_type": "code",
     "collapsed": false,
     "input": [
      "clf = RandomForestRegressor()\n",
      "clf = GradientBoostingRegressor()\n",
      "cv_scores = cross_val_score(clf, X_train, y_train, cv=5, scoring='r2')\n",
      "print cv_scores"
     ],
     "language": "python",
     "metadata": {},
     "outputs": [
      {
       "output_type": "stream",
       "stream": "stdout",
       "text": [
        "[ 0.30410113  0.30013766  0.28121726  0.23669552  0.29782747]\n"
       ]
      }
     ],
     "prompt_number": 76
    },
    {
     "cell_type": "code",
     "collapsed": false,
     "input": [
      "clf.fit(X_train, y_train)\n",
      "print clf.score(X_test, y_test)"
     ],
     "language": "python",
     "metadata": {},
     "outputs": [
      {
       "output_type": "stream",
       "stream": "stdout",
       "text": [
        "0.302676441774\n"
       ]
      }
     ],
     "prompt_number": 77
    },
    {
     "cell_type": "code",
     "collapsed": false,
     "input": [
      "train_df['predicted_margin'] = clf.predict(X)\n",
      "plt.hist(train_df.margin.values - train_df.predicted_margin.values, bins=20)"
     ],
     "language": "python",
     "metadata": {},
     "outputs": [
      {
       "metadata": {},
       "output_type": "pyout",
       "prompt_number": 78,
       "text": [
        "(array([  2.00000000e+00,   1.90000000e+01,   3.50000000e+01,\n",
        "          9.90000000e+01,   3.15000000e+02,   7.00000000e+02,\n",
        "          1.75500000e+03,   5.24800000e+03,   7.98500000e+03,\n",
        "          2.94100000e+03,   1.07000000e+03,   4.30000000e+02,\n",
        "          1.82000000e+02,   9.90000000e+01,   2.30000000e+01,\n",
        "          1.20000000e+01,   2.00000000e+00,   2.00000000e+00,\n",
        "          1.00000000e+00,   1.00000000e+00]),\n",
        " array([-44.7  , -39.275, -33.85 , -28.425, -23.   , -17.575, -12.15 ,\n",
        "         -6.725,  -1.3  ,   4.125,   9.55 ,  14.975,  20.4  ,  25.825,\n",
        "         31.25 ,  36.675,  42.1  ,  47.525,  52.95 ,  58.375,  63.8  ]),\n",
        " <a list of 20 Patch objects>)"
       ]
      },
      {
       "metadata": {},
       "output_type": "display_data",
       "png": "[encoded data removed]",
       "text": [
        "<matplotlib.figure.Figure at 0x7fb96d8046d0>"
       ]
      }
     ],
     "prompt_number": 78
    },
    {
     "cell_type": "code",
     "collapsed": false,
     "input": [
      "train_df['hmargin_difference'] = train_df.margin - train_df.predicted_margin"
     ],
     "language": "python",
     "metadata": {},
     "outputs": [],
     "prompt_number": 79
    },
    {
     "cell_type": "code",
     "collapsed": false,
     "input": [
      "gb = train_df.groupby('hteam')"
     ],
     "language": "python",
     "metadata": {},
     "outputs": [],
     "prompt_number": 80
    },
    {
     "cell_type": "code",
     "collapsed": false,
     "input": [
      "hmargin = gb.mean().hmargin_difference\n",
      "hmargin = pd.DataFrame({'home_advantage': hmargin.values, 'hteam': hmargin.index.values})"
     ],
     "language": "python",
     "metadata": {},
     "outputs": [],
     "prompt_number": 81
    },
    {
     "cell_type": "code",
     "collapsed": false,
     "input": [
      "teams = pd.read_sql(\"\"\"SELECT * FROM teams\"\"\", conn)"
     ],
     "language": "python",
     "metadata": {},
     "outputs": [],
     "prompt_number": 82
    },
    {
     "cell_type": "code",
     "collapsed": false,
     "input": [
      "teams.head()"
     ],
     "language": "python",
     "metadata": {},
     "outputs": [
      {
       "html": [
        "<div style=\"max-height:1000px;max-width:1500px;overflow:auto;\">\n",
        "<table border=\"1\" class=\"dataframe\">\n",
        "  <thead>\n",
        "    <tr style=\"text-align: right;\">\n",
        "      <th></th>\n",
        "      <th>team_id</th>\n",
        "      <th>team_name</th>\n",
        "      <th>ncaaid</th>\n",
        "      <th>statsheet</th>\n",
        "      <th>ncaa</th>\n",
        "      <th>espn_name</th>\n",
        "      <th>espn</th>\n",
        "      <th>cbs1</th>\n",
        "      <th>cbs2</th>\n",
        "      <th>kenpom</th>\n",
        "    </tr>\n",
        "  </thead>\n",
        "  <tbody>\n",
        "    <tr>\n",
        "      <th>0</th>\n",
        "      <td> 1101</td>\n",
        "      <td> Abilene Chr</td>\n",
        "      <td>   2</td>\n",
        "      <td> abilene-christian</td>\n",
        "      <td> Abilene Christian</td>\n",
        "      <td> Abilene Christian</td>\n",
        "      <td> 2000</td>\n",
        "      <td>  ABIL</td>\n",
        "      <td> abilene-christian</td>\n",
        "      <td> Abilene Christian</td>\n",
        "    </tr>\n",
        "    <tr>\n",
        "      <th>1</th>\n",
        "      <td> 1102</td>\n",
        "      <td>   Air Force</td>\n",
        "      <td> 721</td>\n",
        "      <td>         air-force</td>\n",
        "      <td>         Air Force</td>\n",
        "      <td>         Air Force</td>\n",
        "      <td> 2005</td>\n",
        "      <td>    AF</td>\n",
        "      <td>         air-force</td>\n",
        "      <td>         Air Force</td>\n",
        "    </tr>\n",
        "    <tr>\n",
        "      <th>2</th>\n",
        "      <td> 1103</td>\n",
        "      <td>       Akron</td>\n",
        "      <td>   5</td>\n",
        "      <td>             akron</td>\n",
        "      <td>             Akron</td>\n",
        "      <td>             Akron</td>\n",
        "      <td> 2006</td>\n",
        "      <td> AKRON</td>\n",
        "      <td>             akron</td>\n",
        "      <td>             Akron</td>\n",
        "    </tr>\n",
        "    <tr>\n",
        "      <th>3</th>\n",
        "      <td> 1104</td>\n",
        "      <td>     Alabama</td>\n",
        "      <td>   8</td>\n",
        "      <td>           alabama</td>\n",
        "      <td>           Alabama</td>\n",
        "      <td>           Alabama</td>\n",
        "      <td>  333</td>\n",
        "      <td>  BAMA</td>\n",
        "      <td>           alabama</td>\n",
        "      <td>           Alabama</td>\n",
        "    </tr>\n",
        "    <tr>\n",
        "      <th>4</th>\n",
        "      <td> 1105</td>\n",
        "      <td> Alabama A&amp;M</td>\n",
        "      <td>   6</td>\n",
        "      <td>        alabama-am</td>\n",
        "      <td>       Alabama A&amp;M</td>\n",
        "      <td>      Alabama A&amp;M;</td>\n",
        "      <td> 2010</td>\n",
        "      <td>  ALAM</td>\n",
        "      <td>        alabama-am</td>\n",
        "      <td>       Alabama A&amp;M</td>\n",
        "    </tr>\n",
        "  </tbody>\n",
        "</table>\n",
        "<p>5 rows \u00d7 10 columns</p>\n",
        "</div>"
       ],
       "metadata": {},
       "output_type": "pyout",
       "prompt_number": 83,
       "text": [
        "   team_id    team_name  ncaaid          statsheet               ncaa  \\\n",
        "0     1101  Abilene Chr       2  abilene-christian  Abilene Christian   \n",
        "1     1102    Air Force     721          air-force          Air Force   \n",
        "2     1103        Akron       5              akron              Akron   \n",
        "3     1104      Alabama       8            alabama            Alabama   \n",
        "4     1105  Alabama A&M       6         alabama-am        Alabama A&M   \n",
        "\n",
        "           espn_name  espn   cbs1               cbs2             kenpom  \n",
        "0  Abilene Christian  2000   ABIL  abilene-christian  Abilene Christian  \n",
        "1          Air Force  2005     AF          air-force          Air Force  \n",
        "2              Akron  2006  AKRON              akron              Akron  \n",
        "3            Alabama   333   BAMA            alabama            Alabama  \n",
        "4       Alabama A&M;  2010   ALAM         alabama-am        Alabama A&M  \n",
        "\n",
        "[5 rows x 10 columns]"
       ]
      }
     ],
     "prompt_number": 83
    },
    {
     "cell_type": "code",
     "collapsed": false,
     "input": [
      "teams_home = pd.merge(teams, hmargin, left_on='team_id', right_on='hteam')"
     ],
     "language": "python",
     "metadata": {},
     "outputs": [],
     "prompt_number": 84
    },
    {
     "cell_type": "code",
     "collapsed": false,
     "input": [
      "teams_home[['home_advantage', 'team_name']].sort('home_advantage', ascending=False)"
     ],
     "language": "python",
     "metadata": {},
     "outputs": [
      {
       "html": [
        "<div style=\"max-height:1000px;max-width:1500px;overflow:auto;\">\n",
        "<table border=\"1\" class=\"dataframe\">\n",
        "  <thead>\n",
        "    <tr style=\"text-align: right;\">\n",
        "      <th></th>\n",
        "      <th>home_advantage</th>\n",
        "      <th>team_name</th>\n",
        "    </tr>\n",
        "  </thead>\n",
        "  <tbody>\n",
        "    <tr>\n",
        "      <th>132</th>\n",
        "      <td> 3.126923</td>\n",
        "      <td>          Kansas</td>\n",
        "    </tr>\n",
        "    <tr>\n",
        "      <th>261</th>\n",
        "      <td> 3.117241</td>\n",
        "      <td>    South Dakota</td>\n",
        "    </tr>\n",
        "    <tr>\n",
        "      <th>161</th>\n",
        "      <td> 3.085882</td>\n",
        "      <td>         Memphis</td>\n",
        "    </tr>\n",
        "    <tr>\n",
        "      <th>170</th>\n",
        "      <td> 2.785000</td>\n",
        "      <td>        Missouri</td>\n",
        "    </tr>\n",
        "    <tr>\n",
        "      <th>174</th>\n",
        "      <td> 2.733962</td>\n",
        "      <td>         Montana</td>\n",
        "    </tr>\n",
        "    <tr>\n",
        "      <th>142</th>\n",
        "      <td> 2.684615</td>\n",
        "      <td>        Lipscomb</td>\n",
        "    </tr>\n",
        "    <tr>\n",
        "      <th>193</th>\n",
        "      <td> 2.529577</td>\n",
        "      <td>   New Mexico St</td>\n",
        "    </tr>\n",
        "    <tr>\n",
        "      <th>284</th>\n",
        "      <td> 2.392593</td>\n",
        "      <td>           Texas</td>\n",
        "    </tr>\n",
        "    <tr>\n",
        "      <th>176</th>\n",
        "      <td> 2.332143</td>\n",
        "      <td>     Morehead St</td>\n",
        "    </tr>\n",
        "    <tr>\n",
        "      <th>192</th>\n",
        "      <td> 2.307895</td>\n",
        "      <td>      New Mexico</td>\n",
        "    </tr>\n",
        "    <tr>\n",
        "      <th>198</th>\n",
        "      <td> 2.306250</td>\n",
        "      <td>      Norfolk St</td>\n",
        "    </tr>\n",
        "    <tr>\n",
        "      <th>208</th>\n",
        "      <td> 2.149351</td>\n",
        "      <td>      Notre Dame</td>\n",
        "    </tr>\n",
        "    <tr>\n",
        "      <th>147</th>\n",
        "      <td> 2.145000</td>\n",
        "      <td>      Louisville</td>\n",
        "    </tr>\n",
        "    <tr>\n",
        "      <th>45 </th>\n",
        "      <td> 2.143902</td>\n",
        "      <td>      Chicago St</td>\n",
        "    </tr>\n",
        "    <tr>\n",
        "      <th>340</th>\n",
        "      <td> 2.110667</td>\n",
        "      <td>       Wisconsin</td>\n",
        "    </tr>\n",
        "    <tr>\n",
        "      <th>116</th>\n",
        "      <td> 2.079630</td>\n",
        "      <td>           Idaho</td>\n",
        "    </tr>\n",
        "    <tr>\n",
        "      <th>213</th>\n",
        "      <td> 2.046053</td>\n",
        "      <td>     Oklahoma St</td>\n",
        "    </tr>\n",
        "    <tr>\n",
        "      <th>222</th>\n",
        "      <td> 2.012195</td>\n",
        "      <td>      Pittsburgh</td>\n",
        "    </tr>\n",
        "    <tr>\n",
        "      <th>183</th>\n",
        "      <td> 2.010204</td>\n",
        "      <td>     N Dakota St</td>\n",
        "    </tr>\n",
        "    <tr>\n",
        "      <th>74 </th>\n",
        "      <td> 2.004938</td>\n",
        "      <td>            Duke</td>\n",
        "    </tr>\n",
        "    <tr>\n",
        "      <th>211</th>\n",
        "      <td> 2.002353</td>\n",
        "      <td>         Ohio St</td>\n",
        "    </tr>\n",
        "    <tr>\n",
        "      <th>293</th>\n",
        "      <td> 1.928169</td>\n",
        "      <td>           Tulsa</td>\n",
        "    </tr>\n",
        "    <tr>\n",
        "      <th>135</th>\n",
        "      <td> 1.801429</td>\n",
        "      <td>            Kent</td>\n",
        "    </tr>\n",
        "    <tr>\n",
        "      <th>287</th>\n",
        "      <td> 1.790278</td>\n",
        "      <td>      Texas Tech</td>\n",
        "    </tr>\n",
        "    <tr>\n",
        "      <th>313</th>\n",
        "      <td> 1.758571</td>\n",
        "      <td>         Utah St</td>\n",
        "    </tr>\n",
        "    <tr>\n",
        "      <th>320</th>\n",
        "      <td> 1.756164</td>\n",
        "      <td>       Villanova</td>\n",
        "    </tr>\n",
        "    <tr>\n",
        "      <th>223</th>\n",
        "      <td> 1.752381</td>\n",
        "      <td>        Portland</td>\n",
        "    </tr>\n",
        "    <tr>\n",
        "      <th>314</th>\n",
        "      <td> 1.741667</td>\n",
        "      <td>     Utah Valley</td>\n",
        "    </tr>\n",
        "    <tr>\n",
        "      <th>104</th>\n",
        "      <td> 1.739394</td>\n",
        "      <td>         Gonzaga</td>\n",
        "    </tr>\n",
        "    <tr>\n",
        "      <th>334</th>\n",
        "      <td> 1.738028</td>\n",
        "      <td>   West Virginia</td>\n",
        "    </tr>\n",
        "    <tr>\n",
        "      <th>196</th>\n",
        "      <td> 1.688636</td>\n",
        "      <td>     Nicholls St</td>\n",
        "    </tr>\n",
        "    <tr>\n",
        "      <th>272</th>\n",
        "      <td> 1.669697</td>\n",
        "      <td>    St Mary's CA</td>\n",
        "    </tr>\n",
        "    <tr>\n",
        "      <th>50 </th>\n",
        "      <td> 1.667308</td>\n",
        "      <td>     Coastal Car</td>\n",
        "    </tr>\n",
        "    <tr>\n",
        "      <th>69 </th>\n",
        "      <td> 1.660937</td>\n",
        "      <td>          Denver</td>\n",
        "    </tr>\n",
        "    <tr>\n",
        "      <th>126</th>\n",
        "      <td> 1.632653</td>\n",
        "      <td>            IPFW</td>\n",
        "    </tr>\n",
        "    <tr>\n",
        "      <th>89 </th>\n",
        "      <td> 1.629412</td>\n",
        "      <td>         Florida</td>\n",
        "    </tr>\n",
        "    <tr>\n",
        "      <th>333</th>\n",
        "      <td> 1.620755</td>\n",
        "      <td>        Weber St</td>\n",
        "    </tr>\n",
        "    <tr>\n",
        "      <th>296</th>\n",
        "      <td> 1.612308</td>\n",
        "      <td>             UAB</td>\n",
        "    </tr>\n",
        "    <tr>\n",
        "      <th>99 </th>\n",
        "      <td> 1.574627</td>\n",
        "      <td>    George Mason</td>\n",
        "    </tr>\n",
        "    <tr>\n",
        "      <th>156</th>\n",
        "      <td> 1.574194</td>\n",
        "      <td>        Marshall</td>\n",
        "    </tr>\n",
        "    <tr>\n",
        "      <th>178</th>\n",
        "      <td> 1.572917</td>\n",
        "      <td>    MS Valley St</td>\n",
        "    </tr>\n",
        "    <tr>\n",
        "      <th>277</th>\n",
        "      <td> 1.571250</td>\n",
        "      <td>        Syracuse</td>\n",
        "    </tr>\n",
        "    <tr>\n",
        "      <th>4  </th>\n",
        "      <td> 1.548889</td>\n",
        "      <td>      Alabama St</td>\n",
        "    </tr>\n",
        "    <tr>\n",
        "      <th>182</th>\n",
        "      <td> 1.547170</td>\n",
        "      <td>      N Colorado</td>\n",
        "    </tr>\n",
        "    <tr>\n",
        "      <th>199</th>\n",
        "      <td> 1.526923</td>\n",
        "      <td>  North Carolina</td>\n",
        "    </tr>\n",
        "    <tr>\n",
        "      <th>316</th>\n",
        "      <td> 1.516418</td>\n",
        "      <td> VA Commonwealth</td>\n",
        "    </tr>\n",
        "    <tr>\n",
        "      <th>246</th>\n",
        "      <td> 1.450909</td>\n",
        "      <td>   San Francisco</td>\n",
        "    </tr>\n",
        "    <tr>\n",
        "      <th>166</th>\n",
        "      <td> 1.445946</td>\n",
        "      <td>     Michigan St</td>\n",
        "    </tr>\n",
        "    <tr>\n",
        "      <th>256</th>\n",
        "      <td> 1.438298</td>\n",
        "      <td>       SF Austin</td>\n",
        "    </tr>\n",
        "    <tr>\n",
        "      <th>291</th>\n",
        "      <td> 1.433333</td>\n",
        "      <td>            Troy</td>\n",
        "    </tr>\n",
        "    <tr>\n",
        "      <th>344</th>\n",
        "      <td> 1.425352</td>\n",
        "      <td>          Xavier</td>\n",
        "    </tr>\n",
        "    <tr>\n",
        "      <th>133</th>\n",
        "      <td> 1.420779</td>\n",
        "      <td>       Kansas St</td>\n",
        "    </tr>\n",
        "    <tr>\n",
        "      <th>120</th>\n",
        "      <td> 1.367143</td>\n",
        "      <td>     Illinois St</td>\n",
        "    </tr>\n",
        "    <tr>\n",
        "      <th>20 </th>\n",
        "      <td> 1.350000</td>\n",
        "      <td>         Belmont</td>\n",
        "    </tr>\n",
        "    <tr>\n",
        "      <th>155</th>\n",
        "      <td> 1.314458</td>\n",
        "      <td>       Marquette</td>\n",
        "    </tr>\n",
        "    <tr>\n",
        "      <th>167</th>\n",
        "      <td> 1.306250</td>\n",
        "      <td>       Minnesota</td>\n",
        "    </tr>\n",
        "    <tr>\n",
        "      <th>252</th>\n",
        "      <td> 1.295556</td>\n",
        "      <td>    SE Louisiana</td>\n",
        "    </tr>\n",
        "    <tr>\n",
        "      <th>37 </th>\n",
        "      <td> 1.276364</td>\n",
        "      <td>        Campbell</td>\n",
        "    </tr>\n",
        "    <tr>\n",
        "      <th>146</th>\n",
        "      <td> 1.273016</td>\n",
        "      <td>  Louisiana Tech</td>\n",
        "    </tr>\n",
        "    <tr>\n",
        "      <th>250</th>\n",
        "      <td> 1.251351</td>\n",
        "      <td>     Savannah St</td>\n",
        "    </tr>\n",
        "    <tr>\n",
        "      <th></th>\n",
        "      <td>...</td>\n",
        "      <td>...</td>\n",
        "    </tr>\n",
        "  </tbody>\n",
        "</table>\n",
        "<p>347 rows \u00d7 2 columns</p>\n",
        "</div>"
       ],
       "metadata": {},
       "output_type": "pyout",
       "prompt_number": 85,
       "text": [
        "     home_advantage        team_name\n",
        "132        3.126923           Kansas\n",
        "261        3.117241     South Dakota\n",
        "161        3.085882          Memphis\n",
        "170        2.785000         Missouri\n",
        "174        2.733962          Montana\n",
        "142        2.684615         Lipscomb\n",
        "193        2.529577    New Mexico St\n",
        "284        2.392593            Texas\n",
        "176        2.332143      Morehead St\n",
        "192        2.307895       New Mexico\n",
        "198        2.306250       Norfolk St\n",
        "208        2.149351       Notre Dame\n",
        "147        2.145000       Louisville\n",
        "45         2.143902       Chicago St\n",
        "340        2.110667        Wisconsin\n",
        "116        2.079630            Idaho\n",
        "213        2.046053      Oklahoma St\n",
        "222        2.012195       Pittsburgh\n",
        "183        2.010204      N Dakota St\n",
        "74         2.004938             Duke\n",
        "211        2.002353          Ohio St\n",
        "293        1.928169            Tulsa\n",
        "135        1.801429             Kent\n",
        "287        1.790278       Texas Tech\n",
        "313        1.758571          Utah St\n",
        "320        1.756164        Villanova\n",
        "223        1.752381         Portland\n",
        "314        1.741667      Utah Valley\n",
        "104        1.739394          Gonzaga\n",
        "334        1.738028    West Virginia\n",
        "196        1.688636      Nicholls St\n",
        "272        1.669697     St Mary's CA\n",
        "50         1.667308      Coastal Car\n",
        "69         1.660937           Denver\n",
        "126        1.632653             IPFW\n",
        "89         1.629412          Florida\n",
        "333        1.620755         Weber St\n",
        "296        1.612308              UAB\n",
        "99         1.574627     George Mason\n",
        "156        1.574194         Marshall\n",
        "178        1.572917     MS Valley St\n",
        "277        1.571250         Syracuse\n",
        "4          1.548889       Alabama St\n",
        "182        1.547170       N Colorado\n",
        "199        1.526923   North Carolina\n",
        "316        1.516418  VA Commonwealth\n",
        "246        1.450909    San Francisco\n",
        "166        1.445946      Michigan St\n",
        "256        1.438298        SF Austin\n",
        "291        1.433333             Troy\n",
        "344        1.425352           Xavier\n",
        "133        1.420779        Kansas St\n",
        "120        1.367143      Illinois St\n",
        "20         1.350000          Belmont\n",
        "155        1.314458        Marquette\n",
        "167        1.306250        Minnesota\n",
        "252        1.295556     SE Louisiana\n",
        "37         1.276364         Campbell\n",
        "146        1.273016   Louisiana Tech\n",
        "250        1.251351      Savannah St\n",
        "                ...              ...\n",
        "\n",
        "[347 rows x 2 columns]"
       ]
      }
     ],
     "prompt_number": 85
    },
    {
     "cell_type": "code",
     "collapsed": false,
     "input": [
      "df.dt.max()"
     ],
     "language": "python",
     "metadata": {},
     "outputs": [
      {
       "metadata": {},
       "output_type": "pyout",
       "prompt_number": 189,
       "text": [
        "datetime.date(2012, 3, 11)"
       ]
      }
     ],
     "prompt_number": 189
    },
    {
     "cell_type": "code",
     "collapsed": false,
     "input": [],
     "language": "python",
     "metadata": {},
     "outputs": []
    }
   ],
   "metadata": {}
  }
 ]
}