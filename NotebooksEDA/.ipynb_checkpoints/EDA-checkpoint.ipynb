{
 "cells": [
  {
   "cell_type": "code",
   "execution_count": 4,
   "metadata": {
    "collapsed": false
   },
   "outputs": [
    {
     "name": "stdout",
     "output_type": "stream",
     "text": [
      "/Users/sethhendrickson/cbbmodel\n"
     ]
    }
   ],
   "source": [
    "cd .."
   ]
  },
  {
   "cell_type": "code",
   "execution_count": 5,
   "metadata": {
    "collapsed": false
   },
   "outputs": [],
   "source": [
    "import pandas as pd\n",
    "import pymc\n",
    "import numpy as np\n",
    "from DB import DB\n",
    "import scipy.stats as scs\n",
    "import matplotlib.pyplot as plt\n",
    "%matplotlib inline"
   ]
  },
  {
   "cell_type": "code",
   "execution_count": 7,
   "metadata": {
    "collapsed": true
   },
   "outputs": [],
   "source": [
    "def get_season(dt):\n",
    "    year = dt.year\n",
    "    month = dt.month\n",
    "    if month > 6:\n",
    "        return year + 1\n",
    "    else:\n",
    "        return year"
   ]
  },
  {
   "cell_type": "code",
   "execution_count": 8,
   "metadata": {
    "collapsed": false
   },
   "outputs": [
    {
     "name": "stdout",
     "output_type": "stream",
     "text": [
      "(5926, 12)\n"
     ]
    }
   ],
   "source": [
    "# box = pd.read_sql(\"SELECT * FROM box_test WHERE first_name='Totals'\", DB.conn)\n",
    "games = pd.read_sql(\"SELECT * FROM games_test\", DB.conn)\n",
    "games['season']  = games.dt.map(lambda d: get_season(d))\n",
    "games = games[games.season == 2015]\n",
    "print games.shape"
   ]
  },
  {
   "cell_type": "code",
   "execution_count": 9,
   "metadata": {
    "collapsed": false
   },
   "outputs": [
    {
     "name": "stdout",
     "output_type": "stream",
     "text": [
      "   team_id  iteam\n",
      "0       86      0\n",
      "1      295      1\n",
      "2      649      2\n",
      "3      609      3\n",
      "4      731      4 (518, 2)\n"
     ]
    }
   ],
   "source": [
    "hteams = games[['hteam_id']]\n",
    "ateams = games[['ateam_id']]\n",
    "hteams = hteams.rename(columns={'hteam_id': 'team_id'})\n",
    "ateams = ateams.rename(columns={'ateam_id': 'team_id'})\n",
    "teams = pd.concat([hteams, ateams], axis=0)\n",
    "teams.drop_duplicates(inplace=True)\n",
    "teams = teams.reset_index()\n",
    "teams['iteam'] = teams.index.values\n",
    "teams.drop('index', 1, inplace=True)\n",
    "print teams.head(), teams.shape"
   ]
  },
  {
   "cell_type": "code",
   "execution_count": 10,
   "metadata": {
    "collapsed": false
   },
   "outputs": [
    {
     "name": "stdout",
     "output_type": "stream",
     "text": [
      "(5926, 14)\n"
     ]
    }
   ],
   "source": [
    "games = games.merge(teams, left_on='hteam_id', right_on='team_id', how='left')\n",
    "games = games.rename(columns={'iteam': 'i_home'})\n",
    "games.drop('team_id', 1, inplace=True)\n",
    "games = games.merge(teams, left_on='ateam_id', right_on='team_id', how='left')\n",
    "games = games.rename(columns={'iteam': 'i_away'})\n",
    "games.drop('team_id', 1, inplace=True)\n",
    "print games.shape"
   ]
  },
  {
   "cell_type": "code",
   "execution_count": 11,
   "metadata": {
    "collapsed": false
   },
   "outputs": [
    {
     "name": "stdout",
     "output_type": "stream",
     "text": [
      "518\n"
     ]
    }
   ],
   "source": [
    "num_teams = teams.shape[0]\n",
    "print num_teams"
   ]
  },
  {
   "cell_type": "code",
   "execution_count": 12,
   "metadata": {
    "collapsed": false
   },
   "outputs": [
    {
     "name": "stdout",
     "output_type": "stream",
     "text": [
      "(5926,) (5926,)\n"
     ]
    }
   ],
   "source": [
    "observed_home_goals = games.home_score.values\n",
    "observed_away_goals = games.away_score.values\n",
    "home_team = games.i_home.values\n",
    "away_team = games.i_away.values\n",
    "num_games = len(home_team)\n",
    "print home_team.shape, observed_away_goals.shape"
   ]
  },
  {
   "cell_type": "code",
   "execution_count": 13,
   "metadata": {
    "collapsed": false
   },
   "outputs": [],
   "source": [
    "hteam = games[['hteam_id', 'home_score', 'away_score', 'i_home']]\n",
    "hteam = hteam.rename(columns={'hteam_id': 'team_id', 'home_score': 'pts_scored', 'away_score': 'pts_allowed', 'i_home': 'i'})\n",
    "ateam = games[['ateam_id', 'home_score', 'away_score', 'i_away']]\n",
    "ateam = ateam.rename(columns={'ateam_id': 'team_id', 'away_score': 'pts_scored', 'home_score': 'pts_allowed', 'i_away': 'i'})\n",
    "priors = pd.concat([hteam, ateam], axis=0)\n",
    "g = priors.groupby('i')\n",
    "att_starting_points = g.pts_scored.mean()\n",
    "def_starting_points = -g.pts_allowed.mean()\n",
    "# print np.exp(att_starting_points)"
   ]
  },
  {
   "cell_type": "code",
   "execution_count": 14,
   "metadata": {
    "collapsed": false
   },
   "outputs": [
    {
     "name": "stdout",
     "output_type": "stream",
     "text": [
      "\n"
     ]
    }
   ],
   "source": [
    "g.count()\n",
    "print"
   ]
  },
  {
   "cell_type": "code",
   "execution_count": 15,
   "metadata": {
    "collapsed": false
   },
   "outputs": [],
   "source": [
    "home = pymc.Normal('home', 6., 5, value=6.)\n",
    "tau_att = pymc.Uniform('tau_att', 0, 10., value=10)\n",
    "tau_def = pymc.Uniform('tau_def', 0., 10., value=10)\n",
    "# intercept = pymc.Normal('intercept', 0., 10., value=0)\n",
    "atts_star = pymc.Normal(\"atts_star\", \n",
    "                        mu=0, \n",
    "                        tau=tau_att, \n",
    "                        size=num_teams, \n",
    "                        value=att_starting_points.values)\n",
    "defs_star = pymc.Normal(\"defs_star\", \n",
    "                        mu=0, \n",
    "                        tau=tau_def, \n",
    "                        size=num_teams, \n",
    "                        value=def_starting_points.values)"
   ]
  },
  {
   "cell_type": "code",
   "execution_count": 26,
   "metadata": {
    "collapsed": false
   },
   "outputs": [
    {
     "ename": "ZeroProbability",
     "evalue": "Stochastic home_goals's value is outside its support,\n or it forbids its parents' current values.",
     "output_type": "error",
     "traceback": [
      "\u001b[0;31m---------------------------------------------------------------------------\u001b[0m",
      "\u001b[0;31mZeroProbability\u001b[0m                           Traceback (most recent call last)",
      "\u001b[0;32m<ipython-input-26-daf4d47d38ec>\u001b[0m in \u001b[0;36m<module>\u001b[0;34m()\u001b[0m\n\u001b[1;32m     32\u001b[0m                           \u001b[0mmu\u001b[0m\u001b[0;34m=\u001b[0m\u001b[0mhome_theta\u001b[0m\u001b[0;34m,\u001b[0m\u001b[0;34m\u001b[0m\u001b[0m\n\u001b[1;32m     33\u001b[0m                           \u001b[0mvalue\u001b[0m\u001b[0;34m=\u001b[0m\u001b[0mobserved_home_goals\u001b[0m\u001b[0;34m,\u001b[0m\u001b[0;34m\u001b[0m\u001b[0m\n\u001b[0;32m---> 34\u001b[0;31m                           observed=True)\n\u001b[0m\u001b[1;32m     35\u001b[0m away_goals = pymc.Poisson('away_goals', \n\u001b[1;32m     36\u001b[0m                           \u001b[0mmu\u001b[0m\u001b[0;34m=\u001b[0m\u001b[0maway_theta\u001b[0m\u001b[0;34m,\u001b[0m\u001b[0;34m\u001b[0m\u001b[0m\n",
      "\u001b[0;32m/Library/Python/2.7/site-packages/pymc/distributions.pyc\u001b[0m in \u001b[0;36m__init__\u001b[0;34m(self, *args, **kwds)\u001b[0m\n\u001b[1;32m    318\u001b[0m                     \u001b[0mlogp_partial_gradients\u001b[0m\u001b[0;34m=\u001b[0m\u001b[0mlogp_partial_gradients\u001b[0m\u001b[0;34m,\u001b[0m\u001b[0;34m\u001b[0m\u001b[0m\n\u001b[1;32m    319\u001b[0m                     \u001b[0mdtype\u001b[0m\u001b[0;34m=\u001b[0m\u001b[0mdtype\u001b[0m\u001b[0;34m,\u001b[0m\u001b[0;34m\u001b[0m\u001b[0m\n\u001b[0;32m--> 320\u001b[0;31m                     **arg_dict_out)\n\u001b[0m\u001b[1;32m    321\u001b[0m \u001b[0;34m\u001b[0m\u001b[0m\n\u001b[1;32m    322\u001b[0m     \u001b[0mnew_class\u001b[0m\u001b[0;34m.\u001b[0m\u001b[0m__name__\u001b[0m \u001b[0;34m=\u001b[0m \u001b[0mname\u001b[0m\u001b[0;34m\u001b[0m\u001b[0m\n",
      "\u001b[0;32m/Library/Python/2.7/site-packages/pymc/PyMCObjects.pyc\u001b[0m in \u001b[0;36m__init__\u001b[0;34m(self, logp, doc, name, parents, random, trace, value, dtype, rseed, observed, cache_depth, plot, verbose, isdata, check_logp, logp_partial_gradients)\u001b[0m\n\u001b[1;32m    773\u001b[0m         \u001b[0;32mif\u001b[0m \u001b[0mcheck_logp\u001b[0m\u001b[0;34m:\u001b[0m\u001b[0;34m\u001b[0m\u001b[0m\n\u001b[1;32m    774\u001b[0m             \u001b[0;31m# Check initial value\u001b[0m\u001b[0;34m\u001b[0m\u001b[0;34m\u001b[0m\u001b[0m\n\u001b[0;32m--> 775\u001b[0;31m             \u001b[0;32mif\u001b[0m \u001b[0;32mnot\u001b[0m \u001b[0misinstance\u001b[0m\u001b[0;34m(\u001b[0m\u001b[0mself\u001b[0m\u001b[0;34m.\u001b[0m\u001b[0mlogp\u001b[0m\u001b[0;34m,\u001b[0m \u001b[0mfloat\u001b[0m\u001b[0;34m)\u001b[0m\u001b[0;34m:\u001b[0m\u001b[0;34m\u001b[0m\u001b[0m\n\u001b[0m\u001b[1;32m    776\u001b[0m                 raise ValueError(\n\u001b[1;32m    777\u001b[0m                     \u001b[0;34m\"Stochastic \"\u001b[0m \u001b[0;34m+\u001b[0m\u001b[0;34m\u001b[0m\u001b[0m\n",
      "\u001b[0;32m/Library/Python/2.7/site-packages/pymc/PyMCObjects.pyc\u001b[0m in \u001b[0;36mget_logp\u001b[0;34m(self)\u001b[0m\n\u001b[1;32m    930\u001b[0m                     (self._value, self._parents.value))\n\u001b[1;32m    931\u001b[0m             \u001b[0;32melse\u001b[0m\u001b[0;34m:\u001b[0m\u001b[0;34m\u001b[0m\u001b[0m\n\u001b[0;32m--> 932\u001b[0;31m                 \u001b[0;32mraise\u001b[0m \u001b[0mZeroProbability\u001b[0m\u001b[0;34m(\u001b[0m\u001b[0mself\u001b[0m\u001b[0;34m.\u001b[0m\u001b[0merrmsg\u001b[0m\u001b[0;34m)\u001b[0m\u001b[0;34m\u001b[0m\u001b[0m\n\u001b[0m\u001b[1;32m    933\u001b[0m \u001b[0;34m\u001b[0m\u001b[0m\n\u001b[1;32m    934\u001b[0m         \u001b[0;32mreturn\u001b[0m \u001b[0mlogp\u001b[0m\u001b[0;34m\u001b[0m\u001b[0m\n",
      "\u001b[0;31mZeroProbability\u001b[0m: Stochastic home_goals's value is outside its support,\n or it forbids its parents' current values."
     ]
    }
   ],
   "source": [
    "# trick to code the sum to zero contraint\n",
    "@pymc.deterministic\n",
    "def atts(atts_star=atts_star):\n",
    "    atts = atts_star.copy()\n",
    "    atts = atts - np.mean(atts_star)\n",
    "    return atts\n",
    "\n",
    "@pymc.deterministic\n",
    "def defs(defs_star=defs_star):\n",
    "    defs = defs_star.copy()\n",
    "    defs = defs - np.mean(defs_star)\n",
    "    return defs\n",
    "\n",
    "@pymc.deterministic\n",
    "def home_theta(home_team=home_team, \n",
    "               away_team=away_team, \n",
    "               home=home, \n",
    "               atts=atts, \n",
    "               defs=defs): \n",
    "    return home + atts[home_team] + defs[away_team]\n",
    "  \n",
    "@pymc.deterministic\n",
    "def away_theta(home_team=home_team, \n",
    "               away_team=away_team, \n",
    "               home=home, \n",
    "               atts=atts, \n",
    "               defs=defs): \n",
    "    return atts[away_team] + defs[home_team]\n",
    "\n",
    "\n",
    "home_goals = pymc.Poisson('home_goals', \n",
    "                          mu=home_theta, \n",
    "                          value=observed_home_goals, \n",
    "                          observed=True)\n",
    "away_goals = pymc.Poisson('away_goals', \n",
    "                          mu=away_theta, \n",
    "                          value=observed_away_goals, \n",
    "                          observed=True)\n",
    "\n",
    "model = pymc.Model([home, tau_att, tau_def, \n",
    "                  home_theta, away_theta, \n",
    "                  atts_star, defs_star, atts, defs, \n",
    "                  home_goals, away_goals])\n",
    "mcmc = pymc.MCMC(model)\n",
    "mcmc.sample(2000, 400)"
   ]
  },
  {
   "cell_type": "code",
   "execution_count": 46,
   "metadata": {
    "collapsed": false
   },
   "outputs": [
    {
     "name": "stdout",
     "output_type": "stream",
     "text": [
      " [-----------------100%-----------------] 20000 of 20000 complete in 6.4 sec"
     ]
    }
   ],
   "source": [
    "mu = pymc.Normal('mu', 70., 5.)\n",
    "tau = pymc.Normal('tau', 1., 1.)\n",
    "home_goals = pymc.Normal('home', mu, tau, value=observed_home_goals, observed=True)\n",
    "away_goals = pymc.Normal('away', mu, tau, value=observed_away_goals, observed=True)\n",
    "\n",
    "model = pymc.Model([away_goals, mu, tau])\n",
    "mcmc = pymc.MCMC(model)\n",
    "mcmc.sample(20000, 4000, 1)"
   ]
  },
  {
   "cell_type": "code",
   "execution_count": 50,
   "metadata": {
    "collapsed": false
   },
   "outputs": [
    {
     "ename": "AttributeError",
     "evalue": "'Normal' object has no attribute 'trace'",
     "output_type": "error",
     "traceback": [
      "\u001b[0;31m---------------------------------------------------------------------------\u001b[0m",
      "\u001b[0;31mAttributeError\u001b[0m                            Traceback (most recent call last)",
      "\u001b[0;32m<ipython-input-50-9eed7945e9bc>\u001b[0m in \u001b[0;36m<module>\u001b[0;34m()\u001b[0m\n\u001b[0;32m----> 1\u001b[0;31m \u001b[0maway_goals\u001b[0m\u001b[0;34m.\u001b[0m\u001b[0mtrace\u001b[0m\u001b[0;34m(\u001b[0m\u001b[0;34m)\u001b[0m\u001b[0;34m\u001b[0m\u001b[0m\n\u001b[0m",
      "\u001b[0;31mAttributeError\u001b[0m: 'Normal' object has no attribute 'trace'"
     ]
    }
   ],
   "source": [
    "away_goals.trace()"
   ]
  },
  {
   "cell_type": "code",
   "execution_count": 250,
   "metadata": {
    "collapsed": false
   },
   "outputs": [
    {
     "data": {
      "text/plain": [
       "(array([   2.,    2.,    4.,    8.,   27.,   38.,   75.,  198.,  133.,   31.]),\n",
       " array([-0.78063494, -0.67309939, -0.56556385, -0.45802831, -0.35049277,\n",
       "        -0.24295722, -0.13542168, -0.02788614,  0.0796494 ,  0.18718495,\n",
       "         0.29472049]),\n",
       " <a list of 10 Patch objects>)"
      ]
     },
     "execution_count": 250,
     "metadata": {},
     "output_type": "execute_result"
    },
    {
     "data": {
      "image/png": "[encoded data removed]",
      "text/plain": [
       "<matplotlib.figure.Figure at 0x142145610>"
      ]
     },
     "metadata": {},
     "output_type": "display_data"
    }
   ],
   "source": [
    "plt.hist(np.mean(atts.trace(), axis=0))"
   ]
  },
  {
   "cell_type": "code",
   "execution_count": 107,
   "metadata": {
    "collapsed": false
   },
   "outputs": [
    {
     "data": {
      "text/html": [
       "<div>\n",
       "<table border=\"1\" class=\"dataframe\">\n",
       "  <thead>\n",
       "    <tr style=\"text-align: right;\">\n",
       "      <th></th>\n",
       "      <th>dt</th>\n",
       "      <th>hteam_id</th>\n",
       "      <th>ateam_id</th>\n",
       "      <th>home_score</th>\n",
       "      <th>away_score</th>\n",
       "      <th>neutral</th>\n",
       "      <th>neutral_site</th>\n",
       "      <th>home_outcome</th>\n",
       "      <th>numot</th>\n",
       "      <th>game_id</th>\n",
       "      <th>opp_string</th>\n",
       "      <th>season</th>\n",
       "      <th>i_home</th>\n",
       "      <th>i_away</th>\n",
       "    </tr>\n",
       "  </thead>\n",
       "  <tbody>\n",
       "    <tr>\n",
       "      <th>0</th>\n",
       "      <td>2014-11-14</td>\n",
       "      <td>86</td>\n",
       "      <td>649</td>\n",
       "      <td>69</td>\n",
       "      <td>67</td>\n",
       "      <td>False</td>\n",
       "      <td>None</td>\n",
       "      <td>True</td>\n",
       "      <td>0</td>\n",
       "      <td>3506808</td>\n",
       "      <td>Buffalo</td>\n",
       "      <td>2015</td>\n",
       "      <td>36</td>\n",
       "      <td>313</td>\n",
       "    </tr>\n",
       "    <tr>\n",
       "      <th>1</th>\n",
       "      <td>2014-11-17</td>\n",
       "      <td>295</td>\n",
       "      <td>649</td>\n",
       "      <td>82</td>\n",
       "      <td>77</td>\n",
       "      <td>False</td>\n",
       "      <td>None</td>\n",
       "      <td>True</td>\n",
       "      <td>0</td>\n",
       "      <td>3512407</td>\n",
       "      <td>Idaho</td>\n",
       "      <td>2015</td>\n",
       "      <td>144</td>\n",
       "      <td>313</td>\n",
       "    </tr>\n",
       "    <tr>\n",
       "      <th>2</th>\n",
       "      <td>2014-11-21</td>\n",
       "      <td>649</td>\n",
       "      <td>494</td>\n",
       "      <td>74</td>\n",
       "      <td>72</td>\n",
       "      <td>False</td>\n",
       "      <td>None</td>\n",
       "      <td>True</td>\n",
       "      <td>0</td>\n",
       "      <td>3519406</td>\n",
       "      <td>North Dakota</td>\n",
       "      <td>2015</td>\n",
       "      <td>313</td>\n",
       "      <td>237</td>\n",
       "    </tr>\n",
       "    <tr>\n",
       "      <th>3</th>\n",
       "      <td>2014-11-24</td>\n",
       "      <td>649</td>\n",
       "      <td>1012</td>\n",
       "      <td>87</td>\n",
       "      <td>42</td>\n",
       "      <td>False</td>\n",
       "      <td>None</td>\n",
       "      <td>True</td>\n",
       "      <td>0</td>\n",
       "      <td>3521726</td>\n",
       "      <td>Chadron St.</td>\n",
       "      <td>2015</td>\n",
       "      <td>313</td>\n",
       "      <td>407</td>\n",
       "    </tr>\n",
       "    <tr>\n",
       "      <th>4</th>\n",
       "      <td>2014-11-30</td>\n",
       "      <td>649</td>\n",
       "      <td>28755</td>\n",
       "      <td>58</td>\n",
       "      <td>71</td>\n",
       "      <td>True</td>\n",
       "      <td>Sioux Falls S.D. (Sanford Pentagon)</td>\n",
       "      <td>False</td>\n",
       "      <td>0</td>\n",
       "      <td>3545511</td>\n",
       "      <td>FGCU</td>\n",
       "      <td>2015</td>\n",
       "      <td>313</td>\n",
       "      <td>478</td>\n",
       "    </tr>\n",
       "  </tbody>\n",
       "</table>\n",
       "</div>"
      ],
      "text/plain": [
       "           dt  hteam_id  ateam_id  home_score  away_score neutral  \\\n",
       "0  2014-11-14        86       649          69          67   False   \n",
       "1  2014-11-17       295       649          82          77   False   \n",
       "2  2014-11-21       649       494          74          72   False   \n",
       "3  2014-11-24       649      1012          87          42   False   \n",
       "4  2014-11-30       649     28755          58          71    True   \n",
       "\n",
       "                          neutral_site home_outcome  numot  game_id  \\\n",
       "0                                 None         True      0  3506808   \n",
       "1                                 None         True      0  3512407   \n",
       "2                                 None         True      0  3519406   \n",
       "3                                 None         True      0  3521726   \n",
       "4  Sioux Falls S.D. (Sanford Pentagon)        False      0  3545511   \n",
       "\n",
       "     opp_string  season  i_home  i_away  \n",
       "0       Buffalo    2015      36     313  \n",
       "1         Idaho    2015     144     313  \n",
       "2  North Dakota    2015     313     237  \n",
       "3   Chadron St.    2015     313     407  \n",
       "4          FGCU    2015     313     478  "
      ]
     },
     "execution_count": 107,
     "metadata": {},
     "output_type": "execute_result"
    }
   ],
   "source": [
    "games.head()"
   ]
  },
  {
   "cell_type": "code",
   "execution_count": 178,
   "metadata": {
    "collapsed": false
   },
   "outputs": [],
   "source": [
    "?mcmc.sample"
   ]
  },
  {
   "cell_type": "code",
   "execution_count": null,
   "metadata": {
    "collapsed": true
   },
   "outputs": [],
   "source": []
  }
 ],
 "metadata": {
  "kernelspec": {
   "display_name": "Python 2",
   "language": "python",
   "name": "python2"
  },
  "language_info": {
   "codemirror_mode": {
    "name": "ipython",
    "version": 2
   },
   "file_extension": ".py",
   "mimetype": "text/x-python",
   "name": "python",
   "nbconvert_exporter": "python",
   "pygments_lexer": "ipython2",
   "version": "2.7.6"
  }
 },
 "nbformat": 4,
 "nbformat_minor": 0
}
