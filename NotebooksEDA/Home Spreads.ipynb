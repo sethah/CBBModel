{
 "cells": [
  {
   "cell_type": "code",
   "execution_count": 4,
   "metadata": {
    "collapsed": false
   },
   "outputs": [
    {
     "name": "stdout",
     "output_type": "stream",
     "text": [
      "/Users/sethhendrickson/cbbmodel\n"
     ]
    }
   ],
   "source": [
    "cd .."
   ]
  },
  {
   "cell_type": "code",
   "execution_count": 21,
   "metadata": {
    "collapsed": false
   },
   "outputs": [],
   "source": [
    "import pandas as pd\n",
    "import numpy as np\n",
    "from DB import DB\n",
    "import matplotlib.pyplot as plt\n",
    "import scipy.stats as scs\n",
    "\n",
    "from sklearn.linear_model import LogisticRegression\n",
    "%matplotlib inline"
   ]
  },
  {
   "cell_type": "code",
   "execution_count": 6,
   "metadata": {
    "collapsed": true
   },
   "outputs": [],
   "source": [
    "def get_season(dt):\n",
    "    year = dt.year\n",
    "    month = dt.month\n",
    "    if month > 6:\n",
    "        return year + 1\n",
    "    else:\n",
    "        return year"
   ]
  },
  {
   "cell_type": "code",
   "execution_count": 7,
   "metadata": {
    "collapsed": true
   },
   "outputs": [],
   "source": [
    "df = pd.read_sql(\"SELECT * FROM games_test\", DB.conn)"
   ]
  },
  {
   "cell_type": "code",
   "execution_count": 8,
   "metadata": {
    "collapsed": false
   },
   "outputs": [],
   "source": [
    "df['season'] = df.dt.map(lambda x: get_season(x))"
   ]
  },
  {
   "cell_type": "code",
   "execution_count": 9,
   "metadata": {
    "collapsed": false
   },
   "outputs": [],
   "source": [
    "df = df[~df.neutral]\n",
    "df = df[(~pd.isnull(df.ateam_id)) & (~pd.isnull(df.hteam_id))]"
   ]
  },
  {
   "cell_type": "code",
   "execution_count": 10,
   "metadata": {
    "collapsed": false
   },
   "outputs": [],
   "source": [
    "# join on season=season, hteam=ateam and ateam=hteam\n",
    "homehome = df.merge(df, left_on=['season', 'hteam_id', 'ateam_id'], \\\n",
    "                   right_on=['season', 'ateam_id', 'hteam_id'])"
   ]
  },
  {
   "cell_type": "code",
   "execution_count": 28,
   "metadata": {
    "collapsed": true
   },
   "outputs": [],
   "source": [
    "homehome['hmargin1'] = homehome.home_score_x - homehome.away_score_x\n",
    "homehome['hmargin2'] = homehome.home_score_y - homehome.away_score_y\n",
    "homehome['hwin1'] = homehome.hmargin1 > 0\n",
    "homehome['hwin2'] = homehome.hmargin2 > 0"
   ]
  },
  {
   "cell_type": "code",
   "execution_count": 29,
   "metadata": {
    "collapsed": false
   },
   "outputs": [
    {
     "name": "stdout",
     "output_type": "stream",
     "text": [
      "6.32229471464 212.758053033 -51.0 84.0\n"
     ]
    },
    {
     "data": {
      "image/png": "[encoded data removed]",
      "text/plain": [
       "<matplotlib.figure.Figure at 0x10b21f590>"
      ]
     },
     "metadata": {},
     "output_type": "display_data"
    }
   ],
   "source": [
    "plt.hist(df.home_score - df.away_score, bins=30)\n",
    "n, (mn, mx), mean, var, skew, kurt = scs.describe(df.home_score - df.away_score)\n",
    "print mean, var, mn, mx"
   ]
  },
  {
   "cell_type": "code",
   "execution_count": 30,
   "metadata": {
    "collapsed": false
   },
   "outputs": [
    {
     "data": {
      "text/plain": [
       "<Container object of 100 artists>"
      ]
     },
     "execution_count": 30,
     "metadata": {},
     "output_type": "execute_result"
    },
    {
     "data": {
      "image/png": "[encoded data removed]",
      "text/plain": [
       "<matplotlib.figure.Figure at 0x10b251390>"
      ]
     },
     "metadata": {},
     "output_type": "display_data"
    }
   ],
   "source": [
    "gb = homehome.groupby('hmargin1').mean()\n",
    "plt.bar(gb.index.values, 1.0 - gb.hwin2)"
   ]
  },
  {
   "cell_type": "code",
   "execution_count": 32,
   "metadata": {
    "collapsed": false
   },
   "outputs": [
    {
     "data": {
      "text/plain": [
       "<Container object of 100 artists>"
      ]
     },
     "execution_count": 32,
     "metadata": {},
     "output_type": "execute_result"
    },
    {
     "data": {
      "image/png": "[encoded data removed]",
      "text/plain": [
       "<matplotlib.figure.Figure at 0x10905f990>"
      ]
     },
     "metadata": {},
     "output_type": "display_data"
    }
   ],
   "source": [
    "logit = LogisticRegression()\n",
    "logit.fit(homehome.hmargin1[:,np.newaxis], homehome.hwin2)\n",
    "x = np.arange(-60, 60)[:, np.newaxis]\n",
    "plt.plot(x, logit.predict_proba(x)[:,0], c='r')\n",
    "plt.bar(gb.index.values, 1.0 - gb.hwin2)"
   ]
  },
  {
   "cell_type": "code",
   "execution_count": 24,
   "metadata": {
    "collapsed": false
   },
   "outputs": [
    {
     "data": {
      "text/html": [
       "<div>\n",
       "<table border=\"1\" class=\"dataframe\">\n",
       "  <thead>\n",
       "    <tr style=\"text-align: right;\">\n",
       "      <th></th>\n",
       "      <th>dt_x</th>\n",
       "      <th>dt_y</th>\n",
       "      <th>hteam_id_x</th>\n",
       "      <th>ateam_id_x</th>\n",
       "      <th>hteam_id_y</th>\n",
       "      <th>ateam_id_y</th>\n",
       "    </tr>\n",
       "  </thead>\n",
       "  <tbody>\n",
       "    <tr>\n",
       "      <th>0</th>\n",
       "      <td>2010-12-29</td>\n",
       "      <td>2011-01-22</td>\n",
       "      <td>207</td>\n",
       "      <td>102</td>\n",
       "      <td>102</td>\n",
       "      <td>207</td>\n",
       "    </tr>\n",
       "    <tr>\n",
       "      <th>1</th>\n",
       "      <td>2010-12-31</td>\n",
       "      <td>2011-01-27</td>\n",
       "      <td>294</td>\n",
       "      <td>102</td>\n",
       "      <td>102</td>\n",
       "      <td>294</td>\n",
       "    </tr>\n",
       "    <tr>\n",
       "      <th>2</th>\n",
       "      <td>2011-01-06</td>\n",
       "      <td>2011-02-13</td>\n",
       "      <td>102</td>\n",
       "      <td>440</td>\n",
       "      <td>440</td>\n",
       "      <td>102</td>\n",
       "    </tr>\n",
       "    <tr>\n",
       "      <th>3</th>\n",
       "      <td>2011-01-08</td>\n",
       "      <td>2011-02-10</td>\n",
       "      <td>102</td>\n",
       "      <td>441</td>\n",
       "      <td>441</td>\n",
       "      <td>102</td>\n",
       "    </tr>\n",
       "    <tr>\n",
       "      <th>4</th>\n",
       "      <td>2011-01-13</td>\n",
       "      <td>2011-02-26</td>\n",
       "      <td>758</td>\n",
       "      <td>102</td>\n",
       "      <td>102</td>\n",
       "      <td>758</td>\n",
       "    </tr>\n",
       "  </tbody>\n",
       "</table>\n",
       "</div>"
      ],
      "text/plain": [
       "         dt_x        dt_y  hteam_id_x  ateam_id_x  hteam_id_y  ateam_id_y\n",
       "0  2010-12-29  2011-01-22         207         102         102         207\n",
       "1  2010-12-31  2011-01-27         294         102         102         294\n",
       "2  2011-01-06  2011-02-13         102         440         440         102\n",
       "3  2011-01-08  2011-02-10         102         441         441         102\n",
       "4  2011-01-13  2011-02-26         758         102         102         758"
      ]
     },
     "execution_count": 24,
     "metadata": {},
     "output_type": "execute_result"
    }
   ],
   "source": [
    "homehome[['dt_x', 'dt_y', 'hteam_id_x', 'ateam_id_x', 'hteam_id_y', 'ateam_id_y']].head()"
   ]
  },
  {
   "cell_type": "code",
   "execution_count": null,
   "metadata": {
    "collapsed": true
   },
   "outputs": [],
   "source": []
  }
 ],
 "metadata": {
  "kernelspec": {
   "display_name": "Python 2",
   "language": "python",
   "name": "python2"
  },
  "language_info": {
   "codemirror_mode": {
    "name": "ipython",
    "version": 2
   },
   "file_extension": ".py",
   "mimetype": "text/x-python",
   "name": "python",
   "nbconvert_exporter": "python",
   "pygments_lexer": "ipython2",
   "version": "2.7.6"
  }
 },
 "nbformat": 4,
 "nbformat_minor": 0
}
