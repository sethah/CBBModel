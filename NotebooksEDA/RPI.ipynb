{
 "cells": [
  {
   "cell_type": "code",
   "execution_count": 2,
   "metadata": {
    "collapsed": false
   },
   "outputs": [
    {
     "name": "stdout",
     "output_type": "stream",
     "text": [
      "/Users/sethhendrickson/cbbmodel\n"
     ]
    }
   ],
   "source": [
    "cd .."
   ]
  },
  {
   "cell_type": "code",
   "execution_count": 3,
   "metadata": {
    "collapsed": false
   },
   "outputs": [],
   "source": [
    "import pandas as pd\n",
    "import pymc\n",
    "import numpy as np\n",
    "from DB import DB\n",
    "import scipy.stats as scs\n",
    "import matplotlib.pyplot as plt\n",
    "%matplotlib inline"
   ]
  },
  {
   "cell_type": "code",
   "execution_count": 4,
   "metadata": {
    "collapsed": true
   },
   "outputs": [],
   "source": [
    "def get_season(dt):\n",
    "    year = dt.year\n",
    "    month = dt.month\n",
    "    if month > 6:\n",
    "        return year + 1\n",
    "    else:\n",
    "        return year"
   ]
  },
  {
   "cell_type": "code",
   "execution_count": 11,
   "metadata": {
    "collapsed": false
   },
   "outputs": [],
   "source": [
    "games = pd.read_sql(\"SELECT * FROM games_test\", DB.conn)\n",
    "games['season']  = games.dt.map(lambda d: get_season(d))\n",
    "games = games[games.season == 2015]\n",
    "hteams = games[['hteam_id']]\n",
    "ateams = games[['ateam_id']]\n",
    "hteams = hteams.rename(columns={'hteam_id': 'team_id'})\n",
    "ateams = ateams.rename(columns={'ateam_id': 'team_id'})\n",
    "teams = pd.concat([hteams, ateams], axis=0)\n",
    "teams.drop_duplicates(inplace=True)"
   ]
  },
  {
   "cell_type": "code",
   "execution_count": 19,
   "metadata": {
    "collapsed": false
   },
   "outputs": [],
   "source": [
    "acc = {int(team_id): {'w': 0, 'l': 0, 'ow': 0, 'ol': 0, 'oow': 0, 'ool': 0} for team_id in teams.dropna().team_id.values}"
   ]
  },
  {
   "cell_type": "code",
   "execution_count": 35,
   "metadata": {
    "collapsed": false
   },
   "outputs": [],
   "source": [
    "for idx, game in games.iterrows():\n",
    "    if game.home_outcome:\n",
    "        if not np.isnan(game.hteam_id):\n",
    "            acc[game.hteam_id]['w'] += 1\n",
    "        if not np.isnan(game.ateam_id):\n",
    "            acc[game.ateam_id]['l'] += 1\n",
    "    else:\n",
    "        if not np.isnan(game.hteam_id):\n",
    "            acc[game.hteam_id]['l'] += 1\n",
    "        if not np.isnan(game.ateam_id):\n",
    "            acc[game.ateam_id]['w'] += 1"
   ]
  },
  {
   "cell_type": "code",
   "execution_count": 40,
   "metadata": {
    "collapsed": false
   },
   "outputs": [
    {
     "data": {
      "text/plain": [
       "{'l': 14, 'ol': 0, 'ool': 0, 'oow': 0, 'ow': 0, 'w': 20}"
      ]
     },
     "execution_count": 40,
     "metadata": {},
     "output_type": "execute_result"
    }
   ],
   "source": [
    "acc[306]"
   ]
  },
  {
   "cell_type": "code",
   "execution_count": 45,
   "metadata": {
    "collapsed": false
   },
   "outputs": [],
   "source": [
    "games = np.array([0, 0, 1, 1, 0, 0, 0, 1, 1, 0, 0, 0, 1, 1, 0, 0]).reshape((4,4))"
   ]
  },
  {
   "cell_type": "code",
   "execution_count": 53,
   "metadata": {
    "collapsed": false
   },
   "outputs": [],
   "source": [
    "data = [['UConn', 64, 'Kansas', 57], ['UConn', 82, 'Duke', 68], ['Minnesota', 71, 'UConn', 72], ['Kansas', 69, 'UConn', 62], ['Duke', 81, 'Minnesota', 70], ['Minnesota', 52, 'Kansas', 62]]"
   ]
  },
  {
   "cell_type": "code",
   "execution_count": 55,
   "metadata": {
    "collapsed": false
   },
   "outputs": [],
   "source": [
    "games = pd.DataFrame(data, columns=['hteam', 'hscore', 'ateam', 'ascore'])"
   ]
  },
  {
   "cell_type": "code",
   "execution_count": 77,
   "metadata": {
    "collapsed": false
   },
   "outputs": [
    {
     "name": "stdout",
     "output_type": "stream",
     "text": [
      "{'Duke': 0, 'Kansas': 1, 'Minnesota': 2, 'UConn': 3}\n"
     ]
    }
   ],
   "source": [
    "teams = np.unique(games.hteam.values.tolist() + games.ateam.values.tolist())\n",
    "teams = pd.DataFrame(teams[:, np.newaxis], columns=['team'])\n",
    "teams['idx'] = range(teams.shape[0])\n",
    "team_index = {team[0]: team[1] for team in teams.values}\n",
    "print team_index"
   ]
  },
  {
   "cell_type": "code",
   "execution_count": 159,
   "metadata": {
    "collapsed": false
   },
   "outputs": [],
   "source": [
    "played = np.zeros(shape=(teams.shape[0], teams.shape[0]))\n",
    "wplayed = np.zeros(shape=(teams.shape[0], teams.shape[0]))\n",
    "wins = np.zeros(shape=(teams.shape[0], teams.shape[0]))\n",
    "wwins = np.zeros(shape=(teams.shape[0], teams.shape[0]))\n",
    "win_loss = {team: {'w': 0, 'l': 0} for team in teams.team.values}\n",
    "for idx, game in games.iterrows():\n",
    "    i, j = (team_index[game.hteam], team_index[game.ateam])\n",
    "#     played[i, j] += 1.\n",
    "#     played[j, i] += 1.\n",
    "    if game.hscore > game.ascore:\n",
    "        wins[i, j] += 0.6 # home team wins 0.6 games\n",
    "        wwins[i, j] += 1.\n",
    "#         played[i, j] += 0.6  # home team played 0.6 games\n",
    "#         played[j, i] += 1.4  # away team played 1.4 games\n",
    "    else:\n",
    "        wins[j, i] += 1.4  # away team wins 1.4 games\n",
    "        wwins[j, i] += 1.\n",
    "    played[i, j] += 0.6  # home team played 0.6 games\n",
    "    played[j, i] += 1.4  # away team played 1.4 games\n",
    "    wplayed[i, j] += 1.\n",
    "    wplayed[j, i] += 1.\n",
    "#         win_loss[game.hteam]['l'] += 0.6\n",
    "#         win_loss[game.ateam]['w'] += 1.4"
   ]
  },
  {
   "cell_type": "code",
   "execution_count": 165,
   "metadata": {
    "collapsed": false
   },
   "outputs": [
    {
     "name": "stdout",
     "output_type": "stream",
     "text": [
      "[[ 0.   0.   0.6  1.4]\n",
      " [ 0.   0.   1.4  2. ]\n",
      " [ 1.4  0.6  0.   0.6]\n",
      " [ 0.6  2.   1.4  0. ]]\n",
      "[[ 0.   0.   0.6  0. ]\n",
      " [ 0.   0.   1.4  0.6]\n",
      " [ 0.   0.   0.   0. ]\n",
      " [ 0.6  0.6  1.4  0. ]]\n",
      "[[ 0.  0.  1.  1.]\n",
      " [ 0.  0.  1.  2.]\n",
      " [ 1.  1.  0.  1.]\n",
      " [ 1.  2.  1.  0.]]\n",
      "[[ 0.  0.  1.  0.]\n",
      " [ 0.  0.  1.  1.]\n",
      " [ 0.  0.  0.  0.]\n",
      " [ 1.  1.  1.  0.]]\n"
     ]
    }
   ],
   "source": [
    "print played\n",
    "print wins\n",
    "print wplayed\n",
    "print wwins"
   ]
  },
  {
   "cell_type": "code",
   "execution_count": 201,
   "metadata": {
    "collapsed": false
   },
   "outputs": [
    {
     "name": "stdout",
     "output_type": "stream",
     "text": [
      "\n"
     ]
    }
   ],
   "source": [
    "def get_wp(team, played, wins, exclude=None):\n",
    "    idx = team_index[team]\n",
    "    if exclude is not None:\n",
    "        exclude_idx = team_index[exclude]\n",
    "        return (np.sum(wins[idx, :]) - wins[idx, exclude_idx]) / (np.sum(played[idx, :]) - played[idx, exclude_idx])\n",
    "    else:\n",
    "        return np.sum(wins[idx, :]) / np.sum(played[idx, :])\n",
    "def opp_wp(team):\n",
    "    idx = team_index[team]\n",
    "    opponents = filter(lambda tup: tup[1] > 0., zip(teams.values[:, 0], wplayed[:, idx]))\n",
    "    vals = [(get_wp(opponent[0], wplayed, wwins, exclude=team), opponent[1]) for opponent in opponents]\n",
    "    return np.sum(x[0] * x[1] for x in vals) / np.sum(x[1] for x in vals)\n",
    "def opp_wp(team):\n",
    "    idx = team_index[team]\n",
    "    opponents = filter(lambda tup: tup[1] > 0., zip(teams.values[:, 0], wplayed[:, idx]))\n",
    "    vals = [(opponent[0], get_wp(opponent[0], wplayed, wwins, exclude=team), opponent[1]) for opponent in opponents]\n",
    "#     return vals\n",
    "    return np.sum(x[1] * x[2] for x in vals) / np.sum(x[2] for x in vals)\n",
    "def opp_opp_wp(team, opp_wp):\n",
    "    pass"
   ]
  },
  {
   "cell_type": "code",
   "execution_count": 202,
   "metadata": {
    "collapsed": false
   },
   "outputs": [
    {
     "name": "stdout",
     "output_type": "stream",
     "text": [
      "{'Duke': {'l': 0, 'w': 0}, 'Kansas': {'l': 0, 'w': 0}, 'Minnesota': {'l': 0, 'w': 0}, 'UConn': {'l': 0, 'w': 0}}\n",
      "Duke 0.3 0.333333333333\n",
      "Kansas 0.588235294118 0.666666666667\n",
      "Minnesota 0.0 0.388888888889\n",
      "UConn 0.65 0.75\n"
     ]
    }
   ],
   "source": [
    "print win_loss\n",
    "for team in win_loss:\n",
    "    wp = get_wp(team, played, wins)\n",
    "    print team, wp, opp_wp(team)"
   ]
  },
  {
   "cell_type": "code",
   "execution_count": 105,
   "metadata": {
    "collapsed": false
   },
   "outputs": [
    {
     "data": {
      "text/plain": [
       "array([['Minnesota', 2],\n",
       "       ['UConn', 3]], dtype=object)"
      ]
     },
     "execution_count": 105,
     "metadata": {},
     "output_type": "execute_result"
    }
   ],
   "source": [
    "teams.values[played[:, 0].astype(bool)]"
   ]
  },
  {
   "cell_type": "code",
   "execution_count": 212,
   "metadata": {
    "collapsed": false
   },
   "outputs": [
    {
     "name": "stdout",
     "output_type": "stream",
     "text": [
      "[[ 0.  0.  1.  1.]\n",
      " [ 0.  0.  1.  2.]\n",
      " [ 1.  1.  0.  1.]\n",
      " [ 1.  2.  1.  0.]]\n"
     ]
    },
    {
     "data": {
      "text/plain": [
       "(array([0, 0, 1, 1, 2, 2, 2, 3, 3, 3]), array([2, 3, 2, 3, 0, 1, 3, 0, 1, 2]))"
      ]
     },
     "execution_count": 212,
     "metadata": {},
     "output_type": "execute_result"
    }
   ],
   "source": [
    "print wplayed#.astype(bool)\n",
    "np.where(wplayed > 0)"
   ]
  },
  {
   "cell_type": "code",
   "execution_count": 260,
   "metadata": {
    "collapsed": false
   },
   "outputs": [
    {
     "name": "stdout",
     "output_type": "stream",
     "text": [
      "[[ 2.  3.  3.  4.]\n",
      " [ 2.  3.  3.  4.]\n",
      " [ 2.  3.  3.  4.]\n",
      " [ 2.  3.  3.  4.]]\n"
     ]
    }
   ],
   "source": [
    "total_played = np.sum(wplayed, axis=1)\n",
    "total_played = np.dot(np.ones(4)[:, np.newaxis], total_played[:, np.newaxis].T)\n",
    "print total_played"
   ]
  },
  {
   "cell_type": "code",
   "execution_count": 249,
   "metadata": {
    "collapsed": false
   },
   "outputs": [
    {
     "name": "stdout",
     "output_type": "stream",
     "text": [
      "[ 1.  2.  0.  3.]\n"
     ]
    }
   ],
   "source": [
    "total_won = np.sum(wwins, axis=1)\n",
    "print total_won\n",
    "total_won = np.dot(np.ones(4)[:, np.newaxis], total_won[:, np.newaxis].T)"
   ]
  },
  {
   "cell_type": "code",
   "execution_count": 263,
   "metadata": {
    "collapsed": false
   },
   "outputs": [
    {
     "name": "stdout",
     "output_type": "stream",
     "text": [
      "[[ 0.  0.  1.  0.]\n",
      " [ 0.  0.  1.  1.]\n",
      " [ 0.  0.  0.  0.]\n",
      " [ 1.  1.  1.  0.]]\n",
      "[[ 0.  0.  1.  1.]\n",
      " [ 0.  0.  1.  2.]\n",
      " [ 1.  1.  0.  1.]\n",
      " [ 1.  2.  1.  0.]]\n"
     ]
    }
   ],
   "source": [
    "print wwins\n",
    "print wplayed"
   ]
  },
  {
   "cell_type": "code",
   "execution_count": 284,
   "metadata": {
    "collapsed": false
   },
   "outputs": [
    {
     "name": "stdout",
     "output_type": "stream",
     "text": [
      "[ 0.3         0.58823529  0.          0.65      ]\n"
     ]
    }
   ],
   "source": [
    "weighted_total_won = np.sum(wins, axis=1)\n",
    "weighted_total_played = np.sum(played, axis=1)\n",
    "wp = weighted_total_won / weighted_total_played\n",
    "print wp"
   ]
  },
  {
   "cell_type": "code",
   "execution_count": 286,
   "metadata": {
    "collapsed": false
   },
   "outputs": [
    {
     "name": "stdout",
     "output_type": "stream",
     "text": [
      "[ 0.33333333  0.66666667  0.38888889  0.75      ]\n"
     ]
    }
   ],
   "source": [
    "owp = (total_won - wwins.T) / ((total_played - wplayed.T))# * (wplayed.T).astype(bool))\n",
    "weights = wplayed.T / np.sum(wplayed.T, axis=0)[:, np.newaxis]\n",
    "owp = np.sum(ow / op * weights, axis=1)\n",
    "print owp"
   ]
  },
  {
   "cell_type": "code",
   "execution_count": 287,
   "metadata": {
    "collapsed": false
   },
   "outputs": [
    {
     "data": {
      "text/plain": [
       "array([[ 2.,  3.,  2.,  3.],\n",
       "       [ 2.,  3.,  2.,  2.],\n",
       "       [ 1.,  2.,  3.,  3.],\n",
       "       [ 1.,  1.,  2.,  4.]])"
      ]
     },
     "execution_count": 287,
     "metadata": {},
     "output_type": "execute_result"
    }
   ],
   "source": [
    "(total_played - wplayed.T)"
   ]
  },
  {
   "cell_type": "code",
   "execution_count": 292,
   "metadata": {
    "collapsed": false
   },
   "outputs": [
    {
     "name": "stdout",
     "output_type": "stream",
     "text": [
      "[ 0.56944444  0.62962963  0.58333333  0.51388889]\n"
     ]
    }
   ],
   "source": [
    "oowp = np.sum(owp * weights, axis=1)\n",
    "print oowp"
   ]
  },
  {
   "cell_type": "code",
   "execution_count": 294,
   "metadata": {
    "collapsed": true
   },
   "outputs": [],
   "source": [
    "def rpi(wp, owp, oowp):\n",
    "    return 0.25*wp + 0.5 * owp + 0.25 * oowp"
   ]
  },
  {
   "cell_type": "code",
   "execution_count": 295,
   "metadata": {
    "collapsed": false
   },
   "outputs": [
    {
     "data": {
      "text/plain": [
       "array([ 0.38402778,  0.63779956,  0.34027778,  0.66597222])"
      ]
     },
     "execution_count": 295,
     "metadata": {},
     "output_type": "execute_result"
    }
   ],
   "source": [
    "rpi(wp, owp, oowp)"
   ]
  },
  {
   "cell_type": "code",
   "execution_count": null,
   "metadata": {
    "collapsed": true
   },
   "outputs": [],
   "source": []
  }
 ],
 "metadata": {
  "kernelspec": {
   "display_name": "Python 2",
   "language": "python",
   "name": "python2"
  },
  "language_info": {
   "codemirror_mode": {
    "name": "ipython",
    "version": 2
   },
   "file_extension": ".py",
   "mimetype": "text/x-python",
   "name": "python",
   "nbconvert_exporter": "python",
   "pygments_lexer": "ipython2",
   "version": "2.7.6"
  }
 },
 "nbformat": 4,
 "nbformat_minor": 0
}
